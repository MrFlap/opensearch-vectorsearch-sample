{
 "cells": [
  {
   "cell_type": "code",
   "execution_count": 3,
   "metadata": {
    "collapsed": false,
    "jupyter": {
     "outputs_hidden": false
    },
    "pycharm": {
     "is_executing": true,
     "name": "#%%\n"
    }
   },
   "outputs": [
    {
     "name": "stdout",
     "output_type": "stream",
     "text": [
      "huggingface/tokenizers: The current process just got forked, after parallelism has already been used. Disabling parallelism to avoid deadlocks...\n",
      "To disable this warning, you can either:\n",
      "\t- Avoid using `tokenizers` before the fork if possible\n",
      "\t- Explicitly set the environment variable TOKENIZERS_PARALLELISM=(true | false)\n",
      "Python 3.10.12\n"
     ]
    }
   ],
   "source": [
    "#### Require python 3.10+\n",
    "!python --version"
   ]
  },
  {
   "cell_type": "code",
   "execution_count": 4,
   "metadata": {
    "collapsed": false,
    "jupyter": {
     "outputs_hidden": false
    },
    "pycharm": {
     "name": "#%%\n"
    }
   },
   "outputs": [
    {
     "name": "stdout",
     "output_type": "stream",
     "text": [
      "huggingface/tokenizers: The current process just got forked, after parallelism has already been used. Disabling parallelism to avoid deadlocks...\n",
      "To disable this warning, you can either:\n",
      "\t- Avoid using `tokenizers` before the fork if possible\n",
      "\t- Explicitly set the environment variable TOKENIZERS_PARALLELISM=(true | false)\n",
      "Collecting package metadata (current_repodata.json): done\n",
      "Solving environment: done\n",
      "\n",
      "\n",
      "==> WARNING: A newer version of conda exists. <==\n",
      "  current version: 4.14.0\n",
      "  latest version: 23.7.4\n",
      "\n",
      "Please update conda by running\n",
      "\n",
      "    $ conda update -n base -c conda-forge conda\n",
      "\n",
      "\n",
      "\n",
      "# All requested packages already installed.\n",
      "\n",
      "Retrieving notices: ...working... done\n",
      "\n",
      "Note: you may need to restart the kernel to use updated packages.\n"
     ]
    }
   ],
   "source": [
    "conda install -c conda-forge ipywidgets"
   ]
  },
  {
   "cell_type": "code",
   "execution_count": 5,
   "metadata": {
    "collapsed": false,
    "jupyter": {
     "outputs_hidden": false
    },
    "pycharm": {
     "name": "#%%\n"
    }
   },
   "outputs": [
    {
     "name": "stdout",
     "output_type": "stream",
     "text": [
      "huggingface/tokenizers: The current process just got forked, after parallelism has already been used. Disabling parallelism to avoid deadlocks...\n",
      "To disable this warning, you can either:\n",
      "\t- Avoid using `tokenizers` before the fork if possible\n",
      "\t- Explicitly set the environment variable TOKENIZERS_PARALLELISM=(true | false)\n",
      "Requirement already satisfied: opensearch-py in /Users/navneev/miniforge3/envs/opensearch-examples/lib/python3.10/site-packages (2.3.1)\n",
      "Requirement already satisfied: python-dotenv in /Users/navneev/miniforge3/envs/opensearch-examples/lib/python3.10/site-packages (1.0.0)\n",
      "Requirement already satisfied: boto3 in /Users/navneev/miniforge3/envs/opensearch-examples/lib/python3.10/site-packages (1.28.53)\n",
      "Requirement already satisfied: tqdm in /Users/navneev/miniforge3/envs/opensearch-examples/lib/python3.10/site-packages (4.66.1)\n",
      "Requirement already satisfied: h5py in /Users/navneev/miniforge3/envs/opensearch-examples/lib/python3.10/site-packages (3.9.0)\n",
      "Requirement already satisfied: matplotlib in /Users/navneev/miniforge3/envs/opensearch-examples/lib/python3.10/site-packages (3.8.0)\n",
      "Requirement already satisfied: ipywidgets in /Users/navneev/miniforge3/envs/opensearch-examples/lib/python3.10/site-packages (8.1.1)\n",
      "Requirement already satisfied: jedi in /Users/navneev/miniforge3/envs/opensearch-examples/lib/python3.10/site-packages (0.19.0)\n",
      "Requirement already satisfied: ipython in /Users/navneev/miniforge3/envs/opensearch-examples/lib/python3.10/site-packages (8.15.0)\n",
      "Requirement already satisfied: sentence_transformers in /Users/navneev/miniforge3/envs/opensearch-examples/lib/python3.10/site-packages (2.2.2)\n",
      "Requirement already satisfied: urllib3<2,>=1.21.1 in /Users/navneev/miniforge3/envs/opensearch-examples/lib/python3.10/site-packages (from opensearch-py) (1.26.16)\n",
      "Requirement already satisfied: requests<3.0.0,>=2.4.0 in /Users/navneev/miniforge3/envs/opensearch-examples/lib/python3.10/site-packages (from opensearch-py) (2.31.0)\n",
      "Requirement already satisfied: six in /Users/navneev/miniforge3/envs/opensearch-examples/lib/python3.10/site-packages (from opensearch-py) (1.16.0)\n",
      "Requirement already satisfied: python-dateutil in /Users/navneev/miniforge3/envs/opensearch-examples/lib/python3.10/site-packages (from opensearch-py) (2.8.2)\n",
      "Requirement already satisfied: certifi>=2022.12.07 in /Users/navneev/miniforge3/envs/opensearch-examples/lib/python3.10/site-packages (from opensearch-py) (2023.7.22)\n",
      "Requirement already satisfied: botocore<1.32.0,>=1.31.53 in /Users/navneev/miniforge3/envs/opensearch-examples/lib/python3.10/site-packages (from boto3) (1.31.53)\n",
      "Requirement already satisfied: jmespath<2.0.0,>=0.7.1 in /Users/navneev/miniforge3/envs/opensearch-examples/lib/python3.10/site-packages (from boto3) (1.0.1)\n",
      "Requirement already satisfied: s3transfer<0.7.0,>=0.6.0 in /Users/navneev/miniforge3/envs/opensearch-examples/lib/python3.10/site-packages (from boto3) (0.6.2)\n",
      "Requirement already satisfied: numpy>=1.17.3 in /Users/navneev/miniforge3/envs/opensearch-examples/lib/python3.10/site-packages (from h5py) (1.26.0)\n",
      "Requirement already satisfied: contourpy>=1.0.1 in /Users/navneev/miniforge3/envs/opensearch-examples/lib/python3.10/site-packages (from matplotlib) (1.1.1)\n",
      "Requirement already satisfied: cycler>=0.10 in /Users/navneev/miniforge3/envs/opensearch-examples/lib/python3.10/site-packages (from matplotlib) (0.11.0)\n",
      "Requirement already satisfied: fonttools>=4.22.0 in /Users/navneev/miniforge3/envs/opensearch-examples/lib/python3.10/site-packages (from matplotlib) (4.42.1)\n",
      "Requirement already satisfied: kiwisolver>=1.0.1 in /Users/navneev/miniforge3/envs/opensearch-examples/lib/python3.10/site-packages (from matplotlib) (1.4.5)\n",
      "Requirement already satisfied: packaging>=20.0 in /Users/navneev/miniforge3/envs/opensearch-examples/lib/python3.10/site-packages (from matplotlib) (23.1)\n",
      "Requirement already satisfied: pillow>=6.2.0 in /Users/navneev/miniforge3/envs/opensearch-examples/lib/python3.10/site-packages (from matplotlib) (10.0.1)\n",
      "Requirement already satisfied: pyparsing>=2.3.1 in /Users/navneev/miniforge3/envs/opensearch-examples/lib/python3.10/site-packages (from matplotlib) (3.1.1)\n",
      "Requirement already satisfied: comm>=0.1.3 in /Users/navneev/miniforge3/envs/opensearch-examples/lib/python3.10/site-packages (from ipywidgets) (0.1.4)\n",
      "Requirement already satisfied: traitlets>=4.3.1 in /Users/navneev/miniforge3/envs/opensearch-examples/lib/python3.10/site-packages (from ipywidgets) (5.10.0)\n",
      "Requirement already satisfied: widgetsnbextension~=4.0.9 in /Users/navneev/miniforge3/envs/opensearch-examples/lib/python3.10/site-packages (from ipywidgets) (4.0.9)\n",
      "Requirement already satisfied: jupyterlab-widgets~=3.0.9 in /Users/navneev/miniforge3/envs/opensearch-examples/lib/python3.10/site-packages (from ipywidgets) (3.0.9)\n",
      "Requirement already satisfied: parso<0.9.0,>=0.8.3 in /Users/navneev/miniforge3/envs/opensearch-examples/lib/python3.10/site-packages (from jedi) (0.8.3)\n",
      "Requirement already satisfied: backcall in /Users/navneev/miniforge3/envs/opensearch-examples/lib/python3.10/site-packages (from ipython) (0.2.0)\n",
      "Requirement already satisfied: decorator in /Users/navneev/miniforge3/envs/opensearch-examples/lib/python3.10/site-packages (from ipython) (5.1.1)\n",
      "Requirement already satisfied: matplotlib-inline in /Users/navneev/miniforge3/envs/opensearch-examples/lib/python3.10/site-packages (from ipython) (0.1.6)\n",
      "Requirement already satisfied: pickleshare in /Users/navneev/miniforge3/envs/opensearch-examples/lib/python3.10/site-packages (from ipython) (0.7.5)\n",
      "Requirement already satisfied: prompt-toolkit!=3.0.37,<3.1.0,>=3.0.30 in /Users/navneev/miniforge3/envs/opensearch-examples/lib/python3.10/site-packages (from ipython) (3.0.39)\n",
      "Requirement already satisfied: pygments>=2.4.0 in /Users/navneev/miniforge3/envs/opensearch-examples/lib/python3.10/site-packages (from ipython) (2.16.1)\n",
      "Requirement already satisfied: stack-data in /Users/navneev/miniforge3/envs/opensearch-examples/lib/python3.10/site-packages (from ipython) (0.6.2)\n",
      "Requirement already satisfied: exceptiongroup in /Users/navneev/miniforge3/envs/opensearch-examples/lib/python3.10/site-packages (from ipython) (1.1.3)\n",
      "Requirement already satisfied: pexpect>4.3 in /Users/navneev/miniforge3/envs/opensearch-examples/lib/python3.10/site-packages (from ipython) (4.8.0)\n",
      "Requirement already satisfied: appnope in /Users/navneev/miniforge3/envs/opensearch-examples/lib/python3.10/site-packages (from ipython) (0.1.3)\n",
      "Requirement already satisfied: transformers<5.0.0,>=4.6.0 in /Users/navneev/miniforge3/envs/opensearch-examples/lib/python3.10/site-packages (from sentence_transformers) (4.33.2)\n",
      "Requirement already satisfied: torch>=1.6.0 in /Users/navneev/miniforge3/envs/opensearch-examples/lib/python3.10/site-packages (from sentence_transformers) (2.0.1)\n",
      "Requirement already satisfied: torchvision in /Users/navneev/miniforge3/envs/opensearch-examples/lib/python3.10/site-packages (from sentence_transformers) (0.15.2)\n",
      "Requirement already satisfied: scikit-learn in /Users/navneev/miniforge3/envs/opensearch-examples/lib/python3.10/site-packages (from sentence_transformers) (1.3.1)\n",
      "Requirement already satisfied: scipy in /Users/navneev/miniforge3/envs/opensearch-examples/lib/python3.10/site-packages (from sentence_transformers) (1.11.2)\n",
      "Requirement already satisfied: nltk in /Users/navneev/miniforge3/envs/opensearch-examples/lib/python3.10/site-packages (from sentence_transformers) (3.8.1)\n",
      "Requirement already satisfied: sentencepiece in /Users/navneev/miniforge3/envs/opensearch-examples/lib/python3.10/site-packages (from sentence_transformers) (0.1.99)\n",
      "Requirement already satisfied: huggingface-hub>=0.4.0 in /Users/navneev/miniforge3/envs/opensearch-examples/lib/python3.10/site-packages (from sentence_transformers) (0.17.2)\n",
      "Requirement already satisfied: filelock in /Users/navneev/miniforge3/envs/opensearch-examples/lib/python3.10/site-packages (from huggingface-hub>=0.4.0->sentence_transformers) (3.12.4)\n",
      "Requirement already satisfied: fsspec in /Users/navneev/miniforge3/envs/opensearch-examples/lib/python3.10/site-packages (from huggingface-hub>=0.4.0->sentence_transformers) (2023.9.2)\n",
      "Requirement already satisfied: pyyaml>=5.1 in /Users/navneev/miniforge3/envs/opensearch-examples/lib/python3.10/site-packages (from huggingface-hub>=0.4.0->sentence_transformers) (6.0.1)\n",
      "Requirement already satisfied: typing-extensions>=3.7.4.3 in /Users/navneev/miniforge3/envs/opensearch-examples/lib/python3.10/site-packages (from huggingface-hub>=0.4.0->sentence_transformers) (4.8.0)\n",
      "Requirement already satisfied: ptyprocess>=0.5 in /Users/navneev/miniforge3/envs/opensearch-examples/lib/python3.10/site-packages (from pexpect>4.3->ipython) (0.7.0)\n",
      "Requirement already satisfied: wcwidth in /Users/navneev/miniforge3/envs/opensearch-examples/lib/python3.10/site-packages (from prompt-toolkit!=3.0.37,<3.1.0,>=3.0.30->ipython) (0.2.6)\n",
      "Requirement already satisfied: charset-normalizer<4,>=2 in /Users/navneev/miniforge3/envs/opensearch-examples/lib/python3.10/site-packages (from requests<3.0.0,>=2.4.0->opensearch-py) (3.2.0)\n",
      "Requirement already satisfied: idna<4,>=2.5 in /Users/navneev/miniforge3/envs/opensearch-examples/lib/python3.10/site-packages (from requests<3.0.0,>=2.4.0->opensearch-py) (3.4)\n",
      "Requirement already satisfied: sympy in /Users/navneev/miniforge3/envs/opensearch-examples/lib/python3.10/site-packages (from torch>=1.6.0->sentence_transformers) (1.12)\n",
      "Requirement already satisfied: networkx in /Users/navneev/miniforge3/envs/opensearch-examples/lib/python3.10/site-packages (from torch>=1.6.0->sentence_transformers) (3.1)\n",
      "Requirement already satisfied: jinja2 in /Users/navneev/miniforge3/envs/opensearch-examples/lib/python3.10/site-packages (from torch>=1.6.0->sentence_transformers) (3.1.2)\n",
      "Requirement already satisfied: regex!=2019.12.17 in /Users/navneev/miniforge3/envs/opensearch-examples/lib/python3.10/site-packages (from transformers<5.0.0,>=4.6.0->sentence_transformers) (2023.8.8)\n",
      "Requirement already satisfied: tokenizers!=0.11.3,<0.14,>=0.11.1 in /Users/navneev/miniforge3/envs/opensearch-examples/lib/python3.10/site-packages (from transformers<5.0.0,>=4.6.0->sentence_transformers) (0.13.3)\n",
      "Requirement already satisfied: safetensors>=0.3.1 in /Users/navneev/miniforge3/envs/opensearch-examples/lib/python3.10/site-packages (from transformers<5.0.0,>=4.6.0->sentence_transformers) (0.3.3)\n",
      "Requirement already satisfied: click in /Users/navneev/miniforge3/envs/opensearch-examples/lib/python3.10/site-packages (from nltk->sentence_transformers) (8.1.7)\n",
      "Requirement already satisfied: joblib in /Users/navneev/miniforge3/envs/opensearch-examples/lib/python3.10/site-packages (from nltk->sentence_transformers) (1.3.2)\n",
      "Requirement already satisfied: threadpoolctl>=2.0.0 in /Users/navneev/miniforge3/envs/opensearch-examples/lib/python3.10/site-packages (from scikit-learn->sentence_transformers) (3.2.0)\n",
      "Requirement already satisfied: executing>=1.2.0 in /Users/navneev/miniforge3/envs/opensearch-examples/lib/python3.10/site-packages (from stack-data->ipython) (1.2.0)\n",
      "Requirement already satisfied: asttokens>=2.1.0 in /Users/navneev/miniforge3/envs/opensearch-examples/lib/python3.10/site-packages (from stack-data->ipython) (2.4.0)\n",
      "Requirement already satisfied: pure-eval in /Users/navneev/miniforge3/envs/opensearch-examples/lib/python3.10/site-packages (from stack-data->ipython) (0.2.2)\n",
      "Requirement already satisfied: MarkupSafe>=2.0 in /Users/navneev/miniforge3/envs/opensearch-examples/lib/python3.10/site-packages (from jinja2->torch>=1.6.0->sentence_transformers) (2.1.3)\n",
      "Requirement already satisfied: mpmath>=0.19 in /Users/navneev/miniforge3/envs/opensearch-examples/lib/python3.10/site-packages (from sympy->torch>=1.6.0->sentence_transformers) (1.3.0)\n"
     ]
    }
   ],
   "source": [
    "!pip install --no-cache-dir opensearch-py python-dotenv boto3 tqdm h5py matplotlib ipywidgets jedi ipython sentence_transformers\n"
   ]
  },
  {
   "cell_type": "code",
   "execution_count": 6,
   "metadata": {},
   "outputs": [],
   "source": [
    "# For autocomplete use shift+tab\n",
    "%config IPCompleter.greedy=True"
   ]
  },
  {
   "cell_type": "code",
   "execution_count": 3,
   "metadata": {},
   "outputs": [
    {
     "name": "stdout",
     "output_type": "stream",
     "text": [
      "  % Total    % Received % Xferd  Average Speed   Time    Time     Time  Current\n",
      "                                 Dload  Upload   Total   Spent    Left  Speed\n",
      "100 2750k  100 2750k    0     0   961k      0  0:00:02  0:00:02 --:--:--  968k\n",
      "Archive:  scifact.zip\n",
      "   creating: scifact/\n",
      "   creating: scifact/qrels/\n",
      "  inflating: scifact/qrels/train.tsv  \n",
      "  inflating: scifact/qrels/test.tsv  \n",
      "  inflating: scifact/corpus.jsonl    \n",
      "  inflating: scifact/queries.jsonl   \n"
     ]
    }
   ],
   "source": [
    "# Download a dataset Scifact\n",
    "\n",
    "!curl -o scifact.zip -L https://public.ukp.informatik.tu-darmstadt.de/thakur/BEIR/datasets/scifact.zip\n",
    "!unzip scifact.zip\n"
   ]
  },
  {
   "cell_type": "code",
   "execution_count": 21,
   "metadata": {
    "collapsed": false,
    "pycharm": {
     "name": "#%%\n"
    }
   },
   "outputs": [
    {
     "name": "stdout",
     "output_type": "stream",
     "text": [
      "Loading dataset... \n"
     ]
    },
    {
     "data": {
      "application/vnd.jupyter.widget-view+json": {
       "model_id": "85eaa501cba14601800013b011681cf1",
       "version_major": 2,
       "version_minor": 0
      },
      "text/plain": [
       "  0%|          | 0/5183 [00:00<?, ?it/s]"
      ]
     },
     "metadata": {},
     "output_type": "display_data"
    },
    {
     "name": "stdout",
     "output_type": "stream",
     "text": [
      "Dataset size is : 5183\n",
      "Loading queries... \n"
     ]
    },
    {
     "data": {
      "application/vnd.jupyter.widget-view+json": {
       "model_id": "5703ab6f563b48448e089ead3e0787c9",
       "version_major": 2,
       "version_minor": 0
      },
      "text/plain": [
       "  0%|          | 0/1109 [00:00<?, ?it/s]"
      ]
     },
     "metadata": {},
     "output_type": "display_data"
    },
    {
     "name": "stdout",
     "output_type": "stream",
     "text": [
      "Queries size is : 1109\n"
     ]
    }
   ],
   "source": [
    "# Read Data set\n",
    "\n",
    "from tqdm.notebook import tqdm\n",
    "import json\n",
    "import pathlib, os\n",
    "\n",
    "\n",
    "\n",
    "\n",
    "corpus_file = \"./scifact/corpus.jsonl\"\n",
    "queries_file = \"./scifact/queries.jsonl\"\n",
    "\n",
    "num_lines = sum(1 for i in open(corpus_file, 'rb'))\n",
    "corpus = {}\n",
    "queries = {}\n",
    "print(f\"Loading dataset... \")\n",
    "with open(corpus_file, encoding='utf8') as fIn:\n",
    "    for line in tqdm(fIn, total=num_lines):\n",
    "        line = json.loads(line)\n",
    "        corpus[line.get(\"_id\")] = {\n",
    "            \"text\": line.get(\"text\"),\n",
    "            \"title\": line.get(\"title\"),\n",
    "        }\n",
    "\n",
    "print(f\"Dataset size is : {num_lines}\")\n",
    "\n",
    "\n",
    "print(f\"Loading queries... \")\n",
    "num_lines = sum(1 for i in open(queries_file, 'rb'))\n",
    "queries = {}\n",
    "\n",
    "with open(queries_file, encoding='utf8') as fIn:\n",
    "    for line in tqdm(fIn, total=num_lines):\n",
    "        line = json.loads(line)\n",
    "        queries[line.get(\"_id\")] = line.get(\"text\")\n",
    "\n",
    "\n",
    "print(f\"Queries size is : {num_lines}\")"
   ]
  },
  {
   "cell_type": "code",
   "execution_count": null,
   "metadata": {},
   "outputs": [],
   "source": [
    "# Using sentence Transformer model Example\n",
    "from sentence_transformers import SentenceTransformer\n",
    "model = SentenceTransformer('all-MiniLM-L6-v2')\n",
    "\n",
    "#Our sentences we like to encode\n",
    "sentences = ['This framework generates embeddings for each input sentence',\n",
    "    'Sentences are passed as a list of string.', \n",
    "    'The quick brown fox jumps over the lazy dog.']\n",
    "\n",
    "#Sentences are encoded by calling model.encode()\n",
    "sentence_embeddings = model.encode(sentences)\n",
    "\n",
    "#Print the embeddings\n",
    "for sentence, embedding in zip(sentences, sentence_embeddings):\n",
    "    print(\"Sentence:\", sentence)\n",
    "    print(\"Embedding:\", embedding)\n",
    "    print(\"\")"
   ]
  },
  {
   "cell_type": "code",
   "execution_count": 9,
   "metadata": {
    "collapsed": false,
    "pycharm": {
     "name": "#%%\n"
    }
   },
   "outputs": [
    {
     "data": {
      "text/plain": [
       "{'name': '428d6ce63b054e8d1dd55d36eb0ea810',\n",
       " 'cluster_name': '199552501713:go-daddy-xlarge',\n",
       " 'cluster_uuid': 'Sc_tsdMeQ-6R8gdYNCY1FQ',\n",
       " 'version': {'distribution': 'opensearch',\n",
       "  'number': '2.7.0',\n",
       "  'build_type': 'tar',\n",
       "  'build_hash': 'unknown',\n",
       "  'build_date': '2023-08-08T16:51:18.396423063Z',\n",
       "  'build_snapshot': False,\n",
       "  'lucene_version': '9.5.0',\n",
       "  'minimum_wire_compatibility_version': '7.10.0',\n",
       "  'minimum_index_compatibility_version': '7.0.0'},\n",
       " 'tagline': 'The OpenSearch Project: https://opensearch.org/'}"
      ]
     },
     "execution_count": 9,
     "metadata": {},
     "output_type": "execute_result"
    }
   ],
   "source": [
    "from dotenv import load_dotenv\n",
    "from opensearchpy import OpenSearch, RequestsHttpConnection\n",
    "import os\n",
    "\n",
    "\n",
    "res = load_dotenv(\"environment.txt\")\n",
    "\n",
    "OS_HOST = os.getenv('OS_HOST')\n",
    "OS_PORT = os.getenv('OS_PORT')\n",
    "OS_USER = os.getenv('USER_NAME')\n",
    "OS_PASSWORD = os.getenv('PASSWORD')\n",
    "\n",
    "\n",
    "client = OpenSearch(\n",
    "    hosts = [{'host': OS_HOST, 'port': OS_PORT}],\n",
    "    http_compress = True, # enables gzip compression for request bodies\n",
    "    http_auth = (OS_USER, OS_PASSWORD),\n",
    "    use_ssl = True,\n",
    "    verify_certs = True,\n",
    "    connection_class = RequestsHttpConnection,\n",
    "    timeout=6000,\n",
    "    pool_maxsize = 20\n",
    ")\n",
    "\n",
    "client.info()\n",
    "\n"
   ]
  },
  {
   "cell_type": "code",
   "execution_count": 57,
   "metadata": {
    "collapsed": false,
    "pycharm": {
     "name": "#%%\n"
    }
   },
   "outputs": [
    {
     "name": "stdout",
     "output_type": "stream",
     "text": [
      "vector name from env is : test_vector\n",
      "Deleting the index. Response : {'acknowledged': True}\n",
      "Creating the index. Response : {'acknowledged': True, 'shards_acknowledged': True, 'index': 'test_vector'}\n"
     ]
    }
   ],
   "source": [
    "hybrid_search_index_name = os.getenv('HYBRID_SEARCH_INDEX_NAME', \"hybrid_search_index\")\n",
    "\n",
    "print(f\"hybrid search index name from env is : {hybrid_search_index_name}\")\n",
    "\n",
    "index_mappings = {\n",
    "    \"settings\": {\n",
    "        \"number_of_shards\": 1,\n",
    "        \"number_of_replicas\": 0,\n",
    "        #\"refresh_interval\": \"-1\",\n",
    "        \"index\": {\n",
    "          \"knn\": True,\n",
    "          \"knn.algo_param.ef_search\": 128 # Adjust to improve precision. Higher improves recall & precsion but increases latency. Lower degrades recall & precision but improves latency.\n",
    "        }\n",
    "    },\n",
    "    \"mappings\": {\n",
    "        \"properties\": {\n",
    "            \"vec\": {\n",
    "                \"type\": \"knn_vector\",\n",
    "                \"dimension\": dimension,\n",
    "                \"index\": \"true\",\n",
    "                \"method\": {\n",
    "                    \"name\": \"hnsw\",\n",
    "                    \"space_type\": \"l2\", # l2 for SIFT, cosinesimil for typical\n",
    "                    \"engine\": \"nmslib\",\n",
    "                    \"parameters\": {\n",
    "                        \"ef_construction\": 128\n",
    "                    }\n",
    "                }\n",
    "            }\n",
    "        }\n",
    "    }\n",
    "}\n",
    "\n",
    "if client.indices.exists(index=hybrid_search_index_name):\n",
    "    response = client.indices.delete(index=hybrid_search_index_name)\n",
    "    print(f\"Deleting the index. Response : {response}\")\n",
    "\n",
    "response = client.indices.create(index=hybrid_search_index_name, body=index_mappings)\n",
    "print(f\"Creating the index. Response : {response}\")\n",
    "\n"
   ]
  },
  {
   "cell_type": "code",
   "execution_count": 62,
   "metadata": {},
   "outputs": [
    {
     "data": {
      "text/plain": [
       "{'_shards': {'total': 1, 'successful': 1, 'failed': 0}}"
      ]
     },
     "execution_count": 62,
     "metadata": {},
     "output_type": "execute_result"
    }
   ],
   "source": [
    "# Refresh the index as we set the refresh interval to -1\n",
    "client.indices.refresh(index=hybrid_search_index_name)\n",
    "\n"
   ]
  },
  {
   "cell_type": "code",
   "execution_count": null,
   "metadata": {},
   "outputs": [],
   "source": [
    "# Parallelization for Search"
   ]
  }
 ],
 "metadata": {
  "kernelspec": {
   "display_name": "Python 3 (ipykernel)",
   "language": "python",
   "name": "python3"
  },
  "language_info": {
   "codemirror_mode": {
    "name": "ipython",
    "version": 3
   },
   "file_extension": ".py",
   "mimetype": "text/x-python",
   "name": "python",
   "nbconvert_exporter": "python",
   "pygments_lexer": "ipython3",
   "version": "3.10.12"
  }
 },
 "nbformat": 4,
 "nbformat_minor": 4
}
