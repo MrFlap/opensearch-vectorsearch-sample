{
 "cells": [
  {
   "cell_type": "code",
   "execution_count": 1,
   "metadata": {
    "collapsed": false,
    "jupyter": {
     "outputs_hidden": false
    },
    "pycharm": {
     "is_executing": true,
     "name": "#%%\n"
    }
   },
   "outputs": [
    {
     "name": "stdout",
     "output_type": "stream",
     "text": [
      "Python 3.10.12\n"
     ]
    }
   ],
   "source": [
    "#### Require python 3.10+\n",
    "!python --version"
   ]
  },
  {
   "cell_type": "code",
   "execution_count": 2,
   "metadata": {},
   "outputs": [
    {
     "name": "stdout",
     "output_type": "stream",
     "text": [
      "Found existing installation: nltk 3.8.1\n",
      "Uninstalling nltk-3.8.1:\n",
      "  Would remove:\n",
      "    /Users/navneev/miniforge3/envs/opensearch-examples/bin/nltk\n",
      "    /Users/navneev/miniforge3/envs/opensearch-examples/lib/python3.10/site-packages/nltk-3.8.1.dist-info/*\n",
      "    /Users/navneev/miniforge3/envs/opensearch-examples/lib/python3.10/site-packages/nltk/*\n",
      "Proceed (Y/n)? ^C\n",
      "\u001b[31mERROR: Operation cancelled by user\u001b[0m\u001b[31m\n",
      "\u001b[0m"
     ]
    }
   ],
   "source": [
    "!pip uninstall nltk"
   ]
  },
  {
   "cell_type": "code",
   "execution_count": 3,
   "metadata": {
    "collapsed": false,
    "jupyter": {
     "outputs_hidden": false
    },
    "pycharm": {
     "name": "#%%\n"
    }
   },
   "outputs": [
    {
     "name": "stdout",
     "output_type": "stream",
     "text": [
      "Collecting package metadata (current_repodata.json): done\n",
      "Solving environment: done\n",
      "\n",
      "\n",
      "==> WARNING: A newer version of conda exists. <==\n",
      "  current version: 4.14.0\n",
      "  latest version: 23.7.4\n",
      "\n",
      "Please update conda by running\n",
      "\n",
      "    $ conda update -n base -c conda-forge conda\n",
      "\n",
      "\n",
      "\n",
      "# All requested packages already installed.\n",
      "\n",
      "Retrieving notices: ...working... done\n",
      "\n",
      "Note: you may need to restart the kernel to use updated packages.\n"
     ]
    }
   ],
   "source": [
    "conda install -c conda-forge ipywidgets"
   ]
  },
  {
   "cell_type": "code",
   "execution_count": 26,
   "metadata": {
    "collapsed": false,
    "jupyter": {
     "outputs_hidden": false
    },
    "pycharm": {
     "name": "#%%\n"
    }
   },
   "outputs": [
    {
     "name": "stdout",
     "output_type": "stream",
     "text": [
      "Requirement already satisfied: opensearch-py in /Users/navneev/miniforge3/envs/opensearch-examples/lib/python3.10/site-packages (2.3.1)\n",
      "Requirement already satisfied: python-dotenv in /Users/navneev/miniforge3/envs/opensearch-examples/lib/python3.10/site-packages (1.0.0)\n",
      "Requirement already satisfied: boto3 in /Users/navneev/miniforge3/envs/opensearch-examples/lib/python3.10/site-packages (1.28.53)\n",
      "Requirement already satisfied: tqdm in /Users/navneev/miniforge3/envs/opensearch-examples/lib/python3.10/site-packages (4.66.1)\n",
      "Requirement already satisfied: h5py in /Users/navneev/miniforge3/envs/opensearch-examples/lib/python3.10/site-packages (3.9.0)\n",
      "Requirement already satisfied: matplotlib in /Users/navneev/miniforge3/envs/opensearch-examples/lib/python3.10/site-packages (3.8.0)\n",
      "Requirement already satisfied: ipywidgets in /Users/navneev/miniforge3/envs/opensearch-examples/lib/python3.10/site-packages (8.1.1)\n",
      "Requirement already satisfied: jedi in /Users/navneev/miniforge3/envs/opensearch-examples/lib/python3.10/site-packages (0.19.0)\n",
      "Requirement already satisfied: ipython in /Users/navneev/miniforge3/envs/opensearch-examples/lib/python3.10/site-packages (8.15.0)\n",
      "Requirement already satisfied: sentence_transformers in /Users/navneev/miniforge3/envs/opensearch-examples/lib/python3.10/site-packages (2.2.2)\n",
      "Requirement already satisfied: urllib3<2,>=1.21.1 in /Users/navneev/miniforge3/envs/opensearch-examples/lib/python3.10/site-packages (from opensearch-py) (1.26.16)\n",
      "Requirement already satisfied: requests<3.0.0,>=2.4.0 in /Users/navneev/miniforge3/envs/opensearch-examples/lib/python3.10/site-packages (from opensearch-py) (2.31.0)\n",
      "Requirement already satisfied: six in /Users/navneev/miniforge3/envs/opensearch-examples/lib/python3.10/site-packages (from opensearch-py) (1.16.0)\n",
      "Requirement already satisfied: python-dateutil in /Users/navneev/miniforge3/envs/opensearch-examples/lib/python3.10/site-packages (from opensearch-py) (2.8.2)\n",
      "Requirement already satisfied: certifi>=2022.12.07 in /Users/navneev/miniforge3/envs/opensearch-examples/lib/python3.10/site-packages (from opensearch-py) (2023.7.22)\n",
      "Requirement already satisfied: botocore<1.32.0,>=1.31.53 in /Users/navneev/miniforge3/envs/opensearch-examples/lib/python3.10/site-packages (from boto3) (1.31.53)\n",
      "Requirement already satisfied: jmespath<2.0.0,>=0.7.1 in /Users/navneev/miniforge3/envs/opensearch-examples/lib/python3.10/site-packages (from boto3) (1.0.1)\n",
      "Requirement already satisfied: s3transfer<0.7.0,>=0.6.0 in /Users/navneev/miniforge3/envs/opensearch-examples/lib/python3.10/site-packages (from boto3) (0.6.2)\n",
      "Requirement already satisfied: numpy>=1.17.3 in /Users/navneev/miniforge3/envs/opensearch-examples/lib/python3.10/site-packages (from h5py) (1.26.0)\n",
      "Requirement already satisfied: contourpy>=1.0.1 in /Users/navneev/miniforge3/envs/opensearch-examples/lib/python3.10/site-packages (from matplotlib) (1.1.1)\n",
      "Requirement already satisfied: cycler>=0.10 in /Users/navneev/miniforge3/envs/opensearch-examples/lib/python3.10/site-packages (from matplotlib) (0.11.0)\n",
      "Requirement already satisfied: fonttools>=4.22.0 in /Users/navneev/miniforge3/envs/opensearch-examples/lib/python3.10/site-packages (from matplotlib) (4.42.1)\n",
      "Requirement already satisfied: kiwisolver>=1.0.1 in /Users/navneev/miniforge3/envs/opensearch-examples/lib/python3.10/site-packages (from matplotlib) (1.4.5)\n",
      "Requirement already satisfied: packaging>=20.0 in /Users/navneev/miniforge3/envs/opensearch-examples/lib/python3.10/site-packages (from matplotlib) (23.1)\n",
      "Requirement already satisfied: pillow>=6.2.0 in /Users/navneev/miniforge3/envs/opensearch-examples/lib/python3.10/site-packages (from matplotlib) (10.0.1)\n",
      "Requirement already satisfied: pyparsing>=2.3.1 in /Users/navneev/miniforge3/envs/opensearch-examples/lib/python3.10/site-packages (from matplotlib) (3.1.1)\n",
      "Requirement already satisfied: comm>=0.1.3 in /Users/navneev/miniforge3/envs/opensearch-examples/lib/python3.10/site-packages (from ipywidgets) (0.1.4)\n",
      "Requirement already satisfied: traitlets>=4.3.1 in /Users/navneev/miniforge3/envs/opensearch-examples/lib/python3.10/site-packages (from ipywidgets) (5.10.0)\n",
      "Requirement already satisfied: widgetsnbextension~=4.0.9 in /Users/navneev/miniforge3/envs/opensearch-examples/lib/python3.10/site-packages (from ipywidgets) (4.0.9)\n",
      "Requirement already satisfied: jupyterlab-widgets~=3.0.9 in /Users/navneev/miniforge3/envs/opensearch-examples/lib/python3.10/site-packages (from ipywidgets) (3.0.9)\n",
      "Requirement already satisfied: parso<0.9.0,>=0.8.3 in /Users/navneev/miniforge3/envs/opensearch-examples/lib/python3.10/site-packages (from jedi) (0.8.3)\n",
      "Requirement already satisfied: backcall in /Users/navneev/miniforge3/envs/opensearch-examples/lib/python3.10/site-packages (from ipython) (0.2.0)\n",
      "Requirement already satisfied: decorator in /Users/navneev/miniforge3/envs/opensearch-examples/lib/python3.10/site-packages (from ipython) (5.1.1)\n",
      "Requirement already satisfied: matplotlib-inline in /Users/navneev/miniforge3/envs/opensearch-examples/lib/python3.10/site-packages (from ipython) (0.1.6)\n",
      "Requirement already satisfied: pickleshare in /Users/navneev/miniforge3/envs/opensearch-examples/lib/python3.10/site-packages (from ipython) (0.7.5)\n",
      "Requirement already satisfied: prompt-toolkit!=3.0.37,<3.1.0,>=3.0.30 in /Users/navneev/miniforge3/envs/opensearch-examples/lib/python3.10/site-packages (from ipython) (3.0.39)\n",
      "Requirement already satisfied: pygments>=2.4.0 in /Users/navneev/miniforge3/envs/opensearch-examples/lib/python3.10/site-packages (from ipython) (2.16.1)\n",
      "Requirement already satisfied: stack-data in /Users/navneev/miniforge3/envs/opensearch-examples/lib/python3.10/site-packages (from ipython) (0.6.2)\n",
      "Requirement already satisfied: exceptiongroup in /Users/navneev/miniforge3/envs/opensearch-examples/lib/python3.10/site-packages (from ipython) (1.1.3)\n",
      "Requirement already satisfied: pexpect>4.3 in /Users/navneev/miniforge3/envs/opensearch-examples/lib/python3.10/site-packages (from ipython) (4.8.0)\n",
      "Requirement already satisfied: appnope in /Users/navneev/miniforge3/envs/opensearch-examples/lib/python3.10/site-packages (from ipython) (0.1.3)\n",
      "Requirement already satisfied: transformers<5.0.0,>=4.6.0 in /Users/navneev/miniforge3/envs/opensearch-examples/lib/python3.10/site-packages (from sentence_transformers) (4.33.2)\n",
      "Requirement already satisfied: torch>=1.6.0 in /Users/navneev/miniforge3/envs/opensearch-examples/lib/python3.10/site-packages (from sentence_transformers) (2.0.1)\n",
      "Requirement already satisfied: torchvision in /Users/navneev/miniforge3/envs/opensearch-examples/lib/python3.10/site-packages (from sentence_transformers) (0.15.2)\n",
      "Requirement already satisfied: scikit-learn in /Users/navneev/miniforge3/envs/opensearch-examples/lib/python3.10/site-packages (from sentence_transformers) (1.3.1)\n",
      "Requirement already satisfied: scipy in /Users/navneev/miniforge3/envs/opensearch-examples/lib/python3.10/site-packages (from sentence_transformers) (1.11.2)\n",
      "Requirement already satisfied: nltk in /Users/navneev/miniforge3/envs/opensearch-examples/lib/python3.10/site-packages (from sentence_transformers) (3.8.1)\n",
      "Requirement already satisfied: sentencepiece in /Users/navneev/miniforge3/envs/opensearch-examples/lib/python3.10/site-packages (from sentence_transformers) (0.1.99)\n",
      "Requirement already satisfied: huggingface-hub>=0.4.0 in /Users/navneev/miniforge3/envs/opensearch-examples/lib/python3.10/site-packages (from sentence_transformers) (0.17.2)\n",
      "Requirement already satisfied: filelock in /Users/navneev/miniforge3/envs/opensearch-examples/lib/python3.10/site-packages (from huggingface-hub>=0.4.0->sentence_transformers) (3.12.4)\n",
      "Requirement already satisfied: fsspec in /Users/navneev/miniforge3/envs/opensearch-examples/lib/python3.10/site-packages (from huggingface-hub>=0.4.0->sentence_transformers) (2023.9.2)\n",
      "Requirement already satisfied: pyyaml>=5.1 in /Users/navneev/miniforge3/envs/opensearch-examples/lib/python3.10/site-packages (from huggingface-hub>=0.4.0->sentence_transformers) (6.0.1)\n",
      "Requirement already satisfied: typing-extensions>=3.7.4.3 in /Users/navneev/miniforge3/envs/opensearch-examples/lib/python3.10/site-packages (from huggingface-hub>=0.4.0->sentence_transformers) (4.8.0)\n",
      "Requirement already satisfied: ptyprocess>=0.5 in /Users/navneev/miniforge3/envs/opensearch-examples/lib/python3.10/site-packages (from pexpect>4.3->ipython) (0.7.0)\n",
      "Requirement already satisfied: wcwidth in /Users/navneev/miniforge3/envs/opensearch-examples/lib/python3.10/site-packages (from prompt-toolkit!=3.0.37,<3.1.0,>=3.0.30->ipython) (0.2.6)\n",
      "Requirement already satisfied: charset-normalizer<4,>=2 in /Users/navneev/miniforge3/envs/opensearch-examples/lib/python3.10/site-packages (from requests<3.0.0,>=2.4.0->opensearch-py) (3.2.0)\n",
      "Requirement already satisfied: idna<4,>=2.5 in /Users/navneev/miniforge3/envs/opensearch-examples/lib/python3.10/site-packages (from requests<3.0.0,>=2.4.0->opensearch-py) (3.4)\n",
      "Requirement already satisfied: sympy in /Users/navneev/miniforge3/envs/opensearch-examples/lib/python3.10/site-packages (from torch>=1.6.0->sentence_transformers) (1.12)\n",
      "Requirement already satisfied: networkx in /Users/navneev/miniforge3/envs/opensearch-examples/lib/python3.10/site-packages (from torch>=1.6.0->sentence_transformers) (3.1)\n",
      "Requirement already satisfied: jinja2 in /Users/navneev/miniforge3/envs/opensearch-examples/lib/python3.10/site-packages (from torch>=1.6.0->sentence_transformers) (3.1.2)\n",
      "Requirement already satisfied: regex!=2019.12.17 in /Users/navneev/miniforge3/envs/opensearch-examples/lib/python3.10/site-packages (from transformers<5.0.0,>=4.6.0->sentence_transformers) (2023.8.8)\n",
      "Requirement already satisfied: tokenizers!=0.11.3,<0.14,>=0.11.1 in /Users/navneev/miniforge3/envs/opensearch-examples/lib/python3.10/site-packages (from transformers<5.0.0,>=4.6.0->sentence_transformers) (0.13.3)\n",
      "Requirement already satisfied: safetensors>=0.3.1 in /Users/navneev/miniforge3/envs/opensearch-examples/lib/python3.10/site-packages (from transformers<5.0.0,>=4.6.0->sentence_transformers) (0.3.3)\n",
      "Requirement already satisfied: click in /Users/navneev/miniforge3/envs/opensearch-examples/lib/python3.10/site-packages (from nltk->sentence_transformers) (8.1.7)\n",
      "Requirement already satisfied: joblib in /Users/navneev/miniforge3/envs/opensearch-examples/lib/python3.10/site-packages (from nltk->sentence_transformers) (1.3.2)\n",
      "Requirement already satisfied: threadpoolctl>=2.0.0 in /Users/navneev/miniforge3/envs/opensearch-examples/lib/python3.10/site-packages (from scikit-learn->sentence_transformers) (3.2.0)\n",
      "Requirement already satisfied: executing>=1.2.0 in /Users/navneev/miniforge3/envs/opensearch-examples/lib/python3.10/site-packages (from stack-data->ipython) (1.2.0)\n",
      "Requirement already satisfied: asttokens>=2.1.0 in /Users/navneev/miniforge3/envs/opensearch-examples/lib/python3.10/site-packages (from stack-data->ipython) (2.4.0)\n",
      "Requirement already satisfied: pure-eval in /Users/navneev/miniforge3/envs/opensearch-examples/lib/python3.10/site-packages (from stack-data->ipython) (0.2.2)\n",
      "Requirement already satisfied: MarkupSafe>=2.0 in /Users/navneev/miniforge3/envs/opensearch-examples/lib/python3.10/site-packages (from jinja2->torch>=1.6.0->sentence_transformers) (2.1.3)\n",
      "Requirement already satisfied: mpmath>=0.19 in /Users/navneev/miniforge3/envs/opensearch-examples/lib/python3.10/site-packages (from sympy->torch>=1.6.0->sentence_transformers) (1.3.0)\n"
     ]
    }
   ],
   "source": [
    "!pip install --no-cache-dir opensearch-py python-dotenv boto3 tqdm h5py matplotlib ipywidgets jedi ipython sentence_transformers\n"
   ]
  },
  {
   "cell_type": "code",
   "execution_count": 4,
   "metadata": {},
   "outputs": [],
   "source": [
    "# For autocomplete use shift+tab\n",
    "%config IPCompleter.greedy=True"
   ]
  },
  {
   "cell_type": "code",
   "execution_count": 3,
   "metadata": {},
   "outputs": [
    {
     "name": "stdout",
     "output_type": "stream",
     "text": [
      "  % Total    % Received % Xferd  Average Speed   Time    Time     Time  Current\n",
      "                                 Dload  Upload   Total   Spent    Left  Speed\n",
      "100 2750k  100 2750k    0     0   961k      0  0:00:02  0:00:02 --:--:--  968k\n",
      "Archive:  scifact.zip\n",
      "   creating: scifact/\n",
      "   creating: scifact/qrels/\n",
      "  inflating: scifact/qrels/train.tsv  \n",
      "  inflating: scifact/qrels/test.tsv  \n",
      "  inflating: scifact/corpus.jsonl    \n",
      "  inflating: scifact/queries.jsonl   \n"
     ]
    }
   ],
   "source": [
    "# Download a dataset Scifact\n",
    "\n",
    "!curl -o scifact.zip -L https://public.ukp.informatik.tu-darmstadt.de/thakur/BEIR/datasets/scifact.zip\n",
    "!unzip scifact.zip\n"
   ]
  },
  {
   "cell_type": "code",
   "execution_count": 59,
   "metadata": {
    "collapsed": false,
    "pycharm": {
     "name": "#%%\n"
    }
   },
   "outputs": [
    {
     "name": "stdout",
     "output_type": "stream",
     "text": [
      "Loading dataset... \n"
     ]
    },
    {
     "data": {
      "application/vnd.jupyter.widget-view+json": {
       "model_id": "80ff0266084344daafcfa0dfd97a6f42",
       "version_major": 2,
       "version_minor": 0
      },
      "text/plain": [
       "  0%|          | 0/5183 [00:00<?, ?it/s]"
      ]
     },
     "metadata": {},
     "output_type": "display_data"
    },
    {
     "name": "stdout",
     "output_type": "stream",
     "text": [
      "Dataset size is : 5183\n",
      "Loading queries... \n"
     ]
    },
    {
     "data": {
      "application/vnd.jupyter.widget-view+json": {
       "model_id": "2dff43e76ced49b886dbab6e846d6c21",
       "version_major": 2,
       "version_minor": 0
      },
      "text/plain": [
       "  0%|          | 0/1109 [00:00<?, ?it/s]"
      ]
     },
     "metadata": {},
     "output_type": "display_data"
    },
    {
     "name": "stdout",
     "output_type": "stream",
     "text": [
      "Queries size is : 1109\n"
     ]
    }
   ],
   "source": [
    "# Read Data set\n",
    "\n",
    "from tqdm.notebook import tqdm\n",
    "import json\n",
    "\n",
    "corpus_file = \"./scifact/corpus.jsonl\"\n",
    "queries_file = \"./scifact/queries.jsonl\"\n",
    "\n",
    "num_lines = sum(1 for i in open(corpus_file, 'rb'))\n",
    "corpus = {}\n",
    "queries = {}\n",
    "print(f\"Loading dataset... \")\n",
    "with open(corpus_file, encoding='utf8') as fIn:\n",
    "    for line in tqdm(fIn, total=num_lines):\n",
    "        line = json.loads(line)\n",
    "        corpus[line.get(\"_id\")] = {\n",
    "            \"text\": line.get(\"text\"),\n",
    "            \"title\": line.get(\"title\"),\n",
    "        }\n",
    "\n",
    "print(f\"Dataset size is : {num_lines}\")\n",
    "\n",
    "print(f\"Loading queries... \")\n",
    "num_lines = sum(1 for i in open(queries_file, 'rb'))\n",
    "queries = {}\n",
    "\n",
    "with open(queries_file, encoding='utf8') as fIn:\n",
    "    for line in tqdm(fIn, total=num_lines):\n",
    "        line = json.loads(line)\n",
    "        queries[line.get(\"_id\")] = { \n",
    "            \"text\": line.get(\"text\")\n",
    "        }\n",
    "\n",
    "\n",
    "print(f\"Queries size is : {num_lines}\")"
   ]
  },
  {
   "cell_type": "code",
   "execution_count": 20,
   "metadata": {},
   "outputs": [
    {
     "name": "stdout",
     "output_type": "stream",
     "text": [
      "Sentence: This framework generates embeddings for each input sentence\n",
      "Embedding: [-1.37173515e-02 -4.28515263e-02 -1.56286191e-02  1.40537461e-02\n",
      "  3.95537652e-02  1.21796273e-01  2.94333976e-02 -3.17524374e-02\n",
      "  3.54959629e-02 -7.93140009e-02  1.75878499e-02 -4.04369719e-02\n",
      "  4.97259013e-02  2.54912358e-02 -7.18700811e-02  8.14968571e-02\n",
      "  1.47071795e-03  4.79627065e-02 -4.50336374e-02 -9.92175341e-02\n",
      " -2.81769596e-02  6.45046309e-02  4.44670394e-02 -4.76217121e-02\n",
      " -3.52952704e-02  4.38671745e-02 -5.28566167e-02  4.33056121e-04\n",
      "  1.01921491e-01  1.64072365e-02  3.26996744e-02 -3.45986672e-02\n",
      "  1.21339224e-02  7.94870928e-02  4.58344305e-03  1.57778151e-02\n",
      " -9.68209282e-03  2.87625547e-02 -5.05805984e-02 -1.55793717e-02\n",
      " -2.87906677e-02 -9.62280110e-03  3.15556712e-02  2.27348469e-02\n",
      "  8.71449336e-02 -3.85027304e-02 -8.84718299e-02 -8.75501614e-03\n",
      " -2.12343130e-02  2.08923612e-02 -9.02077407e-02 -5.25731780e-02\n",
      " -1.05638774e-02  2.88310535e-02 -1.61455069e-02  6.17838791e-03\n",
      " -1.23234559e-02 -1.07337199e-02  2.83353571e-02 -5.28567918e-02\n",
      " -3.58617939e-02 -5.97989261e-02 -1.09055331e-02  2.91566215e-02\n",
      "  7.97979236e-02 -3.27887363e-04  6.83502434e-03  1.32718226e-02\n",
      " -4.24620360e-02  1.87656786e-02 -9.89234298e-02  2.09049582e-02\n",
      " -8.69605690e-02 -1.50151672e-02 -4.86201867e-02  8.04414451e-02\n",
      " -3.67700867e-03 -6.65044338e-02  1.14556767e-01 -3.04228589e-02\n",
      "  2.96631772e-02 -2.80695446e-02  4.64989841e-02 -2.25513950e-02\n",
      "  8.54223445e-02  3.15446481e-02  7.34541938e-02 -2.21862160e-02\n",
      " -5.29678725e-02  1.27130346e-02 -5.27339689e-02 -1.06188744e-01\n",
      "  7.04731643e-02  2.76736747e-02 -8.05531740e-02  2.39649639e-02\n",
      " -2.65125185e-02 -2.17330623e-02  4.35275584e-02  4.84712161e-02\n",
      " -2.37067603e-02  2.85768434e-02  1.11846149e-01 -6.34935945e-02\n",
      " -1.58318412e-02 -2.26169862e-02 -1.31027624e-02 -1.62068335e-03\n",
      " -3.60928960e-02 -9.78297517e-02 -4.67728972e-02  1.76271796e-02\n",
      " -3.97492163e-02 -1.76405243e-04  3.39627713e-02 -2.09633317e-02\n",
      "  6.33664429e-03 -2.59410962e-02  8.10410604e-02  6.14393540e-02\n",
      " -5.44592040e-03  6.48276061e-02 -1.16844088e-01  2.36860998e-02\n",
      " -1.32058430e-02 -1.12476498e-01  1.90049317e-02 -1.74660874e-34\n",
      "  5.58949634e-02  1.94244310e-02  4.65438738e-02  5.18645570e-02\n",
      "  3.89390551e-02  3.40541229e-02 -4.32114378e-02  7.90636986e-02\n",
      " -9.79529843e-02 -1.27441008e-02 -2.91870851e-02  1.02052214e-02\n",
      "  1.88115984e-02  1.08942538e-01  6.63464516e-02 -5.35295382e-02\n",
      " -3.29228528e-02  4.69827242e-02  2.28883065e-02  2.74114665e-02\n",
      " -2.91982908e-02  3.12706456e-02 -2.22850516e-02 -1.02282204e-01\n",
      " -2.79116500e-02  1.13793192e-02  9.06308740e-02 -4.75414544e-02\n",
      " -1.00718945e-01 -1.23231979e-02 -7.96928555e-02 -1.44636109e-02\n",
      " -7.76401013e-02 -7.66920485e-03  9.73955262e-03  2.24204883e-02\n",
      "  7.77268410e-02 -3.17154522e-03  2.11538319e-02 -3.30393910e-02\n",
      "  9.55248065e-03 -3.73011827e-02  2.61360630e-02 -9.79088899e-03\n",
      " -6.31505698e-02  5.77434851e-03 -3.80030870e-02  1.29684890e-02\n",
      " -1.82499513e-02 -1.56283118e-02 -1.23361358e-03  5.55579104e-02\n",
      "  1.13094145e-04 -5.61256446e-02  7.40165338e-02  1.84452366e-02\n",
      " -2.66368464e-02  1.31952111e-02  7.50086606e-02 -2.46796571e-02\n",
      " -3.24006006e-02 -1.57675017e-02 -8.03518202e-03 -5.61317476e-03\n",
      "  1.05687762e-02  3.26165534e-03 -3.91990170e-02 -9.38677192e-02\n",
      "  1.14227191e-01  6.57304525e-02 -4.72633876e-02  1.45087428e-02\n",
      " -3.54490243e-02 -3.37761790e-02 -5.15505783e-02 -3.81004857e-03\n",
      " -5.15036359e-02 -5.93429171e-02 -1.69412477e-03  7.42107406e-02\n",
      " -4.20091674e-02 -7.19974712e-02  3.17250155e-02 -1.66303236e-02\n",
      "  3.96983977e-03 -6.52750880e-02  2.77391039e-02 -7.51649216e-02\n",
      "  2.27455478e-02 -3.91368158e-02  1.54315801e-02 -5.54908738e-02\n",
      "  1.23318788e-02 -2.59520691e-02  6.66423663e-02 -6.91258866e-34\n",
      "  3.31628881e-02  8.47928748e-02 -6.65583834e-02  3.33541222e-02\n",
      "  4.71609924e-03  1.35361915e-02 -5.38694337e-02  9.20693949e-02\n",
      " -2.96876561e-02  3.16219851e-02 -2.37496961e-02  1.98771022e-02\n",
      "  1.03446200e-01 -9.06947255e-02  6.30624453e-03  1.42886313e-02\n",
      "  1.19294124e-02  6.43722992e-03  4.20104675e-02  1.25344815e-02\n",
      "  3.93019170e-02  5.35691828e-02 -4.30749990e-02  6.10432029e-02\n",
      " -5.39859029e-05  6.91682398e-02  1.05520058e-02  1.22112064e-02\n",
      " -7.23185018e-02  2.50469781e-02 -5.18371277e-02 -4.36562300e-02\n",
      " -6.71818703e-02  1.34828258e-02 -7.25888908e-02  7.04168761e-03\n",
      "  6.58939630e-02  1.08994441e-02 -2.60012550e-03  5.49968854e-02\n",
      "  5.06966710e-02  3.27948928e-02 -6.68832883e-02  6.45557567e-02\n",
      " -2.52075624e-02 -2.92572044e-02 -1.16696715e-01  3.24064642e-02\n",
      "  5.85858300e-02 -3.51756439e-02 -7.15240017e-02  2.24935766e-02\n",
      " -1.00786701e-01 -4.74545099e-02 -7.61963278e-02 -5.87166250e-02\n",
      "  4.21138555e-02 -7.47213662e-02  1.98467895e-02 -3.36502469e-03\n",
      " -5.29736616e-02  2.74729915e-02  3.45736891e-02 -6.11846298e-02\n",
      "  1.06364816e-01 -9.64119658e-02 -4.55944873e-02  1.51489666e-02\n",
      " -5.13523119e-03 -6.64447919e-02  4.31721732e-02 -1.10405665e-02\n",
      " -9.80250351e-03  7.53783062e-02 -1.49571253e-02 -4.80208434e-02\n",
      "  5.80726489e-02 -2.43896581e-02 -2.23137252e-02 -4.36992198e-02\n",
      "  5.12053929e-02 -3.28626186e-02  1.08763315e-01  6.08926378e-02\n",
      "  3.30790295e-03  5.53819798e-02  8.43201354e-02  1.27087599e-02\n",
      "  3.84465270e-02  6.52325526e-02 -2.94683911e-02  5.08005023e-02\n",
      " -2.09348053e-02  1.46135688e-01  2.25561187e-02 -1.77227761e-08\n",
      " -5.02672717e-02 -2.79230037e-04 -1.00328632e-01  2.42811199e-02\n",
      " -7.54043609e-02 -3.79139744e-02  3.96050029e-02  3.10079549e-02\n",
      " -9.05705709e-03 -6.50412142e-02  4.05453257e-02  4.83390056e-02\n",
      " -4.56962325e-02  4.76005394e-03  2.64361780e-03  9.35614258e-02\n",
      " -4.02599648e-02  3.27401869e-02  1.18298009e-02  5.54344840e-02\n",
      "  1.48052230e-01  7.21189082e-02  2.76958774e-04  1.68651473e-02\n",
      "  8.34883004e-03 -8.76153447e-03 -1.33649614e-02  6.14237338e-02\n",
      "  1.57168023e-02  6.94960877e-02  1.08621977e-02  6.08018301e-02\n",
      " -5.33421785e-02 -3.47923785e-02 -3.36271934e-02  6.93907067e-02\n",
      "  1.22987702e-02 -1.45237371e-01 -2.06968631e-03 -4.61132452e-02\n",
      "  3.72749683e-03 -5.59356296e-03 -1.00659840e-01 -4.45953235e-02\n",
      "  5.40921241e-02  4.98891110e-03  1.49534279e-02 -8.26059729e-02\n",
      "  6.26631156e-02 -5.01904357e-03 -4.81857508e-02 -3.53991278e-02\n",
      "  9.03387275e-03 -2.42338032e-02  5.66267259e-02  2.51529124e-02\n",
      " -1.70708857e-02 -1.24780312e-02  3.19518112e-02  1.38421264e-02\n",
      " -1.55814979e-02  1.00178242e-01  1.23657219e-01 -4.22966965e-02]\n",
      "\n",
      "Sentence: Sentences are passed as a list of string.\n",
      "Embedding: [ 5.64524420e-02  5.50023988e-02  3.13796401e-02  3.39485444e-02\n",
      " -3.54247279e-02  8.34667981e-02  9.88801271e-02  7.27544352e-03\n",
      " -6.68657571e-03 -7.65811093e-03  7.93738216e-02  7.39692361e-04\n",
      "  1.49292089e-02 -1.51046980e-02  3.67674343e-02  4.78743389e-02\n",
      " -4.81969304e-02 -3.76052149e-02 -4.60278466e-02 -8.89816359e-02\n",
      "  1.20228112e-01  1.30663246e-01 -3.73935699e-02  2.47858674e-03\n",
      "  2.55820854e-03  7.25814700e-02 -6.80436492e-02 -5.24696559e-02\n",
      "  4.90234047e-02  2.99562849e-02 -5.84429502e-02 -2.02263165e-02\n",
      "  2.08821986e-02  9.76691619e-02  3.52390334e-02  3.91140729e-02\n",
      "  1.05667831e-02  1.56232913e-03 -1.30823217e-02  8.52901209e-03\n",
      " -4.84095234e-03 -2.03766972e-02 -2.71801073e-02  2.83307433e-02\n",
      "  3.66017707e-02  2.51276139e-02 -9.90861654e-02  1.15626315e-02\n",
      " -3.60379927e-02 -7.23783746e-02 -1.12670109e-01  1.12941898e-02\n",
      " -3.86397392e-02  4.67385948e-02 -2.88460702e-02  2.26703733e-02\n",
      " -8.52404255e-03  3.32815275e-02 -1.06581184e-03 -7.09745735e-02\n",
      " -6.31169900e-02 -5.72186820e-02 -6.16026223e-02  5.47146611e-02\n",
      "  1.18317353e-02 -4.66261394e-02  2.56959908e-02 -7.07413303e-03\n",
      " -5.73843047e-02  4.12839577e-02 -5.91502935e-02  5.89022003e-02\n",
      " -4.41697352e-02  4.65081669e-02 -3.15814167e-02  5.58312535e-02\n",
      "  5.54578453e-02 -5.96533641e-02  4.06407118e-02  4.83768061e-03\n",
      " -4.96768281e-02 -1.00944385e-01  3.40078063e-02  4.13270108e-03\n",
      " -2.93526496e-03  2.11837571e-02 -3.73962037e-02 -2.79066954e-02\n",
      " -4.61767949e-02  5.26138246e-02 -2.79735159e-02 -1.62379235e-01\n",
      "  6.61042705e-02  1.72274094e-02 -5.45112463e-03  4.74473946e-02\n",
      " -3.82237211e-02 -3.96896675e-02  1.34544298e-02  4.49653752e-02\n",
      "  4.53674374e-03  2.82978863e-02  8.36632922e-02 -1.00858109e-02\n",
      " -1.19353965e-01 -3.84624489e-02  4.82858643e-02 -9.46084112e-02\n",
      "  1.91854183e-02 -9.96518582e-02 -6.30596355e-02  3.02696042e-02\n",
      "  1.17402589e-02 -4.78372425e-02 -6.20264933e-03 -3.32850665e-02\n",
      " -4.04386083e-03  1.28307082e-02  4.05254066e-02  7.56476969e-02\n",
      "  2.92434804e-02  2.84270346e-02 -2.78939065e-02  1.66857783e-02\n",
      " -2.47961804e-02 -6.83650747e-02  2.89968606e-02 -5.39867748e-33\n",
      " -2.69013294e-03 -2.65069026e-02 -6.47948647e-04 -8.46193172e-03\n",
      " -7.35154673e-02  4.94082458e-03 -5.97842187e-02  1.03438320e-02\n",
      "  2.12904811e-03 -2.88219610e-03 -3.17076296e-02 -9.42364410e-02\n",
      "  3.03019900e-02  7.00226352e-02  4.50685620e-02  3.69439498e-02\n",
      "  1.13593405e-02  3.53026800e-02  5.50447498e-03  1.34414074e-03\n",
      "  3.46121122e-03  7.75047243e-02  5.45112416e-02 -7.92055950e-02\n",
      " -9.31697264e-02 -4.03398536e-02  3.10668554e-02 -3.83081175e-02\n",
      " -5.89443184e-02  1.93331875e-02 -2.67160032e-02 -7.91937858e-02\n",
      "  1.04174127e-04  7.70621300e-02  4.16603349e-02  8.90932232e-02\n",
      "  3.56843248e-02 -1.09153390e-02  3.71498279e-02 -2.07070243e-02\n",
      " -2.46100929e-02 -2.05025058e-02  2.62201093e-02  3.43590677e-02\n",
      "  4.39251401e-02 -8.20516981e-03 -8.40709955e-02  4.24170494e-02\n",
      "  4.87498529e-02  5.95384985e-02  2.87747514e-02  3.37638445e-02\n",
      " -4.07443158e-02 -1.66371453e-03  7.91927278e-02  3.41088399e-02\n",
      " -5.72816352e-04  1.87749434e-02 -1.36963697e-02  7.38332942e-02\n",
      "  5.74499078e-04  8.33505392e-02  5.60810827e-02 -1.13710724e-02\n",
      "  4.42611389e-02  2.69581955e-02 -4.80535664e-02 -3.15087289e-02\n",
      "  7.75226131e-02  1.81773100e-02 -8.83005112e-02 -7.85519369e-03\n",
      " -6.22243024e-02  7.19373003e-02 -2.33475231e-02  6.52481336e-03\n",
      " -9.49526578e-03 -9.88313407e-02  4.01306376e-02  3.07397060e-02\n",
      " -2.21606903e-02 -9.45911556e-02  1.02368016e-02  1.02187775e-01\n",
      " -4.12960164e-02 -3.15777883e-02  4.74752299e-02 -1.10209785e-01\n",
      "  1.69614572e-02 -3.71709019e-02 -1.03261834e-02 -4.72537987e-02\n",
      " -1.20213917e-02 -1.93255227e-02  5.79292476e-02  4.23865355e-34\n",
      "  3.92013304e-02  8.41361731e-02 -1.02946706e-01  6.92259744e-02\n",
      "  1.68821570e-02 -3.26760747e-02  9.65959392e-03  1.80899650e-02\n",
      "  2.17939634e-02  1.63189340e-02 -9.69292074e-02  3.74850957e-03\n",
      " -2.38456614e-02 -3.44055854e-02  7.11962953e-02  9.21920699e-04\n",
      " -6.23856205e-03  3.23754326e-02 -8.90400202e-04  5.01901517e-03\n",
      " -4.24538068e-02  9.89083797e-02 -4.60321195e-02  4.69705202e-02\n",
      " -1.75284613e-02 -7.02516083e-03  1.32743577e-02 -5.30152209e-02\n",
      "  2.66405870e-03  1.45819029e-02  7.43343867e-03 -3.07131503e-02\n",
      " -2.09416170e-02  8.24110508e-02 -5.15893809e-02 -2.71178409e-02\n",
      "  1.17582999e-01  7.72507396e-03 -1.89523194e-02  3.94559279e-02\n",
      "  7.17360377e-02  2.59116720e-02  2.75191665e-02  9.50540788e-03\n",
      " -3.02355643e-02 -4.07945029e-02 -1.04028478e-01 -7.97421578e-03\n",
      " -3.64455814e-03  3.29716802e-02 -2.35954560e-02 -7.50512909e-03\n",
      " -5.82234524e-02 -3.17906365e-02 -4.18049395e-02  2.17453595e-02\n",
      " -6.67292029e-02 -4.89104241e-02  4.58516134e-03 -2.66045965e-02\n",
      " -1.12597041e-01  5.11167906e-02  5.48534356e-02 -6.69856817e-02\n",
      "  1.26766324e-01 -8.59487727e-02 -5.94231784e-02 -2.92185089e-03\n",
      " -1.14875669e-02 -1.26025766e-01 -3.48278694e-03 -9.12001804e-02\n",
      " -1.22933045e-01  1.33777279e-02 -4.75774668e-02 -6.57933578e-02\n",
      " -3.39410119e-02 -3.07107270e-02 -5.22034168e-02 -2.35463977e-02\n",
      "  5.90034723e-02 -3.85757722e-02  3.19701135e-02  4.05118093e-02\n",
      "  1.67077873e-02 -3.58280912e-02  1.45688038e-02  3.20137739e-02\n",
      " -1.34843681e-02  6.07819818e-02 -8.31401348e-03 -1.08105903e-02\n",
      "  4.69410755e-02  7.66134039e-02 -4.23400216e-02 -2.11963318e-08\n",
      " -7.25292712e-02 -4.20227833e-02 -6.12374581e-02  5.24666980e-02\n",
      " -1.42363720e-02  1.18487170e-02 -1.40789226e-02 -3.67530026e-02\n",
      " -4.44977619e-02 -1.15140071e-02  5.23316599e-02  2.96651889e-02\n",
      " -4.62780036e-02 -3.70892212e-02  1.89130064e-02  2.04306804e-02\n",
      " -2.24006176e-02 -1.48562780e-02 -1.79504324e-02  4.20007631e-02\n",
      "  1.40942819e-02 -2.83492599e-02 -1.16863027e-01  1.48956589e-02\n",
      " -7.30579311e-04  5.66028170e-02 -2.68740524e-02  1.09106638e-01\n",
      "  2.94564385e-03  1.19267933e-01  1.14212446e-01  8.92973393e-02\n",
      " -1.70255713e-02 -4.99054007e-02 -2.11930759e-02  3.18421274e-02\n",
      "  7.03436434e-02 -1.02929436e-01  8.23816881e-02  2.81968080e-02\n",
      "  3.21146250e-02  3.79108153e-02 -1.09553084e-01  8.19620490e-02\n",
      "  8.73216614e-02 -5.73563799e-02 -2.01708954e-02 -5.69444597e-02\n",
      " -1.30338306e-02 -5.55684157e-02 -1.32965939e-02  8.64009373e-03\n",
      "  5.30012771e-02 -4.06847335e-02  2.71709394e-02 -2.55949097e-03\n",
      "  3.05775888e-02 -4.61865328e-02  4.68032155e-03 -3.64946872e-02\n",
      "  6.80802688e-02  6.65087327e-02  8.49151909e-02 -3.32849063e-02]\n",
      "\n",
      "Sentence: The quick brown fox jumps over the lazy dog.\n",
      "Embedding: [ 4.39335406e-02  5.89344278e-02  4.81783599e-02  7.75481239e-02\n",
      "  2.67443750e-02 -3.76295745e-02 -2.60511250e-03 -5.99430278e-02\n",
      " -2.49600341e-03  2.20727958e-02  4.80259471e-02  5.57553098e-02\n",
      " -3.89454104e-02 -2.66167969e-02  7.69338431e-03 -2.62376741e-02\n",
      " -3.64160612e-02 -3.78161296e-02  7.40781501e-02 -4.95050289e-02\n",
      " -5.85217476e-02 -6.36196584e-02  3.24349962e-02  2.20085680e-02\n",
      " -7.10637197e-02 -3.31577882e-02 -6.94104135e-02 -5.00373915e-02\n",
      "  7.46267810e-02 -1.11133851e-01 -1.23063186e-02  3.77456769e-02\n",
      " -2.80313194e-02  1.45353703e-02 -3.15585807e-02 -8.05835873e-02\n",
      "  5.83525561e-02  2.59003253e-03  3.92802395e-02  2.57695634e-02\n",
      "  4.98505868e-02 -1.75623572e-03 -4.55297790e-02  2.92607881e-02\n",
      " -1.02017283e-01  5.22287749e-02 -7.90899545e-02 -1.02857202e-02\n",
      "  9.20247287e-03  1.30732451e-02 -4.04777974e-02 -2.77925208e-02\n",
      "  1.24667501e-02  6.72832951e-02  6.81248233e-02 -7.57116824e-03\n",
      " -6.09937916e-03 -4.23776880e-02  5.17815910e-02 -1.56707298e-02\n",
      "  9.56362486e-03  4.12390605e-02  2.14959104e-02  1.04293609e-02\n",
      "  2.73349825e-02  1.87062416e-02 -2.69607492e-02 -7.00542182e-02\n",
      " -1.04700528e-01 -1.89873879e-03  1.77016426e-02 -5.74725345e-02\n",
      " -1.44223133e-02  4.70502855e-04  2.33227573e-03 -2.51920465e-02\n",
      "  4.93004359e-02 -5.09609915e-02  6.31983057e-02  1.49164805e-02\n",
      " -2.70766467e-02 -4.52875979e-02 -4.90594804e-02  3.74940261e-02\n",
      "  3.84579934e-02  1.56905886e-03  3.09922490e-02  2.01630313e-02\n",
      " -1.24363611e-02 -3.06720007e-02 -2.78819017e-02 -6.89182505e-02\n",
      " -5.13677113e-02  2.14795750e-02  1.15747023e-02  1.25413982e-03\n",
      "  1.88765414e-02 -4.42319103e-02 -4.49817404e-02 -3.41870706e-03\n",
      "  1.31131103e-02  2.00099442e-02  1.21099778e-01  2.31074914e-02\n",
      " -2.20159683e-02 -3.28847021e-02 -3.15514230e-03  1.17842232e-04\n",
      "  9.91498306e-02  1.65239461e-02 -4.69672261e-03 -1.45366890e-02\n",
      " -3.71075561e-03  9.65136290e-02  2.85907798e-02  2.13482045e-02\n",
      " -7.17645437e-02 -2.41142325e-02 -4.40940894e-02 -1.07346885e-01\n",
      "  6.79945797e-02  1.30466774e-01 -7.97030032e-02  6.79507013e-03\n",
      " -2.37511862e-02 -4.61636558e-02 -2.99650785e-02 -3.69410010e-33\n",
      "  7.30969980e-02 -2.20171269e-02 -8.61464366e-02 -7.14379400e-02\n",
      " -6.36742041e-02 -7.21863434e-02 -5.93046006e-03 -2.33641099e-02\n",
      " -2.83658151e-02  4.77434844e-02 -8.06176737e-02 -1.56476686e-03\n",
      "  1.38443531e-02 -2.86235847e-02 -3.35386433e-02 -1.13777556e-01\n",
      " -9.17632226e-03 -1.08101266e-02  3.23195904e-02  5.88380583e-02\n",
      "  3.34208794e-02  1.07987963e-01 -3.72713134e-02 -2.96770670e-02\n",
      "  5.17190397e-02 -2.25338824e-02 -6.96090907e-02 -2.14475244e-02\n",
      " -2.33410932e-02  4.82199453e-02 -3.58766578e-02 -4.68991175e-02\n",
      " -3.97873558e-02  1.10813200e-01 -1.43006649e-02 -1.18464515e-01\n",
      "  5.82914948e-02 -6.25889078e-02 -2.94040814e-02  6.03238568e-02\n",
      " -2.44415924e-03  1.60116069e-02  2.67233625e-02  2.49530226e-02\n",
      " -6.49318919e-02 -1.06802098e-02  2.81465184e-02  1.03563434e-02\n",
      " -6.63615239e-04  1.98186599e-02 -3.04288361e-02  6.28422061e-03\n",
      "  5.15268296e-02 -4.75375019e-02 -6.44420981e-02  9.55031589e-02\n",
      "  7.55858198e-02 -2.81574503e-02 -3.49965915e-02  1.01816416e-01\n",
      "  1.98732521e-02 -3.68036963e-02  2.93525774e-03 -5.00745177e-02\n",
      "  1.50932148e-01 -6.16079271e-02 -8.58812928e-02  7.13993236e-03\n",
      " -1.33065619e-02  7.80405104e-02  1.75250620e-02  4.21279185e-02\n",
      "  3.57939713e-02 -1.32950440e-01  3.56970541e-02 -2.03116983e-02\n",
      "  1.24909775e-02 -3.80355790e-02  4.91543412e-02 -1.56540927e-02\n",
      "  1.21418245e-01 -8.08644742e-02 -4.68781926e-02  4.10843231e-02\n",
      " -1.84317883e-02  6.69690743e-02  4.33594408e-03  2.27315202e-02\n",
      " -1.36428839e-02 -4.53238375e-02 -3.92829739e-02 -6.29887544e-03\n",
      "  5.29610254e-02 -3.69064361e-02  7.11677149e-02  2.33343214e-33\n",
      "  1.05231367e-01 -4.81874794e-02  6.95918947e-02  6.56976253e-02\n",
      " -4.65148650e-02  5.14492802e-02 -1.24475174e-02  3.20871994e-02\n",
      " -9.23356637e-02  5.00933081e-02 -3.28876041e-02  1.39139099e-02\n",
      " -8.70231190e-04 -4.90906043e-03  1.03946410e-01  3.21613450e-04\n",
      "  5.28110377e-02 -1.17990486e-02  2.31565777e-02  1.31768165e-02\n",
      " -5.25962412e-02  3.26702558e-02  3.08645394e-04  6.41129017e-02\n",
      "  3.88500728e-02  5.88008203e-02  8.29793438e-02 -1.88149642e-02\n",
      " -2.26377472e-02 -1.00473627e-01 -3.83752920e-02 -5.88081665e-02\n",
      "  1.82417850e-03 -4.26995270e-02  2.50195283e-02  6.40060082e-02\n",
      " -3.77482884e-02 -6.83901925e-03 -2.54608574e-03 -9.76043120e-02\n",
      "  1.88475680e-02 -8.83160799e-04  1.73611585e-02  7.10790455e-02\n",
      "  3.30393128e-02  6.93422090e-03 -5.60523197e-02  5.14634773e-02\n",
      " -4.29542139e-02  4.60077673e-02 -8.78831837e-03  3.17289121e-02\n",
      "  4.93965596e-02  2.95189936e-02 -5.05193099e-02 -5.43187261e-02\n",
      "  1.49975051e-04 -2.76614837e-02  3.46878693e-02 -2.10890137e-02\n",
      "  1.38059901e-02  2.99886521e-02  1.39744030e-02 -4.26469697e-03\n",
      " -1.50337322e-02 -8.76095593e-02 -6.85054287e-02 -4.28141207e-02\n",
      "  7.76945055e-02 -7.10285380e-02 -7.37685664e-03  2.13726982e-02\n",
      "  1.35562224e-02 -7.90464655e-02  5.47665078e-03  8.30663294e-02\n",
      "  1.14147983e-01  1.80760794e-03  8.75491127e-02 -4.16045114e-02\n",
      "  1.55416308e-02 -1.01206312e-02 -7.32435333e-03  1.07966578e-02\n",
      " -6.62816986e-02  3.98414023e-02 -1.16711564e-01  6.42993674e-02\n",
      "  4.02920134e-02 -6.54741451e-02  1.95052642e-02  8.09995532e-02\n",
      "  5.36464229e-02  7.67969713e-02 -1.34852370e-02 -1.76919048e-08\n",
      " -4.43935506e-02  9.20643657e-03 -8.79590213e-02  4.26921435e-02\n",
      "  7.31364712e-02  1.68427303e-02 -4.03263047e-02  1.85131859e-02\n",
      "  8.44172984e-02 -3.74476872e-02  3.02996207e-02  2.90642213e-02\n",
      "  6.36878982e-02  2.89750211e-02 -1.47269825e-02  1.77543238e-02\n",
      " -3.36895399e-02  1.73160918e-02  3.37875299e-02  1.76826090e-01\n",
      " -1.75532978e-02 -6.03077933e-02 -1.43395076e-02 -2.38536317e-02\n",
      " -4.45530973e-02 -2.89850365e-02 -8.96776468e-02 -1.75941200e-03\n",
      " -2.61486061e-02  5.94001217e-03 -5.18355481e-02  8.57279599e-02\n",
      " -8.18398818e-02  8.35437980e-03  4.00789864e-02  4.17764485e-02\n",
      "  1.04573525e-01 -2.86564813e-03  1.96690932e-02  5.81047731e-03\n",
      "  1.33253206e-02  4.51001301e-02 -2.17588618e-02 -1.39493393e-02\n",
      " -6.86992630e-02 -2.94117862e-03 -3.10765002e-02 -1.05854422e-01\n",
      "  6.91624209e-02 -4.24114987e-02 -4.67682220e-02 -3.64750624e-02\n",
      "  4.50399667e-02  6.09816760e-02 -6.56561255e-02 -5.45643969e-03\n",
      " -1.86226945e-02 -6.31484836e-02 -3.87436599e-02  3.46733630e-02\n",
      "  5.55458479e-02  5.21628037e-02  5.61065488e-02  1.02063894e-01]\n",
      "\n",
      "SentenceTransformer(\n",
      "  (0): Transformer({'max_seq_length': 256, 'do_lower_case': False}) with Transformer model: BertModel \n",
      "  (1): Pooling({'word_embedding_dimension': 384, 'pooling_mode_cls_token': False, 'pooling_mode_mean_tokens': True, 'pooling_mode_max_tokens': False, 'pooling_mode_mean_sqrt_len_tokens': False})\n",
      "  (2): Normalize()\n",
      ")\n",
      "Model dimension is : 384\n"
     ]
    }
   ],
   "source": [
    "# Using sentence Transformer model Example\n",
    "from sentence_transformers import SentenceTransformer\n",
    "model = SentenceTransformer('all-MiniLM-L6-v2')\n",
    "\n",
    "#Our sentences we like to encode\n",
    "sentences = ['This framework generates embeddings for each input sentence',\n",
    "    'Sentences are passed as a list of string.', \n",
    "    'The quick brown fox jumps over the lazy dog.']\n",
    "\n",
    "#Sentences are encoded by calling model.encode()\n",
    "sentence_embeddings = model.encode(sentences)\n",
    "\n",
    "#Print the embeddings\n",
    "for sentence, embedding in zip(sentences, sentence_embeddings):\n",
    "    print(\"Sentence:\", sentence)\n",
    "    print(\"Embedding:\", embedding)\n",
    "    print(\"\")\n",
    "print(model)\n",
    "dimension = model.get_sentence_embedding_dimension()\n",
    "print(f\"Model dimension is : {dimension}\")"
   ]
  },
  {
   "cell_type": "code",
   "execution_count": 50,
   "metadata": {
    "collapsed": false,
    "pycharm": {
     "name": "#%%\n"
    }
   },
   "outputs": [
    {
     "name": "stdout",
     "output_type": "stream",
     "text": [
      "hybrid search index name from env is : hybrid_search_index\n"
     ]
    }
   ],
   "source": [
    "from dotenv import load_dotenv\n",
    "from opensearchpy import OpenSearch, RequestsHttpConnection\n",
    "import os\n",
    "\n",
    "\n",
    "res = load_dotenv(\"environment.txt\")\n",
    "\n",
    "OS_HOST = os.getenv('OS_HOST')\n",
    "OS_PORT = os.getenv('OS_PORT')\n",
    "OS_USER = os.getenv('USER_NAME')\n",
    "OS_PASSWORD = os.getenv('PASSWORD')\n",
    "\n",
    "\n",
    "client = OpenSearch(\n",
    "    hosts = [{'host': OS_HOST, 'port': OS_PORT}],\n",
    "    http_compress = True, # enables gzip compression for request bodies\n",
    "    http_auth = (OS_USER, OS_PASSWORD),\n",
    "    use_ssl = True,\n",
    "    verify_certs = True,\n",
    "    connection_class = RequestsHttpConnection,\n",
    "    timeout=6000,\n",
    "    pool_maxsize = 20\n",
    ")\n",
    "\n",
    "client.info()\n",
    "hybrid_search_index_name = os.getenv('HYBRID_SEARCH_INDEX_NAME', \"hybrid_search_index\")\n",
    "print(f\"hybrid search index name from env is : {hybrid_search_index_name}\")\n"
   ]
  },
  {
   "cell_type": "code",
   "execution_count": 22,
   "metadata": {
    "collapsed": false,
    "pycharm": {
     "name": "#%%\n"
    }
   },
   "outputs": [
    {
     "name": "stdout",
     "output_type": "stream",
     "text": [
      "Creating the index. Response : {'acknowledged': True, 'shards_acknowledged': True, 'index': 'hybrid_search_index'}\n"
     ]
    }
   ],
   "source": [
    "def create_index(index_name, dimension):\n",
    "    index_mappings = {\n",
    "        \"settings\": {\n",
    "            \"number_of_shards\": 1,\n",
    "            \"number_of_replicas\": 0,\n",
    "            #\"refresh_interval\": \"-1\",\n",
    "            \"index\": {\n",
    "            \"knn\": True,\n",
    "            \"knn.algo_param.ef_search\": 128 # Adjust to improve precision. Higher improves recall & precsion but increases latency. Lower degrades recall & precision but improves latency.\n",
    "            }\n",
    "        },\n",
    "        \"mappings\": {\n",
    "            \"properties\": {\n",
    "                \"vec\": {\n",
    "                    \"type\": \"knn_vector\",\n",
    "                    \"dimension\": dimension,\n",
    "                    \"index\": \"true\",\n",
    "                    \"method\": {\n",
    "                        \"name\": \"hnsw\",\n",
    "                        \"space_type\": \"l2\", # l2 for SIFT, cosinesimil for typical\n",
    "                        \"engine\": \"nmslib\",\n",
    "                        \"parameters\": {\n",
    "                            \"ef_construction\": 128\n",
    "                        }\n",
    "                    }\n",
    "                }\n",
    "            }\n",
    "        }\n",
    "    }\n",
    "\n",
    "    if client.indices.exists(index=index_name):\n",
    "        response = client.indices.delete(index=index_name)\n",
    "        print(f\"Deleting the index. Response : {response}\")\n",
    "\n",
    "    response = client.indices.create(index=index_name, body=index_mappings)\n",
    "    print(f\"Creating the index. Response : {response}\")\n",
    "\n",
    "create_index(hybrid_search_index_name, dimension)"
   ]
  },
  {
   "cell_type": "code",
   "execution_count": 62,
   "metadata": {},
   "outputs": [
    {
     "data": {
      "text/plain": [
       "{'_shards': {'total': 1, 'successful': 1, 'failed': 0}}"
      ]
     },
     "execution_count": 62,
     "metadata": {},
     "output_type": "execute_result"
    }
   ],
   "source": [
    "# Refresh the index as we set the refresh interval to -1\n",
    "client.indices.refresh(index=hybrid_search_index_name)"
   ]
  },
  {
   "cell_type": "code",
   "execution_count": 53,
   "metadata": {},
   "outputs": [],
   "source": [
    "# Convert corpus into embeddings\n",
    "# This cell can takes a lot of time to run.\n",
    "for k,v in corpus.items():\n",
    "    vector = model.encode(v['text'])\n",
    "    v['vector'] = vector.tolist()"
   ]
  },
  {
   "cell_type": "code",
   "execution_count": 61,
   "metadata": {},
   "outputs": [
    {
     "name": "stdout",
     "output_type": "stream",
     "text": [
      "{'text': '0-dimensional biomaterials lack inductive properties.'}\n"
     ]
    }
   ],
   "source": [
    "# Convert queries to vectors\n",
    "for k , v in queries.items():\n",
    "    vector = model.encode(v['text'])\n",
    "    v['vector'] = vector.tolist()"
   ]
  },
  {
   "cell_type": "code",
   "execution_count": 64,
   "metadata": {},
   "outputs": [
    {
     "name": "stdout",
     "output_type": "stream",
     "text": [
      "{'text': '0-dimensional biomaterials lack inductive properties.', 'vector': [-0.043021008372306824, 0.02548883855342865, 0.020694850012660027, -0.012169793248176575, -0.02696184068918228, -0.058678992092609406, -0.06191679835319519, 0.07270713895559311, -0.010400449857115746, 0.026895998045802116, 0.008489829488098621, -0.017428677529096603, -0.03745418041944504, 0.045534826815128326, -0.011234833858907223, 0.012651137076318264, -0.08228958398103714, -0.021470628678798676, 0.029509980231523514, 0.09791987389326096, -0.044272445142269135, 0.010097767226397991, 0.06116751953959465, -0.00770359905436635, -0.021597644314169884, 0.06696417927742004, 0.031053446233272552, -0.04929392412304878, -0.020259659737348557, -0.03554761782288551, 0.04974326118826866, -0.021778356283903122, -0.07353570312261581, -0.03531649336218834, 0.067826047539711, -0.04894057288765907, 0.05413386598229408, 0.047215841710567474, -0.043285418301820755, 0.039936330169439316, 0.05541770160198212, 0.011908309534192085, 0.03750878944993019, 0.012102671898901463, 0.08765841275453568, -0.061484403908252716, 0.019157666712999344, -0.09757418185472488, -0.029946573078632355, -0.11369340121746063, 0.01725596934556961, 0.01447424665093422, -0.013140023685991764, 0.05106634646654129, 0.0022666214499622583, 0.0041905841790139675, -0.019569702446460724, 0.039536185562610626, -0.019518693909049034, -0.045190513134002686, 0.09648911654949188, -0.04366810992360115, 0.002015496604144573, -0.02098001539707184, 0.03171277791261673, 0.06747084856033325, -0.04165726900100708, 0.004745774902403355, -0.07799982279539108, 0.047983597964048386, 0.040959905833005905, -0.010057415813207626, -0.0038862016517668962, 0.09068352729082108, 0.0902685821056366, 0.010645156726241112, 0.0038713763933628798, 0.11116648465394974, 0.04784461855888367, 0.13940182328224182, -0.11912299692630768, -0.05198441445827484, -0.02400052361190319, -0.039488062262535095, -0.062101464718580246, 0.09681457281112671, 0.06596966087818146, -0.0008180145523510873, -0.11902487277984619, -0.008914441801607609, 0.004395556170493364, 0.08122304826974869, -0.0820634737610817, -0.08346445113420486, -0.02423122152686119, -0.03318853676319122, -0.04911128431558609, -0.0027143312618136406, 0.004756761249154806, -0.0854436531662941, -0.02070690505206585, -0.02277619205415249, 0.0023611634969711304, 0.09286849200725555, -0.009078539907932281, 0.0022344235330820084, 0.013527777045965195, 0.007764923851937056, 0.03570513054728508, 0.035862285643815994, 0.04974305257201195, -0.0006596857565455139, -0.008625069633126259, 0.057614441961050034, -0.08847474306821823, -0.02847312018275261, -0.017963482066988945, 0.012545779347419739, 0.00763879157602787, -0.017906922847032547, 0.07214047759771347, -0.01460548210889101, -0.03218480199575424, 0.02497132308781147, -0.07105717062950134, -0.007495448924601078, 0.017973097041249275, -1.9529652124301946e-33, 0.021461138501763344, 0.046051349490880966, 0.045142266899347305, 0.005352865904569626, -0.011638603173196316, -0.05721466615796089, 0.02396381087601185, -0.03160622715950012, 0.08691927790641785, 0.07297580689191818, -0.10167954117059708, 0.09100446105003357, -0.017146160826086998, 0.05905778706073761, 0.03262905031442642, 0.03230192884802818, -0.0010714750969782472, -0.0326165147125721, 0.030255360528826714, -0.015226421877741814, 0.032706648111343384, -0.007006918545812368, 0.012315540574491024, 0.07141513377428055, 0.02737857587635517, -0.0960044339299202, -0.03200656548142433, -0.08614583313465118, -0.071672722697258, -0.01568669266998768, -0.03028545156121254, 0.027534641325473785, 0.05770192667841911, 0.03862961754202843, -0.010468441992998123, 0.009665572084486485, -0.07906588912010193, 0.03943951427936554, 0.05944288522005081, 0.025034070014953613, -0.04033355787396431, -0.020378390327095985, 0.0895601436495781, -0.007864730432629585, 0.03490310162305832, -0.025933893397450447, 0.06845647841691971, 0.0056724632158875465, -0.04690633714199066, -0.04353378340601921, 0.013940488919615746, 0.0407513827085495, -0.000913637166377157, -0.031077172607183456, 0.043664492666721344, 0.03640175983309746, 0.011510219424962997, -0.016802268102765083, -0.0802118182182312, -0.0720738023519516, -0.012136156670749187, 0.033130016177892685, 0.004025626461952925, -0.00362206413410604, -0.013766075484454632, 0.011628792621195316, -0.0019363141618669033, 0.0033967881463468075, 0.00419202633202076, -0.03173777088522911, 0.024894954636693, 0.03826821222901344, -0.08433926850557327, -0.06081585958600044, 0.08391058444976807, -0.0077009499073028564, 0.052141301333904266, -0.052775926887989044, 0.03967484459280968, 0.06546999514102936, 0.027676908299326897, 0.04602237045764923, -0.10196833312511444, -0.07506805658340454, -0.02598608285188675, -0.04505911469459534, 0.04061928391456604, 0.016513269394636154, -0.020923202857375145, -0.015707803890109062, 0.05421062558889389, -0.03353548422455788, 0.03492487967014313, -0.016365669667720795, 0.0020032357424497604, -7.893762316588367e-34, 0.013569978065788746, -0.10518158227205276, 0.06514839082956314, 0.01723468489944935, 0.013058112002909184, 0.0669536218047142, 0.023935653269290924, 0.08961403369903564, 0.10521198064088821, 0.04365023970603943, 0.12463120371103287, 0.07169025391340256, -0.03972138091921806, -0.00864979438483715, 0.005697989370673895, 0.03590492159128189, -0.06595941632986069, -0.04108726605772972, 0.015845848247408867, -0.052601248025894165, 0.0015226874966174364, 0.05132207274436951, -0.10825411230325699, 0.021362848579883575, -0.017708463594317436, 5.25595860381145e-05, -0.10280520468950272, 0.023072730749845505, 0.032014187425374985, 0.027416162192821503, 0.03613132983446121, 0.007260759826749563, -0.0015995122957974672, 0.014068709686398506, -0.01173050794750452, -0.051558952778577805, 0.02096620947122574, 0.03917353227734566, 0.040460050106048584, -0.027237726375460625, -0.006323685869574547, -0.0032643775921314955, -0.07917186617851257, 0.021863631904125214, -0.017514333128929138, -0.09308988600969315, -0.033227626234292984, -0.0034282836131751537, 0.04560258612036705, 0.004743844736367464, 0.007051480934023857, 0.04992679879069328, 0.06545660644769669, -0.0703178197145462, 0.049438245594501495, 0.007620072457939386, -0.027315089479088783, 0.0017306074732914567, 0.12183577567338943, -0.023232540115714073, 0.003471560310572386, -0.053809214383363724, 0.10764343291521072, 0.01599166728556156, -0.06138097494840622, 0.0058708274737000465, 0.07014159858226776, 0.10225678980350494, -0.11593857407569885, -0.04627768322825432, 0.07882210612297058, 0.06035766378045082, -0.012870050966739655, -0.09804625809192657, 0.0034073342103511095, -0.01651604101061821, -0.06449363380670547, -0.04439501091837883, -0.037122517824172974, -0.09716267883777618, 0.09940848499536514, 0.08874457329511642, -0.104586660861969, -0.06657351553440094, 0.10668089240789413, -0.008287160657346249, 0.04779990762472153, -0.014720100909471512, -0.03886878862977028, -0.0063505833968520164, 0.07486649602651596, 0.02221697010099888, 0.06666380167007446, 0.07623796910047531, -0.03780849277973175, -1.9187933020248238e-08, -0.01726336032152176, 0.03483396768569946, 0.01904881000518799, -0.06956203281879425, -0.05115995556116104, 0.05150030553340912, -0.015505259856581688, -0.02637067250907421, 0.026578688994050026, -0.015470212325453758, -0.010820919647812843, 0.03443969413638115, -0.048390574753284454, 0.029976410791277885, 0.06052432581782341, 0.011488365940749645, -0.04930964112281799, -0.048732105642557144, -0.007585449144244194, -0.051940616220235825, -0.07846055179834366, 0.022778062149882317, -0.09261371940374374, -0.04413268342614174, 0.010169648565351963, -0.056009236723184586, 0.005798054859042168, -0.0903833732008934, 0.021136566996574402, -0.0056283315643668175, 0.03048286773264408, 0.009836041368544102, 0.0857013463973999, 0.08750612288713455, -0.003042481606826186, -0.04218722879886627, 0.05022316798567772, 0.03130246326327324, -0.11686443537473679, -0.07269357144832611, -0.011501875706017017, -0.006526573561131954, -0.0453239344060421, -0.04754731431603432, -0.10385212302207947, -0.1003507450222969, 0.020835064351558685, 0.0038208526093512774, -0.0627361312508583, 0.036854542791843414, -0.0019091328140348196, -0.03382419794797897, -0.053578950464725494, -0.041947141289711, -0.041642893105745316, 0.0691380426287651, -0.041677165776491165, 0.03971618786454201, 0.004666598048061132, -0.03633030131459236, 0.007005505263805389, -0.02498237043619156, 0.06641673296689987, 0.053759992122650146]}\n",
      "{'text': '1 in 5 million in UK have abnormal PrP positivity.', 'vector': [0.09945949167013168, -0.06581313163042068, 0.00786356721073389, 0.022526150569319725, 0.017534229904413223, -0.022976776584982872, 0.05675259232521057, 0.0517740435898304, -0.05308954045176506, 0.06113610044121742, 0.09175873547792435, -0.014176801778376102, -0.027561379596590996, 0.0022367159835994244, -0.028645500540733337, 0.03718649595975876, 0.004468172788619995, -0.15082623064517975, 0.054196279495954514, 0.058677803725004196, -0.08000535517930984, 0.01256704144179821, 0.0454895943403244, 0.002148150699213147, -0.0454590879380703, -0.028904307633638382, 0.02418009378015995, 0.0001965411356650293, 0.001228220877237618, 0.028554614633321762, 0.010477637872099876, 0.05645284429192543, -0.003918771166354418, -0.061437346041202545, 0.07479017972946167, 0.03248792514204979, -0.01767336018383503, -0.021325131878256798, -0.08739627152681351, 0.008498475886881351, 0.13503189384937286, -0.04537675529718399, -0.0595938079059124, -0.08191774040460587, 0.027183471247553825, 0.041738398373126984, 0.005316718015819788, 0.08144749701023102, -0.05771491676568985, -0.045350730419158936, -0.0024025680031627417, 0.011487073265016079, 0.08712716400623322, -0.06443670392036438, -0.03962722793221474, -0.18495208024978638, -0.04256614297628403, -0.03208449110388756, -0.05069781467318535, 0.024497412145137787, -0.061415381729602814, 0.027794331312179565, -0.041516050696372986, -0.06658641993999481, 0.1100488230586052, 0.05300484597682953, 0.03659547492861748, -0.007664836943149567, 0.0498383603990078, 0.06364568322896957, -0.05054130032658577, -0.019747868180274963, -0.02610299363732338, 0.08104299008846283, -0.006238387897610664, 0.019223570823669434, -0.05962080508470535, -0.00846590381115675, 0.02191906049847603, -0.008606619201600552, 0.021425427868962288, 0.03404947742819786, -0.014940389432013035, 0.007188098505139351, 0.08604040741920471, -0.06760422140359879, 0.019592570140957832, 0.02224384993314743, -0.05795469880104065, 0.006077359896153212, -0.010152413509786129, 0.03966095298528671, 0.041792578995227814, 0.10623763501644135, -0.00867385696619749, 0.10309470444917679, -0.08958703279495239, -0.008708389475941658, -0.03360115364193916, -0.02515331283211708, -0.08829715847969055, 0.06158972531557083, 0.021951446309685707, 0.055871348828077316, -0.0741361677646637, -0.036209333688020706, -0.019727405160665512, -0.004415867850184441, -0.008540710434317589, -0.06672585755586624, 0.00707763759419322, 0.03228681534528732, 0.004396629054099321, -0.04608917981386185, 0.02500736340880394, -0.04302564635872841, -0.04766895994544029, -0.0020714951679110527, 0.016290565952658653, -0.005888648331165314, 0.0005447273724712431, 0.03277544304728508, -0.08420340716838837, 0.034741196781396866, -0.0012722450774163008, 0.01377842202782631, -0.050242457538843155, -1.2450436679501382e-34, 0.026170220226049423, 0.0017637376440688968, 0.06981925666332245, -0.01355806179344654, -0.03986140713095665, 0.01720813661813736, -0.0597250759601593, 0.019519930705428123, 0.12854169309139252, 0.014168555848300457, 0.045588478446006775, -0.0998108834028244, 0.05985955521464348, -0.06755504012107849, -0.07420579344034195, -0.007380616385489702, 0.032049067318439484, 0.12704682350158691, -0.051687635481357574, 0.053773701190948486, -0.0131000354886055, -0.009050833061337471, 0.023456508293747902, -0.004544481169432402, 0.003458109451457858, 0.10795754939317703, -0.04173300042748451, -0.00505521846935153, 0.05765635147690773, -0.008677990175783634, 0.05214562267065048, 0.052342984825372696, 0.0017379383789375424, -0.07502275705337524, -0.066938117146492, 0.008871461264789104, 0.017428621649742126, -0.004065450746566057, 0.008029315620660782, 0.04667387157678604, -0.08480740338563919, -0.017486313357949257, 0.01794661395251751, 0.03827822580933571, 0.08949141949415207, -0.0068068248219788074, 0.003957085777074099, -0.06168913468718529, -0.13148121535778046, 0.007490650285035372, -0.02225741557776928, 0.026375284418463707, -0.057807717472314835, -0.011693030595779419, -0.016947656869888306, -0.04175002872943878, 0.009484529495239258, 0.004007941577583551, 0.026311758905649185, 0.038645241409540176, 0.0100752217695117, 0.07575076073408127, -0.030917080119252205, -0.07555872201919556, -0.011917302384972572, -0.00999375805258751, 0.002624727785587311, -0.023592215031385422, -0.03870868682861328, 0.056569814682006836, 0.052915919572114944, 0.08735257387161255, -0.0006438359268940985, -0.045495159924030304, -0.02883499301970005, -0.040150947868824005, 0.039296265691518784, 0.03384639695286751, 0.04782227426767349, 0.0738321840763092, -0.10340650379657745, -0.06168131157755852, 0.012640574015676975, 0.014175081625580788, 0.06306706368923187, 0.038638319820165634, 0.01701653189957142, 0.027379611507058144, 0.017366934567689896, 0.02485540509223938, 0.11044356226921082, -0.03167829290032387, -0.06085127592086792, 0.039139825850725174, -0.048861175775527954, -1.0538313283606539e-33, -0.1163959875702858, 0.027113471180200577, -0.02530408464372158, -0.004004713147878647, -0.026474857702851295, 0.016577718779444695, 0.05037562549114227, 0.07283689081668854, 0.026505690068006516, 0.04788316413760185, 0.041973743587732315, -0.05933685600757599, 0.07533780485391617, 0.018963852897286415, -0.01293214038014412, 0.006896720267832279, 0.039945341646671295, 0.04182933643460274, 0.03319544345140457, -0.00468642869964242, 0.025838060304522514, 0.012379364110529423, 0.04652097448706627, 0.12594443559646606, -0.0011226304341107607, 0.06749679148197174, -0.06965889781713486, -0.07786230742931366, 0.0013494931627064943, -0.0703321099281311, -0.019705157727003098, 0.09969092905521393, -0.08256447315216064, -0.00479334918782115, -0.013221517205238342, -0.0836852639913559, -0.06658368557691574, 0.046299610286951065, 0.04089803621172905, -0.010905934497714043, -0.006043762434273958, 0.009839101694524288, -0.017327530309557915, -0.005356133915483952, -0.051497682929039, 0.024411462247371674, 0.011626108549535275, -0.029721641913056374, 0.08892973512411118, 0.015775538980960846, 0.007433963939547539, 0.12715551257133484, -0.04910126328468323, 0.03536137193441391, -0.05536498874425888, -0.01838880032300949, -0.09405620396137238, -0.03347724303603172, -0.04734581708908081, 0.01882745511829853, -0.009843690320849419, 0.024783894419670105, -0.06839058548212051, 0.05662653595209122, 0.028288565576076508, -0.018729180097579956, 0.035290010273456573, 0.01467360183596611, 0.0885622575879097, -0.05106954649090767, 0.009213801473379135, -0.00656548235565424, -0.03840254247188568, -0.08674212545156479, -0.051688600331544876, 0.04602310433983803, -0.017421361058950424, 0.018971988931298256, 0.0911785289645195, 0.05940314382314682, -0.005919463001191616, -0.04719693586230278, 0.02895697019994259, -0.07439737766981125, -0.017507905140519142, -0.020190006121993065, 0.05646640434861183, -0.034831639379262924, 0.02116633951663971, 0.05542713403701782, -0.0693603977560997, 0.016687925904989243, -0.06232203170657158, -0.07609938830137253, 0.028718281537294388, -2.015848821201871e-08, 0.04262081906199455, -0.05026668310165405, 0.034342650324106216, 0.006085612345486879, 0.035356372594833374, -0.05946207046508789, -0.06820383667945862, 0.1271619200706482, -0.028319891542196274, 0.03713458776473999, -0.0006021802546456456, -0.0015880269929766655, -0.01824263483285904, -0.10734102129936218, 0.03144450485706329, -0.025130514055490494, 0.00525992875918746, 0.03848659619688988, -0.02679501660168171, -0.002305567031726241, -0.009801564738154411, 0.02232130989432335, -0.03204284608364105, 0.011724424548447132, -0.012513300403952599, -0.0022044784855097532, 0.06463305652141571, -0.027905894443392754, 0.009162764064967632, -0.09341584146022797, 0.037551041692495346, -0.067938432097435, -0.02353857457637787, 0.029672294855117798, 0.024377301335334778, 0.030016038566827774, 0.02017364650964737, 0.020775189623236656, -0.027596866711974144, -0.023516112938523293, -0.034872230142354965, -0.10072973370552063, 0.04315344989299774, 0.028645871207118034, -0.052595749497413635, -0.021498359739780426, -0.10304315388202667, -0.05072175711393356, 0.037684451788663864, -0.10102535039186478, 0.04044947028160095, 0.012355291284620762, 0.052747827023267746, 0.032773543149232864, -0.012987214140594006, 0.06805068999528885, 0.030729399994015694, -0.04036729782819748, -0.12339065223932266, 0.006499313283711672, 0.03969285637140274, -0.061143115162849426, -0.0359610915184021, 0.06564943492412567]}\n"
     ]
    }
   ],
   "source": [
    "# Print the vectors for queries\n",
    "limit = 2\n",
    "for index, v in zip(range(limit), queries.items()):\n",
    "    print(v[1])"
   ]
  },
  {
   "cell_type": "code",
   "execution_count": 54,
   "metadata": {},
   "outputs": [
    {
     "name": "stdout",
     "output_type": "stream",
     "text": [
      "{'text': 'Alterations of the architecture of cerebral white matter in the developing human brain can affect cortical development and result in functional disabilities. A line scan diffusion-weighted magnetic resonance imaging (MRI) sequence with diffusion tensor analysis was applied to measure the apparent diffusion coefficient, to calculate relative anisotropy, and to delineate three-dimensional fiber architecture in cerebral white matter in preterm (n = 17) and full-term infants (n = 7). To assess effects of prematurity on cerebral white matter development, early gestation preterm infants (n = 10) were studied a second time at term. In the central white matter the mean apparent diffusion coefficient at 28 wk was high, 1.8 microm2/ms, and decreased toward term to 1.2 microm2/ms. In the posterior limb of the internal capsule, the mean apparent diffusion coefficients at both times were similar (1.2 versus 1.1 microm2/ms). Relative anisotropy was higher the closer birth was to term with greater absolute values in the internal capsule than in the central white matter. Preterm infants at term showed higher mean diffusion coefficients in the central white matter (1.4 +/- 0.24 versus 1.15 +/- 0.09 microm2/ms, p = 0.016) and lower relative anisotropy in both areas compared with full-term infants (white matter, 10.9 +/- 0.6 versus 22.9 +/- 3.0%, p = 0.001; internal capsule, 24.0 +/- 4.44 versus 33.1 +/- 0.6% p = 0.006). Nonmyelinated fibers in the corpus callosum were visible by diffusion tensor MRI as early as 28 wk; full-term and preterm infants at term showed marked differences in white matter fiber organization. The data indicate that quantitative assessment of water diffusion by diffusion tensor MRI provides insight into microstructural development in cerebral white matter in living infants.', 'title': 'Microstructural development of human newborn cerebral white matter assessed in vivo by diffusion tensor magnetic resonance imaging.', 'vector': [0.06615005433559418, -0.10171990096569061, -0.0033012216445058584, 0.07405709475278854, 0.00565671268850565, 0.018612904474139214, -0.05759843438863754, 0.030548350885510445, 0.021022146567702293, 0.02486596629023552, -0.022741911932826042, 0.016101127490401268, -0.07923931628465652, 0.05427758768200874, -0.07040201872587204, -0.01793023571372032, 0.007059454917907715, -0.002384243067353964, -0.0373658612370491, 0.06224484741687775, -0.0015948476502671838, -0.019338177517056465, -0.04358164221048355, -0.037144508212804794, 0.012810072861611843, 0.07488472759723663, 0.061933185905218124, -0.02412295527756214, 0.0845152884721756, 0.05804278329014778, 0.08743861317634583, -0.00827006995677948, 0.05447592958807945, 0.006266145501285791, -0.039381109178066254, -0.005424702074378729, 0.007619749754667282, -0.06910907477140427, -0.008374621160328388, -0.07109430432319641, 0.02032216638326645, 0.03657236695289612, -0.06670908629894257, -0.007475950755178928, 0.018240511417388916, 0.023393090814352036, 0.05647347867488861, -0.09870216995477676, -0.0017847305862233043, -0.038311801850795746, 0.03804728761315346, -0.02089744061231613, -0.12988102436065674, 0.10278850793838501, -0.04301442950963974, 0.03921573609113693, -0.028337296098470688, -0.002400588244199753, -0.005373811349272728, -0.026623323559761047, -0.08639001101255417, 0.001476912759244442, 0.033700037747621536, -0.0297378096729517, 0.08114472031593323, 0.11191654205322266, 0.0166423711925745, -0.061404552310705185, -0.018603669479489326, -0.0277006346732378, 0.06341462582349777, 0.03592100739479065, 0.015771571546792984, -0.001206331537105143, -0.03652679920196533, 0.0353628545999527, 0.04424752667546272, 0.036008019000291824, 0.03585122898221016, -0.07437393069267273, -0.011606293730437756, 0.10071443021297455, 0.011485835537314415, 0.0002007803414016962, -0.02884892001748085, 0.09715874493122101, -0.013394544832408428, 0.023419806733727455, -0.11700910329818726, -0.035557154566049576, 0.05024248734116554, 0.06200164556503296, -0.12855303287506104, 0.017440320923924446, 0.07921837270259857, -0.026907160878181458, -0.021788176149129868, 0.0738745778799057, 0.09257718920707703, -0.03727266192436218, 0.03909726440906525, -0.018821902573108673, -0.005470875184983015, 0.12545689940452576, 0.030378073453903198, 0.019282424822449684, 0.14339417219161987, -0.04441197216510773, -0.09775537997484207, 0.06980133056640625, -0.04022262617945671, 0.02868896722793579, 0.02330489084124565, 0.0248572900891304, -0.009603596292436123, -0.19133658707141876, 0.03603003919124603, 0.04837455227971077, 0.06075934320688248, -0.0026927965227514505, 0.03699810802936554, 0.01136627234518528, -0.022243881598114967, -0.07537128031253815, -0.016870610415935516, -0.10263800621032715, 0.038642384111881256, 4.281326015163425e-33, -0.02915538288652897, -0.1141708642244339, 0.020331382751464844, 0.01789890043437481, -0.012518017552793026, 0.05167921632528305, 0.023761292919516563, -0.09124501794576645, 0.09229421615600586, -0.023615611717104912, -0.023630701005458832, 0.05206512659788132, -0.036899957805871964, 0.025460900738835335, -0.05246030539274216, 0.027120031416416168, 0.013826046139001846, -0.00542057491838932, 0.03282320871949196, -0.042941998690366745, 0.020778093487024307, -0.03218483179807663, 0.0125839589163661, 0.01783200167119503, 0.01425989530980587, -0.0286248791962862, -0.0866309255361557, -0.1192980408668518, -0.013433636166155338, 0.03377069532871246, -0.0826999694108963, -0.07734168320894241, -0.11397679895162582, 0.0035091887693852186, -0.11848065257072449, 0.06188664212822914, -0.0018636794993653893, -0.007624337915331125, -0.07032261788845062, 0.02154739387333393, 0.0029635862447321415, -0.0035621020942926407, -0.012768561020493507, 0.032093994319438934, -0.06310674548149109, 0.040872469544410706, -0.011559215374290943, -0.05956018343567848, 0.018487345427274704, -0.017666703090071678, -0.05701489374041557, -0.12275618314743042, -0.006775091867893934, -0.0641956701874733, -0.031003357842564583, -0.022386737167835236, -0.01746167428791523, -0.03967691957950592, -0.0047958893701434135, -0.03516466170549393, 0.024022653698921204, 0.02144821360707283, -0.04273967817425728, 0.07768744230270386, 0.1022447943687439, -0.07447855174541473, -0.06896139681339264, 0.09964022040367126, -0.02139268070459366, 0.02053230255842209, -0.016505923122167587, -0.013167444616556168, -0.00607710937038064, -0.015549235977232456, -0.01682977005839348, 0.027692727744579315, 0.07261019200086594, -0.031224781647324562, -0.052341144531965256, -0.0642230361700058, -0.06630563735961914, 0.03326158598065376, 0.037370484322309494, -0.056987833231687546, -0.06936435401439667, 0.08472319692373276, 0.00506872171536088, -0.020856179296970367, -0.05737121403217316, -0.06060348451137543, 0.019440075382590294, 0.08953288942575455, 0.0057835993357002735, 0.025253625586628914, -0.06914158165454865, -6.405290023465753e-33, -0.024188153445720673, -0.018455538898706436, 0.04660804569721222, 0.023776670917868614, -0.05149288475513458, 0.04779566079378128, 0.054017942398786545, 0.07463381439447403, 0.09555807709693909, -0.010888174176216125, 0.039905305951833725, 0.012012583203613758, -0.035407789051532745, -0.08791673183441162, 0.07773905247449875, -0.03220071643590927, -0.06787313520908356, 0.1146627888083458, 0.0908374935388565, 0.02209506556391716, -0.029384111985564232, 0.07035811990499496, -0.012468029744923115, -0.04572289064526558, 0.04072019085288048, 0.008423822931945324, -0.0025317412801086903, -0.01647988334298134, -0.05963148921728134, 0.038627929985523224, 0.0013202946865931153, 0.03328699991106987, 0.031533170491456985, -0.008501947857439518, 0.015155128203332424, 0.0013727801851928234, -0.03163427487015724, -0.015257028862833977, -0.060004543513059616, -0.008343124762177467, -0.01572515070438385, 0.0390772670507431, 0.08086864650249481, -0.02636430226266384, -0.045386411249637604, -0.00799423549324274, -0.01172623224556446, -0.005714552942663431, 0.023171372711658478, 0.05695267394185066, 0.04764141887426376, 0.05271150916814804, -0.10621688514947891, -0.015836047008633614, 0.010602205991744995, 0.053240079432725906, 0.01037103496491909, -0.06983384490013123, 0.06374671310186386, 0.014844581484794617, -0.017122112214565277, -0.04154047742486, -0.01703241653740406, -0.0889713317155838, -0.009954280219972134, 0.05332029610872269, -0.04213733971118927, -0.0014025387354195118, 0.051131270825862885, 0.03233230113983154, -0.009125277400016785, 0.04855646565556526, 0.013637671247124672, -0.04226932302117348, 0.05171772092580795, -0.0474218912422657, -0.02099142037332058, -0.001221657614223659, -0.03346692770719528, 0.07735629379749298, -0.020914528518915176, 0.058306291699409485, 0.0016843350604176521, -0.0785142108798027, 0.03034204989671707, -0.07311996072530746, -0.03359069675207138, -0.039642296731472015, -0.0636972188949585, -0.07730574160814285, 0.008202014490962029, -0.04273025691509247, 0.010998490266501904, -0.05804992839694023, -0.04541926085948944, -5.0264063133909076e-08, -0.06317261606454849, 0.0016191457398235798, 0.02899871952831745, 0.060743849724531174, 0.038494862616062164, -0.048861246556043625, -0.00832228921353817, 0.014222970232367516, 0.0012854748638346791, 0.048573169857263565, -0.05963502451777458, -0.012549256905913353, -0.0696505531668663, -0.021901223808526993, -0.051428310573101044, 0.03593675419688225, -0.041047148406505585, -0.03372432291507721, 0.001312857959419489, -0.05295051634311676, -0.014764800667762756, 0.0223772581666708, 0.04154299572110176, 0.008691862225532532, 0.03977741673588753, -0.017095984891057014, 0.03169126436114311, 0.020973946899175644, -0.024488911032676697, 0.004954228643327951, 0.06200388818979263, 0.0350952222943306, 0.04717102274298668, 0.030838729813694954, 0.024474291130900383, 0.026929235085844994, 0.009078851900994778, 0.10892811417579651, -0.08101843297481537, 0.08211954683065414, -0.009263785555958748, -0.04872899502515793, 0.07722803205251694, 0.0020008189603686333, 0.019866768270730972, -0.042315125465393066, 0.03881451115012169, 0.06695789098739624, -0.040900468826293945, -0.09893633425235748, 0.06406848877668381, -0.017398912459611893, -0.02549484744668007, 0.06288536638021469, 0.03110159933567047, -0.015212087891995907, 0.03200957179069519, 0.03985273465514183, 0.02538760006427765, 0.010847371071577072, 0.014202392660081387, 0.08359850943088531, 0.02515874058008194, -0.01661570370197296]}\n",
      "{'text': 'Myelodysplastic syndromes (MDS) are age-dependent stem cell malignancies that share biological features of activated adaptive immune response and ineffective hematopoiesis. Here we report that myeloid-derived suppressor cells (MDSC), which are classically linked to immunosuppression, inflammation, and cancer, were markedly expanded in the bone marrow of MDS patients and played a pathogenetic role in the development of ineffective hematopoiesis. These clonally distinct MDSC overproduce hematopoietic suppressive cytokines and function as potent apoptotic effectors targeting autologous hematopoietic progenitors. Using multiple transfected cell models, we found that MDSC expansion is driven by the interaction of the proinflammatory molecule S100A9 with CD33. These 2 proteins formed a functional ligand/receptor pair that recruited components to CD33’s immunoreceptor tyrosine-based inhibition motif (ITIM), inducing secretion of the suppressive cytokines IL-10 and TGF-β by immature myeloid cells. S100A9 transgenic mice displayed bone marrow accumulation of MDSC accompanied by development of progressive multilineage cytopenias and cytological dysplasia. Importantly, early forced maturation of MDSC by either all-trans-retinoic acid treatment or active immunoreceptor tyrosine-based activation motif–bearing (ITAM-bearing) adapter protein (DAP12) interruption of CD33 signaling rescued the hematologic phenotype. These findings indicate that primary bone marrow expansion of MDSC driven by the S100A9/CD33 pathway perturbs hematopoiesis and contributes to the development of MDS.', 'title': 'Induction of myelodysplasia by myeloid-derived suppressor cells.', 'vector': [-0.09746461361646652, 0.032159436494112015, -0.030466420575976372, -0.07695598900318146, 0.03017232194542885, -0.0027196111623197794, 0.04629822075366974, 0.09321129322052002, 0.02108285389840603, 0.10456494241952896, -0.09731082618236542, 0.028264222666621208, 0.08115914463996887, 0.006201614160090685, -0.02381085976958275, 0.1330636888742447, -0.011045069433748722, 0.0953645333647728, -0.007249203510582447, -0.03034275211393833, -0.021249661222100258, 0.017272429540753365, -0.04301251471042633, 0.04978053271770477, 0.013669238425791264, -0.019561393186450005, -0.02662990614771843, 0.03257232531905174, -0.05127592384815216, 0.0756416767835617, 0.03255736082792282, 0.03406674414873123, 0.06287440657615662, -0.009984772652387619, -0.051577240228652954, 0.011335083283483982, -0.014899286441504955, 0.03659239038825035, -0.0700019896030426, -0.05561750382184982, 0.02909618616104126, -0.05736562982201576, 0.0032393038272857666, -0.08143466711044312, -4.875108061241917e-05, -0.1185581237077713, -0.006938338279724121, 0.006795553024858236, -0.016402240842580795, 0.09945740550756454, -0.008055387996137142, 0.0364014208316803, 0.02206786721944809, 0.027162153273820877, -0.035887185484170914, 0.005129280500113964, -0.051271144300699234, 0.06040560081601143, -0.020843759179115295, -0.03562326729297638, -0.09052371233701706, -0.10813426971435547, 0.012052810750901699, 0.05748215690255165, 0.01929948665201664, -0.022914238274097443, -0.040076903998851776, 0.031217306852340698, -0.14456655085086823, -0.019026849418878555, 0.018033595755696297, 0.003254767507314682, 0.017639487981796265, 0.05609498545527458, 0.0169752798974514, 0.019262131303548813, 0.08964860439300537, 0.03487624228000641, 0.03036045841872692, 0.03430056944489479, 0.018436815589666367, 0.06141605228185654, 0.017887553200125694, 0.009242687374353409, -0.027308523654937744, 0.023549199104309082, 0.0015157497255131602, 0.08452244848012924, -0.0012062572641298175, 0.05205526575446129, -0.003671652637422085, -0.02054707333445549, 0.05135779455304146, 0.045384109020233154, 0.09536795318126678, 0.043101344257593155, 0.006043248809874058, -0.04187251999974251, 0.0475606806576252, -0.026065990328788757, -0.04540808126330376, 0.00952621828764677, -0.016612393781542778, 0.003825932973995805, 0.046324606984853745, 0.026822978630661964, -0.04526140168309212, 0.007933517917990685, 0.010410149581730366, 0.05890039727091789, 0.044132307171821594, -0.021247874945402145, 0.017157915979623795, -0.0064743696711957455, 0.01015112828463316, -0.009793986566364765, -0.012465586885809898, -0.027941521257162094, 0.04844861477613449, -0.07031422108411789, -0.01414451189339161, 4.5498836698243394e-05, -0.008255108259618282, 0.040696416050195694, 0.03210051730275154, -0.002508919220417738, 0.002575056627392769, 5.264647978119393e-33, 0.06242925301194191, 0.034028634428977966, -0.0013953803572803736, 0.12325102835893631, 0.035639867186546326, -0.016993336379528046, 0.005233614705502987, -0.012240221723914146, -0.064951092004776, 0.044507645070552826, -0.07998055964708328, -0.07263805717229843, 0.06616298109292984, 0.018322184681892395, -0.056555747985839844, -0.0021105105988681316, 0.004249881487339735, -0.021188383921980858, 0.012769095599651337, -0.0702764093875885, -0.02063209004700184, -0.026236822828650475, 0.009436728432774544, -0.03222798556089401, 0.0026743446942418814, 0.06452710926532745, 0.012478509917855263, -0.00581864919513464, -0.007823406718671322, 0.013973468914628029, -0.08842282742261887, 0.03425450995564461, 0.02036159113049507, -0.06277751922607422, 0.013148686848580837, -0.021426206454634666, -0.03714500740170479, -0.045054689049720764, 0.02076050639152527, -0.01825643517076969, 0.0025584930554032326, -0.0531509667634964, -0.055186014622449875, 0.02020750381052494, 0.03420008346438408, -0.09405004233121872, 0.031226539984345436, -0.14388787746429443, -0.06301604211330414, 0.03670792281627655, 0.09544332325458527, 0.005207743030041456, 0.016569988802075386, 0.01828889548778534, -0.07310858368873596, -0.0367751382291317, -0.06690209358930588, -0.016831032931804657, 0.017700502648949623, 0.0347079262137413, -0.03923777863383293, -0.08780552446842194, -0.01782284304499626, 0.062193967401981354, 0.094316266477108, -0.034838635474443436, 0.04274970665574074, -0.04120693728327751, -0.011927003040909767, 0.08147553354501724, 0.11494180560112, -0.05463358387351036, 0.04561041668057442, 0.0388314463198185, 0.0468660369515419, 0.019824618473649025, 0.03187936171889305, 0.04349012300372124, -0.02537764422595501, 0.1024654358625412, 0.046910837292671204, -0.005756419617682695, -0.1392098069190979, 0.07433141767978668, -0.07763534784317017, -0.10830624401569366, 0.052693482488393784, -0.04151405766606331, 0.004168161191046238, -0.15476955473423004, 0.0498620942234993, -0.11565570533275604, -0.02819165773689747, 0.02066095732152462, -0.05917096510529518, -7.39996615982471e-33, 0.03967219218611717, -0.0156557597219944, -0.010851399973034859, -0.10444143414497375, -0.0565560944378376, -0.021635085344314575, 0.07417524605989456, 0.011363462544977665, -0.0033096137922257185, -0.030915940180420876, 0.09119081497192383, 0.0007031764835119247, -0.07322903722524643, -0.007377717178314924, -0.08170392364263535, -0.0203762985765934, 0.007069283630698919, 0.010426138527691364, -0.11366962641477585, 0.010111954994499683, 0.047555211931467056, 0.05105917155742645, -0.10764873027801514, 0.02237408608198166, 0.016669098287820816, 0.0025641315151005983, -0.020729608833789825, 0.061383992433547974, 0.00944517832249403, 0.07512485980987549, -0.03050409071147442, 0.052236948162317276, -0.013679667375981808, -0.07850433886051178, 0.047959860414266586, 0.019560158252716064, 0.001086617005057633, -0.03709746524691582, 0.04509332403540611, -0.08603730797767639, -0.02063477411866188, -0.0353885255753994, 0.03031298704445362, -0.001399294356815517, 0.033196039497852325, 0.06612744927406311, 0.029696429148316383, 0.1306247115135193, 0.045698780566453934, 0.024168597534298897, -0.10599290579557419, 0.0219302736222744, 0.043328896164894104, 0.04143005609512329, 0.040571555495262146, -0.12360082566738129, -0.000777304288931191, -0.04563366249203682, -0.08214611560106277, -0.026786431670188904, 0.007040191441774368, 0.062101662158966064, 0.024480335414409637, -0.004504924174398184, -0.027948742732405663, 0.08000489324331284, 0.001300336793065071, -0.070855513215065, -0.0005115289823152125, -0.008222522214055061, -0.04843888431787491, 0.029523927718400955, 0.04301389679312706, -0.08750825375318527, 0.050841074436903, -0.02041272632777691, -0.02283240668475628, 0.04886626824736595, 0.0022021892946213484, 0.03999020531773567, 0.0054536364041268826, -0.030174534767866135, 0.032558415085077286, -0.06288202852010727, 0.009036611765623093, -0.041496798396110535, -0.02837997116148472, -0.012533439323306084, -0.000433796871220693, 0.008359145373106003, -0.044031787663698196, 0.006936915684491396, -0.05210695043206215, 0.03971986100077629, -0.13003957271575928, -5.071498421216347e-08, 0.023464465513825417, -0.005125672090798616, -0.061539337038993835, -0.13138045370578766, -0.03664877265691757, 0.040816497057676315, -0.10707588493824005, -0.0018096830463036895, 0.048777997493743896, -0.06953351944684982, -0.0005356502952054143, -0.03331946209073067, -0.016753876581788063, -0.030409693717956543, 0.05684984102845192, 0.037440225481987, 0.01776636764407158, -0.04447784274816513, -0.0005647208308801055, -0.04334668070077896, -0.052058011293411255, 0.0194100234657526, 0.02936026267707348, -0.06814734637737274, 0.06406150758266449, 0.014149551279842854, -0.06715728342533112, -0.07016777992248535, 0.06654802709817886, -0.0008937902166508138, 0.03637164458632469, 0.04909257963299751, -0.0019795086700469255, 0.0068474034778773785, 0.02404128387570381, 0.024332357570528984, 0.0743827372789383, -0.05930878221988678, 0.02346196398139, -0.06197299808263779, 0.02716226689517498, 0.029346458613872528, -0.05881277099251747, -0.06142058223485947, -0.011561479419469833, 0.03739302605390549, -0.019725561141967773, 0.015709450468420982, -0.07244066148996353, -0.10140439122915268, -0.023355860263109207, 0.04847543686628342, -0.03715817257761955, 0.007181250490248203, 0.019303804263472557, -0.0007712804363109171, -0.0023998026736080647, -0.007395976223051548, 0.13053296506404877, -0.0026930489111691713, 0.0033554157707840204, -0.01870003156363964, 0.04945036768913269, -0.024995673447847366]}\n"
     ]
    }
   ],
   "source": [
    "# Print the first 2 records.\n",
    "\n",
    "limit = 2\n",
    "for index, v in zip(range(limit), corpus.items()):\n",
    "    print(v[1])\n"
   ]
  },
  {
   "cell_type": "code",
   "execution_count": 47,
   "metadata": {},
   "outputs": [
    {
     "data": {
      "application/vnd.jupyter.widget-view+json": {
       "model_id": "14717a48f14641308ff33dc11b6d1afb",
       "version_major": 2,
       "version_minor": 0
      },
      "text/plain": [
       "  0%|          | 0/5183 [00:00<?, ?it/s]"
      ]
     },
     "metadata": {},
     "output_type": "display_data"
    },
    {
     "name": "stdout",
     "output_type": "stream",
     "text": [
      "Ingestion completed. Total time to ingest = 19.75777244567871 seconds, average time per document: 0.0038120340431562244\n"
     ]
    }
   ],
   "source": [
    "# Ingest data in the index\n",
    "import time\n",
    "from opensearchpy.helpers import bulk\n",
    "from tqdm.notebook import tqdm\n",
    "\n",
    "# for i, vec in enumerate(X_TRAIN):\n",
    "#         yield { \"_index\": vector_index_name, \"_id\": str(i + 1), \"vec\": vec.tolist() }\n",
    "\n",
    "def index_data_gen(corpus):\n",
    "    for key, value in corpus.items():\n",
    "        yield { \"_index\": hybrid_search_index_name, \"_id\": str(key), \"vec\": value[\"vector\"], \"text\": value['text'], \"title\": value['title'] }\n",
    "\n",
    "bulk_size = 100\n",
    "\n",
    "total_time_to_ingest = 0.\n",
    "ingest_latency = []\n",
    "data_to_ingest = []\n",
    "\n",
    "for data in tqdm(index_data_gen(corpus), total=len(corpus)):\n",
    "    if len(data_to_ingest) == bulk_size:\n",
    "        start = time.time()\n",
    "        (res, errors) = bulk(client, data_to_ingest)\n",
    "        end = time.time()\n",
    "        total_time_to_ingest += (end-start)\n",
    "        ingest_latency.append(end-start)\n",
    "        if len(errors) != 0:\n",
    "            print(errors)\n",
    "            data_to_ingest = []\n",
    "            StopIteration\n",
    "        else:\n",
    "            data_to_ingest = []\n",
    "\n",
    "    if len(data_to_ingest) < bulk_size:\n",
    "        data_to_ingest.append(data)\n",
    "\n",
    "\n",
    "if len(data_to_ingest) != 0:\n",
    "    start = time.time()\n",
    "    (_, errors) = bulk(client, data_to_ingest)\n",
    "    end = time.time()\n",
    "    total_time_to_ingest += (end-start)\n",
    "    if len(errors) != 0:\n",
    "        print(errors)\n",
    "    else:\n",
    "        data_to_ingest = []\n",
    "\n",
    "print(f\"Ingestion completed. Total time to ingest = {total_time_to_ingest} seconds, average time per document: {total_time_to_ingest/(len(corpus))}\")\n"
   ]
  },
  {
   "cell_type": "code",
   "execution_count": 51,
   "metadata": {},
   "outputs": [
    {
     "name": "stdout",
     "output_type": "stream",
     "text": [
      "green open hybrid_search_index kpF0RPCzRUKV5A0lsbftkg 1 0 5183 0 55.4mb 55.4mb\n",
      "\n",
      "Segments Info After refresh...\n",
      "Total segments are: 1\n",
      "Printing Segment info : \n",
      "index               shard prirep ip           segment generation docs.count docs.deleted   size size.memory committed searchable version compound\n",
      "hybrid_search_index 0     p      x.x.x.x _0               0       5183            0 55.4mb           0 true      true       9.5.0   true\n",
      "\n"
     ]
    }
   ],
   "source": [
    "# Check index details, you should see 1M documents in the index.\n",
    "print(client.cat.indices(index=hybrid_search_index_name))\n",
    "\n",
    "print(\"Segments Info After refresh...\")\n",
    "\n",
    "segments = client.cat.segments(hybrid_search_index_name, params={\"format\": \"json\"})\n",
    "\n",
    "print(f\"Total segments are: {len(segments)}\")\n",
    "\n",
    "print(f\"Printing Segment info : \\n{client.cat.segments(index=hybrid_search_index_name, params={'format': 'csv', 'v': 'true'})}\")\n"
   ]
  },
  {
   "cell_type": "code",
   "execution_count": 70,
   "metadata": {},
   "outputs": [
    {
     "name": "stdout",
     "output_type": "stream",
     "text": [
      "{'text': '0-dimensional biomaterials lack inductive properties.', 'vector': [-0.043021008372306824, 0.02548883855342865, 0.020694850012660027, -0.012169793248176575, -0.02696184068918228, -0.058678992092609406, -0.06191679835319519, 0.07270713895559311, -0.010400449857115746, 0.026895998045802116, 0.008489829488098621, -0.017428677529096603, -0.03745418041944504, 0.045534826815128326, -0.011234833858907223, 0.012651137076318264, -0.08228958398103714, -0.021470628678798676, 0.029509980231523514, 0.09791987389326096, -0.044272445142269135, 0.010097767226397991, 0.06116751953959465, -0.00770359905436635, -0.021597644314169884, 0.06696417927742004, 0.031053446233272552, -0.04929392412304878, -0.020259659737348557, -0.03554761782288551, 0.04974326118826866, -0.021778356283903122, -0.07353570312261581, -0.03531649336218834, 0.067826047539711, -0.04894057288765907, 0.05413386598229408, 0.047215841710567474, -0.043285418301820755, 0.039936330169439316, 0.05541770160198212, 0.011908309534192085, 0.03750878944993019, 0.012102671898901463, 0.08765841275453568, -0.061484403908252716, 0.019157666712999344, -0.09757418185472488, -0.029946573078632355, -0.11369340121746063, 0.01725596934556961, 0.01447424665093422, -0.013140023685991764, 0.05106634646654129, 0.0022666214499622583, 0.0041905841790139675, -0.019569702446460724, 0.039536185562610626, -0.019518693909049034, -0.045190513134002686, 0.09648911654949188, -0.04366810992360115, 0.002015496604144573, -0.02098001539707184, 0.03171277791261673, 0.06747084856033325, -0.04165726900100708, 0.004745774902403355, -0.07799982279539108, 0.047983597964048386, 0.040959905833005905, -0.010057415813207626, -0.0038862016517668962, 0.09068352729082108, 0.0902685821056366, 0.010645156726241112, 0.0038713763933628798, 0.11116648465394974, 0.04784461855888367, 0.13940182328224182, -0.11912299692630768, -0.05198441445827484, -0.02400052361190319, -0.039488062262535095, -0.062101464718580246, 0.09681457281112671, 0.06596966087818146, -0.0008180145523510873, -0.11902487277984619, -0.008914441801607609, 0.004395556170493364, 0.08122304826974869, -0.0820634737610817, -0.08346445113420486, -0.02423122152686119, -0.03318853676319122, -0.04911128431558609, -0.0027143312618136406, 0.004756761249154806, -0.0854436531662941, -0.02070690505206585, -0.02277619205415249, 0.0023611634969711304, 0.09286849200725555, -0.009078539907932281, 0.0022344235330820084, 0.013527777045965195, 0.007764923851937056, 0.03570513054728508, 0.035862285643815994, 0.04974305257201195, -0.0006596857565455139, -0.008625069633126259, 0.057614441961050034, -0.08847474306821823, -0.02847312018275261, -0.017963482066988945, 0.012545779347419739, 0.00763879157602787, -0.017906922847032547, 0.07214047759771347, -0.01460548210889101, -0.03218480199575424, 0.02497132308781147, -0.07105717062950134, -0.007495448924601078, 0.017973097041249275, -1.9529652124301946e-33, 0.021461138501763344, 0.046051349490880966, 0.045142266899347305, 0.005352865904569626, -0.011638603173196316, -0.05721466615796089, 0.02396381087601185, -0.03160622715950012, 0.08691927790641785, 0.07297580689191818, -0.10167954117059708, 0.09100446105003357, -0.017146160826086998, 0.05905778706073761, 0.03262905031442642, 0.03230192884802818, -0.0010714750969782472, -0.0326165147125721, 0.030255360528826714, -0.015226421877741814, 0.032706648111343384, -0.007006918545812368, 0.012315540574491024, 0.07141513377428055, 0.02737857587635517, -0.0960044339299202, -0.03200656548142433, -0.08614583313465118, -0.071672722697258, -0.01568669266998768, -0.03028545156121254, 0.027534641325473785, 0.05770192667841911, 0.03862961754202843, -0.010468441992998123, 0.009665572084486485, -0.07906588912010193, 0.03943951427936554, 0.05944288522005081, 0.025034070014953613, -0.04033355787396431, -0.020378390327095985, 0.0895601436495781, -0.007864730432629585, 0.03490310162305832, -0.025933893397450447, 0.06845647841691971, 0.0056724632158875465, -0.04690633714199066, -0.04353378340601921, 0.013940488919615746, 0.0407513827085495, -0.000913637166377157, -0.031077172607183456, 0.043664492666721344, 0.03640175983309746, 0.011510219424962997, -0.016802268102765083, -0.0802118182182312, -0.0720738023519516, -0.012136156670749187, 0.033130016177892685, 0.004025626461952925, -0.00362206413410604, -0.013766075484454632, 0.011628792621195316, -0.0019363141618669033, 0.0033967881463468075, 0.00419202633202076, -0.03173777088522911, 0.024894954636693, 0.03826821222901344, -0.08433926850557327, -0.06081585958600044, 0.08391058444976807, -0.0077009499073028564, 0.052141301333904266, -0.052775926887989044, 0.03967484459280968, 0.06546999514102936, 0.027676908299326897, 0.04602237045764923, -0.10196833312511444, -0.07506805658340454, -0.02598608285188675, -0.04505911469459534, 0.04061928391456604, 0.016513269394636154, -0.020923202857375145, -0.015707803890109062, 0.05421062558889389, -0.03353548422455788, 0.03492487967014313, -0.016365669667720795, 0.0020032357424497604, -7.893762316588367e-34, 0.013569978065788746, -0.10518158227205276, 0.06514839082956314, 0.01723468489944935, 0.013058112002909184, 0.0669536218047142, 0.023935653269290924, 0.08961403369903564, 0.10521198064088821, 0.04365023970603943, 0.12463120371103287, 0.07169025391340256, -0.03972138091921806, -0.00864979438483715, 0.005697989370673895, 0.03590492159128189, -0.06595941632986069, -0.04108726605772972, 0.015845848247408867, -0.052601248025894165, 0.0015226874966174364, 0.05132207274436951, -0.10825411230325699, 0.021362848579883575, -0.017708463594317436, 5.25595860381145e-05, -0.10280520468950272, 0.023072730749845505, 0.032014187425374985, 0.027416162192821503, 0.03613132983446121, 0.007260759826749563, -0.0015995122957974672, 0.014068709686398506, -0.01173050794750452, -0.051558952778577805, 0.02096620947122574, 0.03917353227734566, 0.040460050106048584, -0.027237726375460625, -0.006323685869574547, -0.0032643775921314955, -0.07917186617851257, 0.021863631904125214, -0.017514333128929138, -0.09308988600969315, -0.033227626234292984, -0.0034282836131751537, 0.04560258612036705, 0.004743844736367464, 0.007051480934023857, 0.04992679879069328, 0.06545660644769669, -0.0703178197145462, 0.049438245594501495, 0.007620072457939386, -0.027315089479088783, 0.0017306074732914567, 0.12183577567338943, -0.023232540115714073, 0.003471560310572386, -0.053809214383363724, 0.10764343291521072, 0.01599166728556156, -0.06138097494840622, 0.0058708274737000465, 0.07014159858226776, 0.10225678980350494, -0.11593857407569885, -0.04627768322825432, 0.07882210612297058, 0.06035766378045082, -0.012870050966739655, -0.09804625809192657, 0.0034073342103511095, -0.01651604101061821, -0.06449363380670547, -0.04439501091837883, -0.037122517824172974, -0.09716267883777618, 0.09940848499536514, 0.08874457329511642, -0.104586660861969, -0.06657351553440094, 0.10668089240789413, -0.008287160657346249, 0.04779990762472153, -0.014720100909471512, -0.03886878862977028, -0.0063505833968520164, 0.07486649602651596, 0.02221697010099888, 0.06666380167007446, 0.07623796910047531, -0.03780849277973175, -1.9187933020248238e-08, -0.01726336032152176, 0.03483396768569946, 0.01904881000518799, -0.06956203281879425, -0.05115995556116104, 0.05150030553340912, -0.015505259856581688, -0.02637067250907421, 0.026578688994050026, -0.015470212325453758, -0.010820919647812843, 0.03443969413638115, -0.048390574753284454, 0.029976410791277885, 0.06052432581782341, 0.011488365940749645, -0.04930964112281799, -0.048732105642557144, -0.007585449144244194, -0.051940616220235825, -0.07846055179834366, 0.022778062149882317, -0.09261371940374374, -0.04413268342614174, 0.010169648565351963, -0.056009236723184586, 0.005798054859042168, -0.0903833732008934, 0.021136566996574402, -0.0056283315643668175, 0.03048286773264408, 0.009836041368544102, 0.0857013463973999, 0.08750612288713455, -0.003042481606826186, -0.04218722879886627, 0.05022316798567772, 0.03130246326327324, -0.11686443537473679, -0.07269357144832611, -0.011501875706017017, -0.006526573561131954, -0.0453239344060421, -0.04754731431603432, -0.10385212302207947, -0.1003507450222969, 0.020835064351558685, 0.0038208526093512774, -0.0627361312508583, 0.036854542791843414, -0.0019091328140348196, -0.03382419794797897, -0.053578950464725494, -0.041947141289711, -0.041642893105745316, 0.0691380426287651, -0.041677165776491165, 0.03971618786454201, 0.004666598048061132, -0.03633030131459236, 0.007005505263805389, -0.02498237043619156, 0.06641673296689987, 0.053759992122650146]}\n",
      "{'text': '1 in 5 million in UK have abnormal PrP positivity.', 'vector': [0.09945949167013168, -0.06581313163042068, 0.00786356721073389, 0.022526150569319725, 0.017534229904413223, -0.022976776584982872, 0.05675259232521057, 0.0517740435898304, -0.05308954045176506, 0.06113610044121742, 0.09175873547792435, -0.014176801778376102, -0.027561379596590996, 0.0022367159835994244, -0.028645500540733337, 0.03718649595975876, 0.004468172788619995, -0.15082623064517975, 0.054196279495954514, 0.058677803725004196, -0.08000535517930984, 0.01256704144179821, 0.0454895943403244, 0.002148150699213147, -0.0454590879380703, -0.028904307633638382, 0.02418009378015995, 0.0001965411356650293, 0.001228220877237618, 0.028554614633321762, 0.010477637872099876, 0.05645284429192543, -0.003918771166354418, -0.061437346041202545, 0.07479017972946167, 0.03248792514204979, -0.01767336018383503, -0.021325131878256798, -0.08739627152681351, 0.008498475886881351, 0.13503189384937286, -0.04537675529718399, -0.0595938079059124, -0.08191774040460587, 0.027183471247553825, 0.041738398373126984, 0.005316718015819788, 0.08144749701023102, -0.05771491676568985, -0.045350730419158936, -0.0024025680031627417, 0.011487073265016079, 0.08712716400623322, -0.06443670392036438, -0.03962722793221474, -0.18495208024978638, -0.04256614297628403, -0.03208449110388756, -0.05069781467318535, 0.024497412145137787, -0.061415381729602814, 0.027794331312179565, -0.041516050696372986, -0.06658641993999481, 0.1100488230586052, 0.05300484597682953, 0.03659547492861748, -0.007664836943149567, 0.0498383603990078, 0.06364568322896957, -0.05054130032658577, -0.019747868180274963, -0.02610299363732338, 0.08104299008846283, -0.006238387897610664, 0.019223570823669434, -0.05962080508470535, -0.00846590381115675, 0.02191906049847603, -0.008606619201600552, 0.021425427868962288, 0.03404947742819786, -0.014940389432013035, 0.007188098505139351, 0.08604040741920471, -0.06760422140359879, 0.019592570140957832, 0.02224384993314743, -0.05795469880104065, 0.006077359896153212, -0.010152413509786129, 0.03966095298528671, 0.041792578995227814, 0.10623763501644135, -0.00867385696619749, 0.10309470444917679, -0.08958703279495239, -0.008708389475941658, -0.03360115364193916, -0.02515331283211708, -0.08829715847969055, 0.06158972531557083, 0.021951446309685707, 0.055871348828077316, -0.0741361677646637, -0.036209333688020706, -0.019727405160665512, -0.004415867850184441, -0.008540710434317589, -0.06672585755586624, 0.00707763759419322, 0.03228681534528732, 0.004396629054099321, -0.04608917981386185, 0.02500736340880394, -0.04302564635872841, -0.04766895994544029, -0.0020714951679110527, 0.016290565952658653, -0.005888648331165314, 0.0005447273724712431, 0.03277544304728508, -0.08420340716838837, 0.034741196781396866, -0.0012722450774163008, 0.01377842202782631, -0.050242457538843155, -1.2450436679501382e-34, 0.026170220226049423, 0.0017637376440688968, 0.06981925666332245, -0.01355806179344654, -0.03986140713095665, 0.01720813661813736, -0.0597250759601593, 0.019519930705428123, 0.12854169309139252, 0.014168555848300457, 0.045588478446006775, -0.0998108834028244, 0.05985955521464348, -0.06755504012107849, -0.07420579344034195, -0.007380616385489702, 0.032049067318439484, 0.12704682350158691, -0.051687635481357574, 0.053773701190948486, -0.0131000354886055, -0.009050833061337471, 0.023456508293747902, -0.004544481169432402, 0.003458109451457858, 0.10795754939317703, -0.04173300042748451, -0.00505521846935153, 0.05765635147690773, -0.008677990175783634, 0.05214562267065048, 0.052342984825372696, 0.0017379383789375424, -0.07502275705337524, -0.066938117146492, 0.008871461264789104, 0.017428621649742126, -0.004065450746566057, 0.008029315620660782, 0.04667387157678604, -0.08480740338563919, -0.017486313357949257, 0.01794661395251751, 0.03827822580933571, 0.08949141949415207, -0.0068068248219788074, 0.003957085777074099, -0.06168913468718529, -0.13148121535778046, 0.007490650285035372, -0.02225741557776928, 0.026375284418463707, -0.057807717472314835, -0.011693030595779419, -0.016947656869888306, -0.04175002872943878, 0.009484529495239258, 0.004007941577583551, 0.026311758905649185, 0.038645241409540176, 0.0100752217695117, 0.07575076073408127, -0.030917080119252205, -0.07555872201919556, -0.011917302384972572, -0.00999375805258751, 0.002624727785587311, -0.023592215031385422, -0.03870868682861328, 0.056569814682006836, 0.052915919572114944, 0.08735257387161255, -0.0006438359268940985, -0.045495159924030304, -0.02883499301970005, -0.040150947868824005, 0.039296265691518784, 0.03384639695286751, 0.04782227426767349, 0.0738321840763092, -0.10340650379657745, -0.06168131157755852, 0.012640574015676975, 0.014175081625580788, 0.06306706368923187, 0.038638319820165634, 0.01701653189957142, 0.027379611507058144, 0.017366934567689896, 0.02485540509223938, 0.11044356226921082, -0.03167829290032387, -0.06085127592086792, 0.039139825850725174, -0.048861175775527954, -1.0538313283606539e-33, -0.1163959875702858, 0.027113471180200577, -0.02530408464372158, -0.004004713147878647, -0.026474857702851295, 0.016577718779444695, 0.05037562549114227, 0.07283689081668854, 0.026505690068006516, 0.04788316413760185, 0.041973743587732315, -0.05933685600757599, 0.07533780485391617, 0.018963852897286415, -0.01293214038014412, 0.006896720267832279, 0.039945341646671295, 0.04182933643460274, 0.03319544345140457, -0.00468642869964242, 0.025838060304522514, 0.012379364110529423, 0.04652097448706627, 0.12594443559646606, -0.0011226304341107607, 0.06749679148197174, -0.06965889781713486, -0.07786230742931366, 0.0013494931627064943, -0.0703321099281311, -0.019705157727003098, 0.09969092905521393, -0.08256447315216064, -0.00479334918782115, -0.013221517205238342, -0.0836852639913559, -0.06658368557691574, 0.046299610286951065, 0.04089803621172905, -0.010905934497714043, -0.006043762434273958, 0.009839101694524288, -0.017327530309557915, -0.005356133915483952, -0.051497682929039, 0.024411462247371674, 0.011626108549535275, -0.029721641913056374, 0.08892973512411118, 0.015775538980960846, 0.007433963939547539, 0.12715551257133484, -0.04910126328468323, 0.03536137193441391, -0.05536498874425888, -0.01838880032300949, -0.09405620396137238, -0.03347724303603172, -0.04734581708908081, 0.01882745511829853, -0.009843690320849419, 0.024783894419670105, -0.06839058548212051, 0.05662653595209122, 0.028288565576076508, -0.018729180097579956, 0.035290010273456573, 0.01467360183596611, 0.0885622575879097, -0.05106954649090767, 0.009213801473379135, -0.00656548235565424, -0.03840254247188568, -0.08674212545156479, -0.051688600331544876, 0.04602310433983803, -0.017421361058950424, 0.018971988931298256, 0.0911785289645195, 0.05940314382314682, -0.005919463001191616, -0.04719693586230278, 0.02895697019994259, -0.07439737766981125, -0.017507905140519142, -0.020190006121993065, 0.05646640434861183, -0.034831639379262924, 0.02116633951663971, 0.05542713403701782, -0.0693603977560997, 0.016687925904989243, -0.06232203170657158, -0.07609938830137253, 0.028718281537294388, -2.015848821201871e-08, 0.04262081906199455, -0.05026668310165405, 0.034342650324106216, 0.006085612345486879, 0.035356372594833374, -0.05946207046508789, -0.06820383667945862, 0.1271619200706482, -0.028319891542196274, 0.03713458776473999, -0.0006021802546456456, -0.0015880269929766655, -0.01824263483285904, -0.10734102129936218, 0.03144450485706329, -0.025130514055490494, 0.00525992875918746, 0.03848659619688988, -0.02679501660168171, -0.002305567031726241, -0.009801564738154411, 0.02232130989432335, -0.03204284608364105, 0.011724424548447132, -0.012513300403952599, -0.0022044784855097532, 0.06463305652141571, -0.027905894443392754, 0.009162764064967632, -0.09341584146022797, 0.037551041692495346, -0.067938432097435, -0.02353857457637787, 0.029672294855117798, 0.024377301335334778, 0.030016038566827774, 0.02017364650964737, 0.020775189623236656, -0.027596866711974144, -0.023516112938523293, -0.034872230142354965, -0.10072973370552063, 0.04315344989299774, 0.028645871207118034, -0.052595749497413635, -0.021498359739780426, -0.10304315388202667, -0.05072175711393356, 0.037684451788663864, -0.10102535039186478, 0.04044947028160095, 0.012355291284620762, 0.052747827023267746, 0.032773543149232864, -0.012987214140594006, 0.06805068999528885, 0.030729399994015694, -0.04036729782819748, -0.12339065223932266, 0.006499313283711672, 0.03969285637140274, -0.061143115162849426, -0.0359610915184021, 0.06564943492412567]}\n"
     ]
    },
    {
     "data": {
      "application/vnd.jupyter.widget-view+json": {
       "model_id": "116b554982c54b58a8d2a5b29a3b4a68",
       "version_major": 2,
       "version_minor": 0
      },
      "text/plain": [
       "  0%|          | 0/1109 [00:00<?, ?it/s]"
      ]
     },
     "metadata": {},
     "output_type": "display_data"
    }
   ],
   "source": [
    "# Lets do the hybrid query now using Bool Query clause\n",
    "limit = 2\n",
    "for index, v in zip(range(limit), queries.items()):\n",
    "    print(v[1])\n",
    "\n",
    "\n",
    "def generate_query_clause(queries):\n",
    "    for _, query in queries.items():\n",
    "        query_body = {\n",
    "            \"size\": 10,\n",
    "            \"query\": {\n",
    "                \"bool\": {\n",
    "                    \"should\": [\n",
    "                        {\n",
    "                            \"match\": {\n",
    "                                \"text\": query['text']\n",
    "                            }\n",
    "                        },\n",
    "                        {\n",
    "                            \"knn\": {\n",
    "                                \"vec\": {\n",
    "                                    \"vector\": query['vector'],\n",
    "                                    \"k\": 10\n",
    "                                }\n",
    "                            }\n",
    "                        }\n",
    "                    ]\n",
    "                }\n",
    "            }\n",
    "        }\n",
    "        yield query_body\n",
    "\n",
    "\n",
    "search_latency = []\n",
    "took_time = []\n",
    "\n",
    "for query_body in tqdm(generate_query_clause(queries), total=len(queries)):\n",
    "    start = time.time()\n",
    "    search_response = client.search(body=query_body, index=hybrid_search_index_name, _source=False, docvalue_fields=[\"_id\"], stored_fields=\"_none_\")\n",
    "    end = time.time()\n",
    "    search_latency.append(end - start)\n",
    "    took_time.append(search_response[\"took\"])\n",
    "\n"
   ]
  },
  {
   "cell_type": "code",
   "execution_count": 77,
   "metadata": {},
   "outputs": [
    {
     "name": "stdout",
     "output_type": "stream",
     "text": [
      "========================== Search Metrics ===================================\n",
      "\n",
      "\n",
      "========================== Server Side Latency ===================================\n",
      "average took_time(ms): 2.5915238954012625\n",
      "p50 took_time(ms): 2.0\n",
      "p90 took_time(ms): 4.0\n",
      "p90 took_time(ms): 5.0\n",
      "\n",
      "\n",
      "========================== Client side latency ===================================\n",
      "average Latency(ms): 127.79382760724687\n",
      "p50 Latency(ms): 122.27416038513184\n",
      "p90 Latency(ms): 148.19793701171878\n",
      "p99 Latency(ms): 232.68923759460498\n"
     ]
    }
   ],
   "source": [
    "import numpy as np\n",
    "\n",
    "print(\"========================== Search Metrics ===================================\")\n",
    "print(\"\\n\\n========================== Server Side Latency ===================================\")\n",
    "print(f\"average took_time(ms): {np.average(took_time)}\") \n",
    "print(f\"p50 took_time(ms): {np.percentile(took_time, 50)}\") \n",
    "print(f\"p90 took_time(ms): {np.percentile(took_time, 90)}\")\n",
    "print(f\"p90 took_time(ms): {np.percentile(took_time, 99)}\")\n",
    "\n",
    "\n",
    "print(\"\\n\\n========================== Client side latency ===================================\")\n",
    "print(f\"average Latency(ms): {np.average(search_latency) *1000}\") \n",
    "print(f\"p50 Latency(ms): {np.percentile(search_latency, 50) *1000}\") \n",
    "print(f\"p90 Latency(ms): {np.percentile(search_latency, 90) *1000}\")\n",
    "print(f\"p99 Latency(ms): {np.percentile(search_latency, 99) *1000}\")\n"
   ]
  },
  {
   "cell_type": "code",
   "execution_count": 73,
   "metadata": {},
   "outputs": [
    {
     "data": {
      "image/png": "[encoded data removed]",
      "text/plain": [
       "<Figure size 1500x500 with 1 Axes>"
      ]
     },
     "metadata": {},
     "output_type": "display_data"
    }
   ],
   "source": [
    "import pandas as pd\n",
    "import matplotlib.pyplot as plt\n",
    "\n",
    "df = pd.DataFrame({\n",
    "    \"took_time\": took_time\n",
    "})\n",
    "\n",
    "avg_latency = sum(took_time) / len(took_time)\n",
    "\n",
    "plt.figure(figsize=(15, 5))\n",
    "plt.scatter(df.index, df['took_time'], label=\"took_time\", color='blue', s=5)\n",
    "plt.title(f\"Search took_time | avg {avg_latency:.2f} ms\")\n",
    "plt.xlabel(\"Search Run\")\n",
    "plt.xlim(0, len(queries)) # change this value to view a wider range of data. (Search Run Batch)\n",
    "plt.ylim(0, 30) # change this value to view the precision/recall, some values may be out of view.\n",
    "plt.ylabel(\"took_time (milliseconds)\")\n",
    "plt.legend()\n",
    "plt.grid(True)\n",
    "\n",
    "plt.show()"
   ]
  },
  {
   "cell_type": "code",
   "execution_count": 75,
   "metadata": {},
   "outputs": [
    {
     "data": {
      "image/png": "[encoded data removed]",
      "text/plain": [
       "<Figure size 1500x500 with 1 Axes>"
      ]
     },
     "metadata": {},
     "output_type": "display_data"
    }
   ],
   "source": [
    "import pandas as pd\n",
    "import matplotlib.pyplot as plt\n",
    "\n",
    "df = pd.DataFrame({\n",
    "    \"search_latency\": [(lat*1000) for lat in search_latency]\n",
    "})\n",
    "\n",
    "avg_latency = sum([(lat*1000) for lat in search_latency]) / len(search_latency)\n",
    "\n",
    "plt.figure(figsize=(15, 5))\n",
    "plt.scatter(df.index, df['search_latency'], label=\"search_latency\", color='blue', s=5)\n",
    "plt.title(f\"Search search_latency | avg {avg_latency:.2f} ms\")\n",
    "plt.xlabel(\"Search Run\")\n",
    "plt.xlim(0, len(queries)) # change this value to view a wider range of data. (Search Run Batch)\n",
    "plt.ylim(0, 400) # change this value to view the precision/recall, some values may be out of view.\n",
    "plt.ylabel(\"search_latency (milliseconds)\")\n",
    "plt.legend()\n",
    "plt.grid(True)\n",
    "\n",
    "plt.show()"
   ]
  }
 ],
 "metadata": {
  "kernelspec": {
   "display_name": "Python 3 (ipykernel)",
   "language": "python",
   "name": "python3"
  },
  "language_info": {
   "codemirror_mode": {
    "name": "ipython",
    "version": 3
   },
   "file_extension": ".py",
   "mimetype": "text/x-python",
   "name": "python",
   "nbconvert_exporter": "python",
   "pygments_lexer": "ipython3",
   "version": "3.10.12"
  }
 },
 "nbformat": 4,
 "nbformat_minor": 4
}
