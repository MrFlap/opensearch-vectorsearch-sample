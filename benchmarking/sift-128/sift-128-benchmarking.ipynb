{
 "cells": [
  {
   "cell_type": "code",
   "execution_count": 1,
   "metadata": {
    "collapsed": false,
    "jupyter": {
     "outputs_hidden": false
    },
    "pycharm": {
     "is_executing": true,
     "name": "#%%\n"
    }
   },
   "outputs": [
    {
     "name": "stdout",
     "output_type": "stream",
     "text": [
      "Python 3.10.12\n"
     ]
    }
   ],
   "source": [
    "#### Require python 3.10+\n",
    "!python --version"
   ]
  },
  {
   "cell_type": "code",
   "execution_count": 2,
   "metadata": {
    "collapsed": false,
    "jupyter": {
     "outputs_hidden": false
    },
    "pycharm": {
     "name": "#%%\n"
    }
   },
   "outputs": [
    {
     "name": "stdout",
     "output_type": "stream",
     "text": [
      "Collecting package metadata (current_repodata.json): done\n",
      "Solving environment: done\n",
      "\n",
      "\n",
      "==> WARNING: A newer version of conda exists. <==\n",
      "  current version: 4.14.0\n",
      "  latest version: 23.7.4\n",
      "\n",
      "Please update conda by running\n",
      "\n",
      "    $ conda update -n base -c conda-forge conda\n",
      "\n",
      "\n",
      "\n",
      "# All requested packages already installed.\n",
      "\n",
      "Retrieving notices: ...working... done\n",
      "\n",
      "Note: you may need to restart the kernel to use updated packages.\n"
     ]
    }
   ],
   "source": [
    "conda install -c conda-forge ipywidgets"
   ]
  },
  {
   "cell_type": "code",
   "execution_count": 6,
   "metadata": {
    "collapsed": false,
    "jupyter": {
     "outputs_hidden": false
    },
    "pycharm": {
     "name": "#%%\n"
    }
   },
   "outputs": [
    {
     "name": "stdout",
     "output_type": "stream",
     "text": [
      "Requirement already satisfied: opensearch-py in /Users/navneev/miniforge3/envs/opensearch-examples/lib/python3.10/site-packages (2.3.1)\n",
      "Requirement already satisfied: python-dotenv in /Users/navneev/miniforge3/envs/opensearch-examples/lib/python3.10/site-packages (1.0.0)\n",
      "Requirement already satisfied: boto3 in /Users/navneev/miniforge3/envs/opensearch-examples/lib/python3.10/site-packages (1.28.53)\n",
      "Requirement already satisfied: tqdm in /Users/navneev/miniforge3/envs/opensearch-examples/lib/python3.10/site-packages (4.66.1)\n",
      "Requirement already satisfied: h5py in /Users/navneev/miniforge3/envs/opensearch-examples/lib/python3.10/site-packages (3.9.0)\n",
      "Requirement already satisfied: matplotlib in /Users/navneev/miniforge3/envs/opensearch-examples/lib/python3.10/site-packages (3.8.0)\n",
      "Requirement already satisfied: ipywidgets in /Users/navneev/miniforge3/envs/opensearch-examples/lib/python3.10/site-packages (8.1.1)\n",
      "Requirement already satisfied: jedi in /Users/navneev/miniforge3/envs/opensearch-examples/lib/python3.10/site-packages (0.19.0)\n",
      "Requirement already satisfied: ipython in /Users/navneev/miniforge3/envs/opensearch-examples/lib/python3.10/site-packages (8.15.0)\n",
      "Requirement already satisfied: urllib3<2,>=1.21.1 in /Users/navneev/miniforge3/envs/opensearch-examples/lib/python3.10/site-packages (from opensearch-py) (1.26.16)\n",
      "Requirement already satisfied: requests<3.0.0,>=2.4.0 in /Users/navneev/miniforge3/envs/opensearch-examples/lib/python3.10/site-packages (from opensearch-py) (2.31.0)\n",
      "Requirement already satisfied: six in /Users/navneev/miniforge3/envs/opensearch-examples/lib/python3.10/site-packages (from opensearch-py) (1.16.0)\n",
      "Requirement already satisfied: python-dateutil in /Users/navneev/miniforge3/envs/opensearch-examples/lib/python3.10/site-packages (from opensearch-py) (2.8.2)\n",
      "Requirement already satisfied: certifi>=2022.12.07 in /Users/navneev/miniforge3/envs/opensearch-examples/lib/python3.10/site-packages (from opensearch-py) (2023.7.22)\n",
      "Requirement already satisfied: botocore<1.32.0,>=1.31.53 in /Users/navneev/miniforge3/envs/opensearch-examples/lib/python3.10/site-packages (from boto3) (1.31.53)\n",
      "Requirement already satisfied: jmespath<2.0.0,>=0.7.1 in /Users/navneev/miniforge3/envs/opensearch-examples/lib/python3.10/site-packages (from boto3) (1.0.1)\n",
      "Requirement already satisfied: s3transfer<0.7.0,>=0.6.0 in /Users/navneev/miniforge3/envs/opensearch-examples/lib/python3.10/site-packages (from boto3) (0.6.2)\n",
      "Requirement already satisfied: numpy>=1.17.3 in /Users/navneev/miniforge3/envs/opensearch-examples/lib/python3.10/site-packages (from h5py) (1.26.0)\n",
      "Requirement already satisfied: contourpy>=1.0.1 in /Users/navneev/miniforge3/envs/opensearch-examples/lib/python3.10/site-packages (from matplotlib) (1.1.1)\n",
      "Requirement already satisfied: cycler>=0.10 in /Users/navneev/miniforge3/envs/opensearch-examples/lib/python3.10/site-packages (from matplotlib) (0.11.0)\n",
      "Requirement already satisfied: fonttools>=4.22.0 in /Users/navneev/miniforge3/envs/opensearch-examples/lib/python3.10/site-packages (from matplotlib) (4.42.1)\n",
      "Requirement already satisfied: kiwisolver>=1.0.1 in /Users/navneev/miniforge3/envs/opensearch-examples/lib/python3.10/site-packages (from matplotlib) (1.4.5)\n",
      "Requirement already satisfied: packaging>=20.0 in /Users/navneev/miniforge3/envs/opensearch-examples/lib/python3.10/site-packages (from matplotlib) (23.1)\n",
      "Requirement already satisfied: pillow>=6.2.0 in /Users/navneev/miniforge3/envs/opensearch-examples/lib/python3.10/site-packages (from matplotlib) (10.0.1)\n",
      "Requirement already satisfied: pyparsing>=2.3.1 in /Users/navneev/miniforge3/envs/opensearch-examples/lib/python3.10/site-packages (from matplotlib) (3.1.1)\n",
      "Requirement already satisfied: comm>=0.1.3 in /Users/navneev/miniforge3/envs/opensearch-examples/lib/python3.10/site-packages (from ipywidgets) (0.1.4)\n",
      "Requirement already satisfied: traitlets>=4.3.1 in /Users/navneev/miniforge3/envs/opensearch-examples/lib/python3.10/site-packages (from ipywidgets) (5.10.0)\n",
      "Requirement already satisfied: widgetsnbextension~=4.0.9 in /Users/navneev/miniforge3/envs/opensearch-examples/lib/python3.10/site-packages (from ipywidgets) (4.0.9)\n",
      "Requirement already satisfied: jupyterlab-widgets~=3.0.9 in /Users/navneev/miniforge3/envs/opensearch-examples/lib/python3.10/site-packages (from ipywidgets) (3.0.9)\n",
      "Requirement already satisfied: parso<0.9.0,>=0.8.3 in /Users/navneev/miniforge3/envs/opensearch-examples/lib/python3.10/site-packages (from jedi) (0.8.3)\n",
      "Requirement already satisfied: backcall in /Users/navneev/miniforge3/envs/opensearch-examples/lib/python3.10/site-packages (from ipython) (0.2.0)\n",
      "Requirement already satisfied: decorator in /Users/navneev/miniforge3/envs/opensearch-examples/lib/python3.10/site-packages (from ipython) (5.1.1)\n",
      "Requirement already satisfied: matplotlib-inline in /Users/navneev/miniforge3/envs/opensearch-examples/lib/python3.10/site-packages (from ipython) (0.1.6)\n",
      "Requirement already satisfied: pickleshare in /Users/navneev/miniforge3/envs/opensearch-examples/lib/python3.10/site-packages (from ipython) (0.7.5)\n",
      "Requirement already satisfied: prompt-toolkit!=3.0.37,<3.1.0,>=3.0.30 in /Users/navneev/miniforge3/envs/opensearch-examples/lib/python3.10/site-packages (from ipython) (3.0.39)\n",
      "Requirement already satisfied: pygments>=2.4.0 in /Users/navneev/miniforge3/envs/opensearch-examples/lib/python3.10/site-packages (from ipython) (2.16.1)\n",
      "Requirement already satisfied: stack-data in /Users/navneev/miniforge3/envs/opensearch-examples/lib/python3.10/site-packages (from ipython) (0.6.2)\n",
      "Requirement already satisfied: exceptiongroup in /Users/navneev/miniforge3/envs/opensearch-examples/lib/python3.10/site-packages (from ipython) (1.1.3)\n",
      "Requirement already satisfied: pexpect>4.3 in /Users/navneev/miniforge3/envs/opensearch-examples/lib/python3.10/site-packages (from ipython) (4.8.0)\n",
      "Requirement already satisfied: appnope in /Users/navneev/miniforge3/envs/opensearch-examples/lib/python3.10/site-packages (from ipython) (0.1.3)\n",
      "Requirement already satisfied: ptyprocess>=0.5 in /Users/navneev/miniforge3/envs/opensearch-examples/lib/python3.10/site-packages (from pexpect>4.3->ipython) (0.7.0)\n",
      "Requirement already satisfied: wcwidth in /Users/navneev/miniforge3/envs/opensearch-examples/lib/python3.10/site-packages (from prompt-toolkit!=3.0.37,<3.1.0,>=3.0.30->ipython) (0.2.6)\n",
      "Requirement already satisfied: charset-normalizer<4,>=2 in /Users/navneev/miniforge3/envs/opensearch-examples/lib/python3.10/site-packages (from requests<3.0.0,>=2.4.0->opensearch-py) (3.2.0)\n",
      "Requirement already satisfied: idna<4,>=2.5 in /Users/navneev/miniforge3/envs/opensearch-examples/lib/python3.10/site-packages (from requests<3.0.0,>=2.4.0->opensearch-py) (3.4)\n",
      "Requirement already satisfied: executing>=1.2.0 in /Users/navneev/miniforge3/envs/opensearch-examples/lib/python3.10/site-packages (from stack-data->ipython) (1.2.0)\n",
      "Requirement already satisfied: asttokens>=2.1.0 in /Users/navneev/miniforge3/envs/opensearch-examples/lib/python3.10/site-packages (from stack-data->ipython) (2.4.0)\n",
      "Requirement already satisfied: pure-eval in /Users/navneev/miniforge3/envs/opensearch-examples/lib/python3.10/site-packages (from stack-data->ipython) (0.2.2)\n"
     ]
    }
   ],
   "source": [
    "!pip install --no-cache-dir opensearch-py python-dotenv boto3 tqdm h5py matplotlib ipywidgets jedi ipython\n"
   ]
  },
  {
   "cell_type": "code",
   "execution_count": null,
   "metadata": {},
   "outputs": [],
   "source": [
    "# For autocomplete use shift+tab\n",
    "%config IPCompleter.greedy=True"
   ]
  },
  {
   "cell_type": "code",
   "execution_count": 2,
   "metadata": {},
   "outputs": [
    {
     "name": "stdout",
     "output_type": "stream",
     "text": [
      "  % Total    % Received % Xferd  Average Speed   Time    Time     Time  Current\n",
      "                                 Dload  Upload   Total   Spent    Left  Speed\n",
      "100   167  100   167    0     0   1018      0 --:--:-- --:--:-- --:--:--  1056\n",
      "100  500M  100  500M    0     0  4017k      0  0:02:07  0:02:07 --:--:-- 1424k0     0  9777k      0  0:00:52  0:00:15  0:00:37 4401k 0  7036k      0  0:01:12  0:00:22  0:00:50 1078kk      0  0:01:28  0:00:34  0:00:54 4710k  0:00:36  0:00:55 3817k    0     0  4691k      0  0:01:49  0:00:47  0:01:02 2174k  0     0  4516k      0  0:01:53  0:00:50  0:01:03 1863k   0     0  4264k      0  0:02:00  0:00:54  0:01:06 1067k      0  0:02:30  0:01:15  0:01:15 1455k4330k      0  0:01:58  0:01:52  0:00:06 7234k 0     0  4084k      0  0:02:05  0:02:05 --:--:-- 3152k\n"
     ]
    }
   ],
   "source": [
    "# Download the sift-128 dataset\n",
    "!curl -o sift-128-euclidean.hdf5 -L http://ann-benchmarks.com/sift-128-euclidean.hdf5"
   ]
  },
  {
   "cell_type": "code",
   "execution_count": 21,
   "metadata": {
    "collapsed": false,
    "pycharm": {
     "name": "#%%\n"
    }
   },
   "outputs": [
    {
     "name": "stdout",
     "output_type": "stream",
     "text": [
      "Ingest dataset size is : 1000000\n",
      "Queries dataset size is : 10000\n",
      "dataset dimensions is : 128\n"
     ]
    }
   ],
   "source": [
    "# Read Data set\n",
    "import numpy as np\n",
    "import h5py\n",
    "\n",
    "dataset = h5py.File('sift-128-euclidean.hdf5', \"r\")\n",
    "X_TRAIN = np.array(dataset[\"train\"])\n",
    "X_TEST = np.array(dataset[\"test\"])\n",
    "dimension = int(dataset.attrs[\"dimension\"]) if \"dimension\" in dataset.attrs else len(X_TRAIN[0])\n",
    "\n",
    "print(f\"Ingest dataset size is : {len(X_TRAIN)}\")\n",
    "print(f\"Queries dataset size is : {len(X_TEST)}\")\n",
    "print(f\"dataset dimensions is : {dimension}\")"
   ]
  },
  {
   "cell_type": "code",
   "execution_count": 22,
   "metadata": {
    "collapsed": false,
    "pycharm": {
     "name": "#%%\n"
    }
   },
   "outputs": [
    {
     "data": {
      "text/plain": [
       "{'name': '428d6ce63b054e8d1dd55d36eb0ea810',\n",
       " 'cluster_name': '199552501713:go-daddy-xlarge',\n",
       " 'cluster_uuid': 'Sc_tsdMeQ-6R8gdYNCY1FQ',\n",
       " 'version': {'distribution': 'opensearch',\n",
       "  'number': '2.7.0',\n",
       "  'build_type': 'tar',\n",
       "  'build_hash': 'unknown',\n",
       "  'build_date': '2023-08-08T16:51:18.396423063Z',\n",
       "  'build_snapshot': False,\n",
       "  'lucene_version': '9.5.0',\n",
       "  'minimum_wire_compatibility_version': '7.10.0',\n",
       "  'minimum_index_compatibility_version': '7.0.0'},\n",
       " 'tagline': 'The OpenSearch Project: https://opensearch.org/'}"
      ]
     },
     "execution_count": 22,
     "metadata": {},
     "output_type": "execute_result"
    }
   ],
   "source": [
    "from dotenv import load_dotenv\n",
    "from opensearchpy import OpenSearch, RequestsHttpConnection\n",
    "import os\n",
    "\n",
    "\n",
    "res = load_dotenv(\"environment.txt\")\n",
    "\n",
    "OS_HOST = os.getenv('OS_HOST')\n",
    "OS_PORT = os.getenv('OS_PORT')\n",
    "OS_USER = os.getenv('USER_NAME')\n",
    "OS_PASSWORD = os.getenv('PASSWORD')\n",
    "\n",
    "\n",
    "client = OpenSearch(\n",
    "    hosts = [{'host': OS_HOST, 'port': OS_PORT}],\n",
    "    http_compress = True, # enables gzip compression for request bodies\n",
    "    http_auth = (OS_USER, OS_PASSWORD),\n",
    "    use_ssl = True,\n",
    "    verify_certs = True,\n",
    "    connection_class = RequestsHttpConnection,\n",
    "    timeout=6000,\n",
    "    pool_maxsize = 20\n",
    ")\n",
    "\n",
    "client.info()\n",
    "\n"
   ]
  },
  {
   "cell_type": "code",
   "execution_count": 57,
   "metadata": {
    "collapsed": false,
    "pycharm": {
     "name": "#%%\n"
    }
   },
   "outputs": [
    {
     "name": "stdout",
     "output_type": "stream",
     "text": [
      "vector name from env is : test_vector\n",
      "Deleting the index. Response : {'acknowledged': True}\n",
      "Creating the index. Response : {'acknowledged': True, 'shards_acknowledged': True, 'index': 'test_vector'}\n"
     ]
    }
   ],
   "source": [
    "vector_index_name = os.getenv('VECTOR_INDEX_NAME', \"test-vector\")\n",
    "\n",
    "print(f\"vector name from env is : {vector_index_name}\")\n",
    "\n",
    "index_mappings = {\n",
    "    \"settings\": {\n",
    "        \"number_of_shards\": 1,\n",
    "        \"number_of_replicas\": 0,\n",
    "        #\"refresh_interval\": \"-1\",\n",
    "        \"index\": {\n",
    "          \"knn\": True,\n",
    "          \"knn.algo_param.ef_search\": 128 # Adjust to improve precision. Higher improves recall & precsion but increases latency. Lower degrades recall & precision but improves latency.\n",
    "        }\n",
    "    },\n",
    "    \"mappings\": {\n",
    "        \"properties\": {\n",
    "            \"vec\": {\n",
    "                \"type\": \"knn_vector\",\n",
    "                \"dimension\": dimension,\n",
    "                \"index\": \"true\",\n",
    "                \"method\": {\n",
    "                    \"name\": \"hnsw\",\n",
    "                    \"space_type\": \"l2\", # l2 for SIFT, cosinesimil for typical\n",
    "                    \"engine\": \"nmslib\",\n",
    "                    \"parameters\": {\n",
    "                        \"ef_construction\": 128\n",
    "                    }\n",
    "                }\n",
    "            }\n",
    "        }\n",
    "    }\n",
    "}\n",
    "\n",
    "if client.indices.exists(index=vector_index_name):\n",
    "    response = client.indices.delete(index=vector_index_name)\n",
    "    print(f\"Deleting the index. Response : {response}\")\n",
    "\n",
    "response = client.indices.create(index=vector_index_name, body=index_mappings)\n",
    "print(f\"Creating the index. Response : {response}\")\n",
    "\n"
   ]
  },
  {
   "cell_type": "code",
   "execution_count": 58,
   "metadata": {},
   "outputs": [
    {
     "data": {
      "application/vnd.jupyter.widget-view+json": {
       "model_id": "320d5b7e0de94ce7b98e270f16d2f3fa",
       "version_major": 2,
       "version_minor": 0
      },
      "text/plain": [
       "  0%|          | 0/1000000 [00:00<?, ?it/s]"
      ]
     },
     "metadata": {},
     "output_type": "display_data"
    },
    {
     "name": "stdout",
     "output_type": "stream",
     "text": [
      "Ingestion completed. Total time to ingest = 1092.6282296180725 seconds, average time per document: 0.0010926282296180726\n"
     ]
    }
   ],
   "source": [
    "# ingest data in the index\n",
    "from tqdm.notebook import tqdm\n",
    "from opensearchpy.helpers import bulk\n",
    "import time\n",
    "\n",
    "\n",
    "bulk_size = 1000\n",
    "def dataGen():\n",
    "    for i, vec in enumerate(X_TRAIN):\n",
    "        yield { \"_index\": vector_index_name, \"_id\": str(i + 1), \"vec\": vec.tolist() }\n",
    "\n",
    "data_to_ingest = []\n",
    "total_time_to_ingest = 0.\n",
    "ingest_latency = []\n",
    "for data in tqdm(dataGen(), total=len(X_TRAIN)):\n",
    "    if len(data_to_ingest) == bulk_size:\n",
    "        start = time.time()\n",
    "        (res, errors) = bulk(client, data_to_ingest)\n",
    "        end = time.time()\n",
    "        total_time_to_ingest += (end-start)\n",
    "        ingest_latency.append(end-start)\n",
    "        if len(errors) != 0:\n",
    "            print(errors)\n",
    "            data_to_ingest = []\n",
    "            StopIteration\n",
    "        else:\n",
    "            data_to_ingest = []\n",
    "\n",
    "    if len(data_to_ingest) < bulk_size:\n",
    "        data_to_ingest.append(data)\n",
    "    \n",
    "\n",
    "if len(data_to_ingest) != 0:\n",
    "    start = time.time()\n",
    "    (_, errors) = bulk(client, data_to_ingest)\n",
    "    end = time.time()\n",
    "    total_time_to_ingest += (end-start)\n",
    "    if len(errors) != 0:\n",
    "        print(errors)\n",
    "    else:\n",
    "        data_to_ingest = []\n",
    "\n",
    "print(f\"Ingestion completed. Total time to ingest = {total_time_to_ingest} seconds, average time per document: {total_time_to_ingest/(len(X_TRAIN))}\")\n"
   ]
  },
  {
   "cell_type": "code",
   "execution_count": 62,
   "metadata": {},
   "outputs": [
    {
     "data": {
      "text/plain": [
       "{'_shards': {'total': 1, 'successful': 1, 'failed': 0}}"
      ]
     },
     "execution_count": 62,
     "metadata": {},
     "output_type": "execute_result"
    }
   ],
   "source": [
    "# Refresh the index as we set the refresh interval to -1\n",
    "client.indices.refresh(index=vector_index_name)\n",
    "\n"
   ]
  },
  {
   "cell_type": "code",
   "execution_count": 75,
   "metadata": {},
   "outputs": [
    {
     "name": "stdout",
     "output_type": "stream",
     "text": [
      "green open test_vector ifyr-_kLRgC2wKk9h40dBw 1 0 1000000 0 1.4gb 1.4gb\n",
      "\n",
      "Segments Info After refresh and force merge...\n",
      "{\"_shards\": {\"total\": 1, \"successful\": 1, \"failed\": 0}, \"indices\": {\"test_vector\": {\"shards\": {\"0\": [{\"routing\": {\"state\": \"STARTED\", \"primary\": true, \"node\": \"e1N5crlpTI6LSejpgVckMQ\"}, \"num_committed_segments\": 10, \"num_search_segments\": 10, \"segments\": {\"_0\": {\"generation\": 0, \"num_docs\": 1000, \"deleted_docs\": 0, \"size_in_bytes\": 1556128, \"memory_in_bytes\": 0, \"committed\": true, \"search\": true, \"version\": \"9.5.0\", \"compound\": true, \"attributes\": {\"Lucene90StoredFieldsFormat.mode\": \"BEST_SPEED\"}}, \"_1\": {\"generation\": 1, \"num_docs\": 1000, \"deleted_docs\": 0, \"size_in_bytes\": 1556730, \"memory_in_bytes\": 0, \"committed\": true, \"search\": true, \"version\": \"9.5.0\", \"compound\": true, \"attributes\": {\"Lucene90StoredFieldsFormat.mode\": \"BEST_SPEED\"}}, \"_2\": {\"generation\": 2, \"num_docs\": 1000, \"deleted_docs\": 0, \"size_in_bytes\": 1557526, \"memory_in_bytes\": 0, \"committed\": true, \"search\": true, \"version\": \"9.5.0\", \"compound\": true, \"attributes\": {\"Lucene90StoredFieldsFormat.mode\": \"BEST_SPEED\"}}, \"_3\": {\"generation\": 3, \"num_docs\": 1000, \"deleted_docs\": 0, \"size_in_bytes\": 1558735, \"memory_in_bytes\": 0, \"committed\": true, \"search\": true, \"version\": \"9.5.0\", \"compound\": true, \"attributes\": {\"Lucene90StoredFieldsFormat.mode\": \"BEST_SPEED\"}}, \"_4\": {\"generation\": 4, \"num_docs\": 1000, \"deleted_docs\": 0, \"size_in_bytes\": 1536948, \"memory_in_bytes\": 0, \"committed\": true, \"search\": true, \"version\": \"9.5.0\", \"compound\": true, \"attributes\": {\"Lucene90StoredFieldsFormat.mode\": \"BEST_SPEED\"}}, \"_5\": {\"generation\": 5, \"num_docs\": 1500, \"deleted_docs\": 0, \"size_in_bytes\": 2280023, \"memory_in_bytes\": 0, \"committed\": true, \"search\": true, \"version\": \"9.5.0\", \"compound\": true, \"attributes\": {\"Lucene90StoredFieldsFormat.mode\": \"BEST_SPEED\"}}, \"_6\": {\"generation\": 6, \"num_docs\": 1000, \"deleted_docs\": 0, \"size_in_bytes\": 1520872, \"memory_in_bytes\": 0, \"committed\": true, \"search\": true, \"version\": \"9.5.0\", \"compound\": true, \"attributes\": {\"Lucene90StoredFieldsFormat.mode\": \"BEST_SPEED\"}}, \"_7\": {\"generation\": 7, \"num_docs\": 1000, \"deleted_docs\": 0, \"size_in_bytes\": 1523816, \"memory_in_bytes\": 0, \"committed\": true, \"search\": true, \"version\": \"9.5.0\", \"compound\": true, \"attributes\": {\"Lucene90StoredFieldsFormat.mode\": \"BEST_SPEED\"}}, \"_8\": {\"generation\": 8, \"num_docs\": 820500, \"deleted_docs\": 0, \"size_in_bytes\": 1261063956, \"memory_in_bytes\": 0, \"committed\": true, \"search\": true, \"version\": \"9.5.0\", \"compound\": true, \"attributes\": {\"Lucene90StoredFieldsFormat.mode\": \"BEST_SPEED\"}}, \"_9\": {\"generation\": 9, \"num_docs\": 171000, \"deleted_docs\": 0, \"size_in_bytes\": 262982049, \"memory_in_bytes\": 0, \"committed\": true, \"search\": true, \"version\": \"9.5.0\", \"compound\": true, \"attributes\": {\"Lucene90StoredFieldsFormat.mode\": \"BEST_SPEED\"}}}}]}}}}\n"
     ]
    }
   ],
   "source": [
    "import json\n",
    "# Check index details, you should see 1M documents in the index.\n",
    "print(client.cat.indices(index=vector_index_name))\n",
    "\n",
    "print(\"Segments Info After refresh and force merge...\")\n",
    "print(json.dumps(client.indices.segments(index=vector_index_name)))"
   ]
  },
  {
   "cell_type": "code",
   "execution_count": 80,
   "metadata": {},
   "outputs": [],
   "source": [
    "# Setup for Search\n",
    "import numpy as np\n",
    "from tqdm.notebook import tqdm\n",
    "# search in the index\n",
    "def searchQueryGen(input_array=X_TEST):\n",
    "    for i, vec in enumerate(input_array):\n",
    "        yield {\n",
    "            \"_source\": False, # Don't get the source as this impacts latency\n",
    "            \"size\": 100,\n",
    "            \"query\": {\n",
    "                \"knn\": {\n",
    "                    \"vec\": {\n",
    "                        \"vector\": vec.tolist(),\n",
    "                        \"k\": 100\n",
    "                    }\n",
    "                }\n",
    "            }\n",
    "        }"
   ]
  },
  {
   "cell_type": "code",
   "execution_count": 82,
   "metadata": {},
   "outputs": [
    {
     "data": {
      "application/vnd.jupyter.widget-view+json": {
       "model_id": "06a34cdbdae3493fb7abbe42ab23a3a1",
       "version_major": 2,
       "version_minor": 0
      },
      "text/plain": [
       "  0%|          | 0/10 [00:00<?, ?it/s]"
      ]
     },
     "metadata": {},
     "output_type": "display_data"
    },
    {
     "name": "stdout",
     "output_type": "stream",
     "text": [
      "--- Warmup up the Cluster----\n"
     ]
    }
   ],
   "source": [
    "# Uncomment the below code to optimize the search latency\n",
    "# Run few queries to load the data in cache. We are running 10 queries here to warmup the cluster\n",
    "\n",
    "# X_WARMUP = X_TEST[0:10]\n",
    "# for query in tqdm(searchQueryGen(X_WARMUP), total=len(X_WARMUP)):\n",
    "#     search_response = client.search(body=query, index=vector_index_name, _source=False, docvalue_fields=[\"_id\"], stored_fields=\"_none_\")\n",
    "\n",
    "# print(\"--- Warmuped up the Cluster----\")\n",
    "\n"
   ]
  },
  {
   "cell_type": "code",
   "execution_count": 69,
   "metadata": {},
   "outputs": [
    {
     "data": {
      "application/vnd.jupyter.widget-view+json": {
       "model_id": "8e447aa24ad6400fa8231e43bf226991",
       "version_major": 2,
       "version_minor": 0
      },
      "text/plain": [
       "  0%|          | 0/10000 [00:00<?, ?it/s]"
      ]
     },
     "metadata": {},
     "output_type": "display_data"
    },
    {
     "name": "stdout",
     "output_type": "stream",
     "text": [
      "\n",
      "\n",
      "average Latency(ms): 114.25395605564118\n",
      "p50 Latency(ms): 109.2754602432251\n",
      "p90 Latency(ms): 125.4896640777588\n",
      "p99 Latency(ms): 179.84636783599856\n",
      "average took_time(ms): 3.3558\n",
      "p50 took_time(ms): 3.0\n",
      "p90 took_time(ms): 4.0\n",
      "p90 took_time(ms): 4.0\n"
     ]
    }
   ],
   "source": [
    "\n",
    "\n",
    "\n",
    "neighbors_lists = []\n",
    "search_latency = []\n",
    "took_time = []\n",
    "for query in tqdm(searchQueryGen(), total=len(X_TEST)):\n",
    "    start = time.time()\n",
    "    search_response = client.search(body=query, index=vector_index_name, _source=False, docvalue_fields=[\"_id\"], stored_fields=\"_none_\")\n",
    "    end = time.time()\n",
    "    search_latency.append(end - start)\n",
    "    took_time.append(search_response[\"took\"])\n",
    "    search_hits = search_response['hits']['hits']\n",
    "    search_neighbors = [int(hit[\"fields\"][\"_id\"][0]) for hit in search_hits]\n",
    "    neighbors_lists.append(search_neighbors)\n",
    "\n",
    "print(f\"\\n\\naverage Latency(ms): {np.average(search_latency) *1000}\") \n",
    "print(f\"p50 Latency(ms): {np.percentile(search_latency, 50) *1000}\") \n",
    "print(f\"p90 Latency(ms): {np.percentile(search_latency, 90) *1000}\")\n",
    "print(f\"p99 Latency(ms): {np.percentile(search_latency, 99) *1000}\")\n",
    "\n",
    "print(f\"average took_time(ms): {np.average(took_time)}\") \n",
    "print(f\"p50 took_time(ms): {np.percentile(took_time, 50)}\") \n",
    "print(f\"p90 took_time(ms): {np.percentile(took_time, 90)}\")\n",
    "print(f\"p90 took_time(ms): {np.percentile(took_time, 99)}\")\n",
    "\n"
   ]
  },
  {
   "cell_type": "code",
   "execution_count": 71,
   "metadata": {},
   "outputs": [
    {
     "name": "stdout",
     "output_type": "stream",
     "text": [
      "========================== Search Metrics ===================================\n",
      "\n",
      "\n",
      "average Latency(ms): 114.25395605564118\n",
      "p50 Latency(ms): 109.2754602432251\n",
      "p90 Latency(ms): 125.4896640777588\n",
      "p99 Latency(ms): 179.84636783599856\n",
      "average took_time(ms): 3.3558\n",
      "p50 took_time(ms): 3.0\n",
      "p90 took_time(ms): 4.0\n",
      "p90 took_time(ms): 4.0\n"
     ]
    }
   ],
   "source": [
    "# Useful Metrics\n",
    "print(\"========================== Search Metrics ===================================\")\n",
    "print(\"========================== Server Side Latency ===================================\")\n",
    "print(f\"average took_time(ms): {np.average(took_time)}\") \n",
    "print(f\"p50 took_time(ms): {np.percentile(took_time, 50)}\") \n",
    "print(f\"p90 took_time(ms): {np.percentile(took_time, 90)}\")\n",
    "print(f\"p90 took_time(ms): {np.percentile(took_time, 99)}\")\n",
    "\n",
    "\n",
    "print(\"========================== Client side latency ===================================\")\n",
    "print(f\"\\n\\naverage Latency(ms): {np.average(search_latency) *1000}\") \n",
    "print(f\"p50 Latency(ms): {np.percentile(search_latency, 50) *1000}\") \n",
    "print(f\"p90 Latency(ms): {np.percentile(search_latency, 90) *1000}\")\n",
    "print(f\"p99 Latency(ms): {np.percentile(search_latency, 99) *1000}\")\n",
    "\n",
    "\n"
   ]
  },
  {
   "cell_type": "code",
   "execution_count": null,
   "metadata": {},
   "outputs": [],
   "source": [
    "# Parallelization for Search"
   ]
  }
 ],
 "metadata": {
  "kernelspec": {
   "display_name": "Python 3 (ipykernel)",
   "language": "python",
   "name": "python3"
  },
  "language_info": {
   "codemirror_mode": {
    "name": "ipython",
    "version": 3
   },
   "file_extension": ".py",
   "mimetype": "text/x-python",
   "name": "python",
   "nbconvert_exporter": "python",
   "pygments_lexer": "ipython3",
   "version": "3.10.12"
  }
 },
 "nbformat": 4,
 "nbformat_minor": 4
}
