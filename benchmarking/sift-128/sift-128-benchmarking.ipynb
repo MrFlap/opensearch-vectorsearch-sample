{
 "cells": [
  {
   "cell_type": "code",
   "execution_count": 120,
   "metadata": {
    "collapsed": false,
    "jupyter": {
     "outputs_hidden": false
    },
    "pycharm": {
     "is_executing": true,
     "name": "#%%\n"
    }
   },
   "outputs": [
    {
     "name": "stdout",
     "output_type": "stream",
     "text": [
      "Python 3.10.12\n"
     ]
    }
   ],
   "source": [
    "#### Require python 3.10+\n",
    "!python --version"
   ]
  },
  {
   "cell_type": "code",
   "execution_count": 121,
   "metadata": {
    "collapsed": false,
    "jupyter": {
     "outputs_hidden": false
    },
    "pycharm": {
     "name": "#%%\n"
    }
   },
   "outputs": [
    {
     "name": "stdout",
     "output_type": "stream",
     "text": [
      "Collecting package metadata (current_repodata.json): done\n",
      "Solving environment: done\n",
      "\n",
      "\n",
      "==> WARNING: A newer version of conda exists. <==\n",
      "  current version: 4.14.0\n",
      "  latest version: 23.7.4\n",
      "\n",
      "Please update conda by running\n",
      "\n",
      "    $ conda update -n base -c conda-forge conda\n",
      "\n",
      "\n",
      "\n",
      "# All requested packages already installed.\n",
      "\n",
      "Retrieving notices: ...working... done\n",
      "\n",
      "Note: you may need to restart the kernel to use updated packages.\n"
     ]
    }
   ],
   "source": [
    "conda install -c conda-forge ipywidgets"
   ]
  },
  {
   "cell_type": "code",
   "execution_count": 122,
   "metadata": {
    "collapsed": false,
    "jupyter": {
     "outputs_hidden": false
    },
    "pycharm": {
     "name": "#%%\n"
    }
   },
   "outputs": [
    {
     "name": "stdout",
     "output_type": "stream",
     "text": [
      "Requirement already satisfied: opensearch-py in /Users/navneev/miniforge3/envs/opensearch-examples/lib/python3.10/site-packages (2.3.1)\n",
      "Requirement already satisfied: python-dotenv in /Users/navneev/miniforge3/envs/opensearch-examples/lib/python3.10/site-packages (1.0.0)\n",
      "Requirement already satisfied: boto3 in /Users/navneev/miniforge3/envs/opensearch-examples/lib/python3.10/site-packages (1.28.53)\n",
      "Requirement already satisfied: tqdm in /Users/navneev/miniforge3/envs/opensearch-examples/lib/python3.10/site-packages (4.66.1)\n",
      "Requirement already satisfied: h5py in /Users/navneev/miniforge3/envs/opensearch-examples/lib/python3.10/site-packages (3.9.0)\n",
      "Requirement already satisfied: matplotlib in /Users/navneev/miniforge3/envs/opensearch-examples/lib/python3.10/site-packages (3.8.0)\n",
      "Requirement already satisfied: ipywidgets in /Users/navneev/miniforge3/envs/opensearch-examples/lib/python3.10/site-packages (8.1.1)\n",
      "Requirement already satisfied: jedi in /Users/navneev/miniforge3/envs/opensearch-examples/lib/python3.10/site-packages (0.19.0)\n",
      "Requirement already satisfied: ipython in /Users/navneev/miniforge3/envs/opensearch-examples/lib/python3.10/site-packages (8.15.0)\n",
      "Requirement already satisfied: urllib3<2,>=1.21.1 in /Users/navneev/miniforge3/envs/opensearch-examples/lib/python3.10/site-packages (from opensearch-py) (1.26.16)\n",
      "Requirement already satisfied: requests<3.0.0,>=2.4.0 in /Users/navneev/miniforge3/envs/opensearch-examples/lib/python3.10/site-packages (from opensearch-py) (2.31.0)\n",
      "Requirement already satisfied: six in /Users/navneev/miniforge3/envs/opensearch-examples/lib/python3.10/site-packages (from opensearch-py) (1.16.0)\n",
      "Requirement already satisfied: python-dateutil in /Users/navneev/miniforge3/envs/opensearch-examples/lib/python3.10/site-packages (from opensearch-py) (2.8.2)\n",
      "Requirement already satisfied: certifi>=2022.12.07 in /Users/navneev/miniforge3/envs/opensearch-examples/lib/python3.10/site-packages (from opensearch-py) (2023.7.22)\n",
      "Requirement already satisfied: botocore<1.32.0,>=1.31.53 in /Users/navneev/miniforge3/envs/opensearch-examples/lib/python3.10/site-packages (from boto3) (1.31.53)\n",
      "Requirement already satisfied: jmespath<2.0.0,>=0.7.1 in /Users/navneev/miniforge3/envs/opensearch-examples/lib/python3.10/site-packages (from boto3) (1.0.1)\n",
      "Requirement already satisfied: s3transfer<0.7.0,>=0.6.0 in /Users/navneev/miniforge3/envs/opensearch-examples/lib/python3.10/site-packages (from boto3) (0.6.2)\n",
      "Requirement already satisfied: numpy>=1.17.3 in /Users/navneev/miniforge3/envs/opensearch-examples/lib/python3.10/site-packages (from h5py) (1.26.0)\n",
      "Requirement already satisfied: contourpy>=1.0.1 in /Users/navneev/miniforge3/envs/opensearch-examples/lib/python3.10/site-packages (from matplotlib) (1.1.1)\n",
      "Requirement already satisfied: cycler>=0.10 in /Users/navneev/miniforge3/envs/opensearch-examples/lib/python3.10/site-packages (from matplotlib) (0.11.0)\n",
      "Requirement already satisfied: fonttools>=4.22.0 in /Users/navneev/miniforge3/envs/opensearch-examples/lib/python3.10/site-packages (from matplotlib) (4.42.1)\n",
      "Requirement already satisfied: kiwisolver>=1.0.1 in /Users/navneev/miniforge3/envs/opensearch-examples/lib/python3.10/site-packages (from matplotlib) (1.4.5)\n",
      "Requirement already satisfied: packaging>=20.0 in /Users/navneev/miniforge3/envs/opensearch-examples/lib/python3.10/site-packages (from matplotlib) (23.1)\n",
      "Requirement already satisfied: pillow>=6.2.0 in /Users/navneev/miniforge3/envs/opensearch-examples/lib/python3.10/site-packages (from matplotlib) (10.0.1)\n",
      "Requirement already satisfied: pyparsing>=2.3.1 in /Users/navneev/miniforge3/envs/opensearch-examples/lib/python3.10/site-packages (from matplotlib) (3.1.1)\n",
      "Requirement already satisfied: comm>=0.1.3 in /Users/navneev/miniforge3/envs/opensearch-examples/lib/python3.10/site-packages (from ipywidgets) (0.1.4)\n",
      "Requirement already satisfied: traitlets>=4.3.1 in /Users/navneev/miniforge3/envs/opensearch-examples/lib/python3.10/site-packages (from ipywidgets) (5.10.0)\n",
      "Requirement already satisfied: widgetsnbextension~=4.0.9 in /Users/navneev/miniforge3/envs/opensearch-examples/lib/python3.10/site-packages (from ipywidgets) (4.0.9)\n",
      "Requirement already satisfied: jupyterlab-widgets~=3.0.9 in /Users/navneev/miniforge3/envs/opensearch-examples/lib/python3.10/site-packages (from ipywidgets) (3.0.9)\n",
      "Requirement already satisfied: parso<0.9.0,>=0.8.3 in /Users/navneev/miniforge3/envs/opensearch-examples/lib/python3.10/site-packages (from jedi) (0.8.3)\n",
      "Requirement already satisfied: backcall in /Users/navneev/miniforge3/envs/opensearch-examples/lib/python3.10/site-packages (from ipython) (0.2.0)\n",
      "Requirement already satisfied: decorator in /Users/navneev/miniforge3/envs/opensearch-examples/lib/python3.10/site-packages (from ipython) (5.1.1)\n",
      "Requirement already satisfied: matplotlib-inline in /Users/navneev/miniforge3/envs/opensearch-examples/lib/python3.10/site-packages (from ipython) (0.1.6)\n",
      "Requirement already satisfied: pickleshare in /Users/navneev/miniforge3/envs/opensearch-examples/lib/python3.10/site-packages (from ipython) (0.7.5)\n",
      "Requirement already satisfied: prompt-toolkit!=3.0.37,<3.1.0,>=3.0.30 in /Users/navneev/miniforge3/envs/opensearch-examples/lib/python3.10/site-packages (from ipython) (3.0.39)\n",
      "Requirement already satisfied: pygments>=2.4.0 in /Users/navneev/miniforge3/envs/opensearch-examples/lib/python3.10/site-packages (from ipython) (2.16.1)\n",
      "Requirement already satisfied: stack-data in /Users/navneev/miniforge3/envs/opensearch-examples/lib/python3.10/site-packages (from ipython) (0.6.2)\n",
      "Requirement already satisfied: exceptiongroup in /Users/navneev/miniforge3/envs/opensearch-examples/lib/python3.10/site-packages (from ipython) (1.1.3)\n",
      "Requirement already satisfied: pexpect>4.3 in /Users/navneev/miniforge3/envs/opensearch-examples/lib/python3.10/site-packages (from ipython) (4.8.0)\n",
      "Requirement already satisfied: appnope in /Users/navneev/miniforge3/envs/opensearch-examples/lib/python3.10/site-packages (from ipython) (0.1.3)\n",
      "Requirement already satisfied: ptyprocess>=0.5 in /Users/navneev/miniforge3/envs/opensearch-examples/lib/python3.10/site-packages (from pexpect>4.3->ipython) (0.7.0)\n",
      "Requirement already satisfied: wcwidth in /Users/navneev/miniforge3/envs/opensearch-examples/lib/python3.10/site-packages (from prompt-toolkit!=3.0.37,<3.1.0,>=3.0.30->ipython) (0.2.6)\n",
      "Requirement already satisfied: charset-normalizer<4,>=2 in /Users/navneev/miniforge3/envs/opensearch-examples/lib/python3.10/site-packages (from requests<3.0.0,>=2.4.0->opensearch-py) (3.2.0)\n",
      "Requirement already satisfied: idna<4,>=2.5 in /Users/navneev/miniforge3/envs/opensearch-examples/lib/python3.10/site-packages (from requests<3.0.0,>=2.4.0->opensearch-py) (3.4)\n",
      "Requirement already satisfied: executing>=1.2.0 in /Users/navneev/miniforge3/envs/opensearch-examples/lib/python3.10/site-packages (from stack-data->ipython) (1.2.0)\n",
      "Requirement already satisfied: asttokens>=2.1.0 in /Users/navneev/miniforge3/envs/opensearch-examples/lib/python3.10/site-packages (from stack-data->ipython) (2.4.0)\n",
      "Requirement already satisfied: pure-eval in /Users/navneev/miniforge3/envs/opensearch-examples/lib/python3.10/site-packages (from stack-data->ipython) (0.2.2)\n"
     ]
    }
   ],
   "source": [
    "!pip install --no-cache-dir opensearch-py python-dotenv boto3 tqdm h5py matplotlib ipywidgets jedi ipython\n"
   ]
  },
  {
   "cell_type": "code",
   "execution_count": 123,
   "metadata": {},
   "outputs": [],
   "source": [
    "# For autocomplete use shift+tab\n",
    "%config IPCompleter.greedy=True"
   ]
  },
  {
   "cell_type": "code",
   "execution_count": 124,
   "metadata": {},
   "outputs": [
    {
     "name": "stdout",
     "output_type": "stream",
     "text": [
      "  % Total    % Received % Xferd  Average Speed   Time    Time     Time  Current\n",
      "                                 Dload  Upload   Total   Spent    Left  Speed\n",
      "100   167  100   167    0     0    907      0 --:--:-- --:--:-- --:--:--   959\n",
      "100  500M  100  500M    0     0  11.7M      0  0:00:42  0:00:42 --:--:--  9.8M  0  13.5M      0  0:00:36  0:00:24  0:00:12 11.0M:41  0:00:31  0:00:10 6832k\n"
     ]
    }
   ],
   "source": [
    "# Download the sift-128 dataset\n",
    "!curl -o sift-128-euclidean.hdf5 -L http://ann-benchmarks.com/sift-128-euclidean.hdf5"
   ]
  },
  {
   "cell_type": "code",
   "execution_count": 125,
   "metadata": {
    "collapsed": false,
    "pycharm": {
     "name": "#%%\n"
    }
   },
   "outputs": [
    {
     "name": "stdout",
     "output_type": "stream",
     "text": [
      "Ingest dataset size is : 1000000\n",
      "Queries dataset size is : 10000\n",
      "dataset dimensions is : 128\n"
     ]
    }
   ],
   "source": [
    "# Read Data set\n",
    "import numpy as np\n",
    "import h5py\n",
    "\n",
    "dataset = h5py.File('sift-128-euclidean.hdf5', \"r\")\n",
    "X_TRAIN = np.array(dataset[\"train\"])\n",
    "X_TEST = np.array(dataset[\"test\"])\n",
    "dimension = int(dataset.attrs[\"dimension\"]) if \"dimension\" in dataset.attrs else len(X_TRAIN[0])\n",
    "\n",
    "print(f\"Ingest dataset size is : {len(X_TRAIN)}\")\n",
    "print(f\"Queries dataset size is : {len(X_TEST)}\")\n",
    "print(f\"dataset dimensions is : {dimension}\")"
   ]
  },
  {
   "cell_type": "code",
   "execution_count": 131,
   "metadata": {
    "collapsed": false,
    "pycharm": {
     "name": "#%%\n"
    }
   },
   "outputs": [
    {
     "data": {
      "text/plain": [
       "{'name': '428d6ce63b054e8d1dd55d36eb0ea810',\n",
       " 'cluster_name': '199552501713:go-daddy-xlarge',\n",
       " 'cluster_uuid': 'Sc_tsdMeQ-6R8gdYNCY1FQ',\n",
       " 'version': {'distribution': 'opensearch',\n",
       "  'number': '2.7.0',\n",
       "  'build_type': 'tar',\n",
       "  'build_hash': 'unknown',\n",
       "  'build_date': '2023-08-08T16:51:18.396423063Z',\n",
       "  'build_snapshot': False,\n",
       "  'lucene_version': '9.5.0',\n",
       "  'minimum_wire_compatibility_version': '7.10.0',\n",
       "  'minimum_index_compatibility_version': '7.0.0'},\n",
       " 'tagline': 'The OpenSearch Project: https://opensearch.org/'}"
      ]
     },
     "execution_count": 131,
     "metadata": {},
     "output_type": "execute_result"
    }
   ],
   "source": [
    "from dotenv import load_dotenv\n",
    "from opensearchpy import OpenSearch, RequestsHttpConnection\n",
    "import os\n",
    "\n",
    "\n",
    "res = load_dotenv(\"environment.txt\")\n",
    "\n",
    "OS_HOST = os.getenv('OS_HOST')\n",
    "OS_PORT = os.getenv('OS_PORT')\n",
    "OS_USER = os.getenv('USER_NAME')\n",
    "OS_PASSWORD = os.getenv('PASSWORD')\n",
    "vector_index_name = os.getenv('VECTOR_INDEX_NAME', \"test-vector\")\n",
    "\n",
    "\n",
    "client = OpenSearch(\n",
    "    hosts = [{'host': OS_HOST, 'port': OS_PORT}],\n",
    "    http_compress = True, # enables gzip compression for request bodies\n",
    "    http_auth = (OS_USER, OS_PASSWORD),\n",
    "    use_ssl = True,\n",
    "    verify_certs = True,\n",
    "    connection_class = RequestsHttpConnection,\n",
    "    #timeout=6000,\n",
    "    pool_maxsize = 20\n",
    ")\n",
    "\n",
    "client.info()\n",
    "\n"
   ]
  },
  {
   "cell_type": "code",
   "execution_count": 57,
   "metadata": {
    "collapsed": false,
    "pycharm": {
     "name": "#%%\n"
    }
   },
   "outputs": [
    {
     "name": "stdout",
     "output_type": "stream",
     "text": [
      "vector name from env is : test_vector\n",
      "Deleting the index. Response : {'acknowledged': True}\n",
      "Creating the index. Response : {'acknowledged': True, 'shards_acknowledged': True, 'index': 'test_vector'}\n"
     ]
    }
   ],
   "source": [
    "print(f\"vector name from env is : {vector_index_name}\")\n",
    "\n",
    "index_mappings = {\n",
    "    \"settings\": {\n",
    "        \"number_of_shards\": 1,\n",
    "        \"number_of_replicas\": 0,\n",
    "        #\"refresh_interval\": \"-1\",\n",
    "        \"index\": {\n",
    "          \"knn\": True,\n",
    "          \"knn.algo_param.ef_search\": 128 # Adjust to improve precision. Higher improves recall & precsion but increases latency. Lower degrades recall & precision but improves latency.\n",
    "        }\n",
    "    },\n",
    "    \"mappings\": {\n",
    "        \"properties\": {\n",
    "            \"vec\": {\n",
    "                \"type\": \"knn_vector\",\n",
    "                \"dimension\": dimension,\n",
    "                \"index\": \"true\",\n",
    "                \"method\": {\n",
    "                    \"name\": \"hnsw\",\n",
    "                    \"space_type\": \"l2\", # l2 for SIFT, cosinesimil for typical\n",
    "                    \"engine\": \"nmslib\",\n",
    "                    \"parameters\": {\n",
    "                        \"ef_construction\": 128\n",
    "                    }\n",
    "                }\n",
    "            }\n",
    "        }\n",
    "    }\n",
    "}\n",
    "\n",
    "if client.indices.exists(index=vector_index_name):\n",
    "    response = client.indices.delete(index=vector_index_name)\n",
    "    print(f\"Deleting the index. Response : {response}\")\n",
    "\n",
    "response = client.indices.create(index=vector_index_name, body=index_mappings)\n",
    "print(f\"Creating the index. Response : {response}\")\n",
    "\n"
   ]
  },
  {
   "cell_type": "code",
   "execution_count": 58,
   "metadata": {},
   "outputs": [
    {
     "data": {
      "application/vnd.jupyter.widget-view+json": {
       "model_id": "320d5b7e0de94ce7b98e270f16d2f3fa",
       "version_major": 2,
       "version_minor": 0
      },
      "text/plain": [
       "  0%|          | 0/1000000 [00:00<?, ?it/s]"
      ]
     },
     "metadata": {},
     "output_type": "display_data"
    },
    {
     "name": "stdout",
     "output_type": "stream",
     "text": [
      "Ingestion completed. Total time to ingest = 1092.6282296180725 seconds, average time per document: 0.0010926282296180726\n"
     ]
    }
   ],
   "source": [
    "# ingest data in the index\n",
    "from tqdm.notebook import tqdm\n",
    "from opensearchpy.helpers import bulk\n",
    "import time\n",
    "\n",
    "\n",
    "bulk_size = 1000\n",
    "def dataGen():\n",
    "    for i, vec in enumerate(X_TRAIN):\n",
    "        yield { \"_index\": vector_index_name, \"_id\": str(i + 1), \"vec\": vec.tolist() }\n",
    "\n",
    "data_to_ingest = []\n",
    "total_time_to_ingest = 0.\n",
    "ingest_latency = []\n",
    "for data in tqdm(dataGen(), total=len(X_TRAIN)):\n",
    "    if len(data_to_ingest) == bulk_size:\n",
    "        start = time.time()\n",
    "        (res, errors) = bulk(client, data_to_ingest)\n",
    "        end = time.time()\n",
    "        total_time_to_ingest += (end-start)\n",
    "        ingest_latency.append(end-start)\n",
    "        if len(errors) != 0:\n",
    "            print(errors)\n",
    "            data_to_ingest = []\n",
    "            StopIteration\n",
    "        else:\n",
    "            data_to_ingest = []\n",
    "\n",
    "    if len(data_to_ingest) < bulk_size:\n",
    "        data_to_ingest.append(data)\n",
    "    \n",
    "\n",
    "if len(data_to_ingest) != 0:\n",
    "    start = time.time()\n",
    "    (_, errors) = bulk(client, data_to_ingest)\n",
    "    end = time.time()\n",
    "    total_time_to_ingest += (end-start)\n",
    "    if len(errors) != 0:\n",
    "        print(errors)\n",
    "    else:\n",
    "        data_to_ingest = []\n",
    "\n",
    "print(f\"Ingestion completed. Total time to ingest = {total_time_to_ingest} seconds, average time per document: {total_time_to_ingest/(len(X_TRAIN))}\")\n"
   ]
  },
  {
   "cell_type": "code",
   "execution_count": 62,
   "metadata": {},
   "outputs": [
    {
     "data": {
      "text/plain": [
       "{'_shards': {'total': 1, 'successful': 1, 'failed': 0}}"
      ]
     },
     "execution_count": 62,
     "metadata": {},
     "output_type": "execute_result"
    }
   ],
   "source": [
    "# Refresh the index as we set the refresh interval to -1\n",
    "client.indices.refresh(index=vector_index_name)\n",
    "\n"
   ]
  },
  {
   "cell_type": "code",
   "execution_count": 128,
   "metadata": {},
   "outputs": [
    {
     "name": "stdout",
     "output_type": "stream",
     "text": [
      "green open test_vector ifyr-_kLRgC2wKk9h40dBw 1 0 1000000 0 1.4gb 1.4gb\n",
      "\n",
      "Segments Info After refresh and force merge...\n",
      "{\"_shards\": {\"total\": 1, \"successful\": 1, \"failed\": 0}, \"indices\": {\"test_vector\": {\"shards\": {\"0\": [{\"routing\": {\"state\": \"STARTED\", \"primary\": true, \"node\": \"e1N5crlpTI6LSejpgVckMQ\"}, \"num_committed_segments\": 10, \"num_search_segments\": 10, \"segments\": {\"_0\": {\"generation\": 0, \"num_docs\": 1000, \"deleted_docs\": 0, \"size_in_bytes\": 1556128, \"memory_in_bytes\": 0, \"committed\": true, \"search\": true, \"version\": \"9.5.0\", \"compound\": true, \"attributes\": {\"Lucene90StoredFieldsFormat.mode\": \"BEST_SPEED\"}}, \"_1\": {\"generation\": 1, \"num_docs\": 1000, \"deleted_docs\": 0, \"size_in_bytes\": 1556730, \"memory_in_bytes\": 0, \"committed\": true, \"search\": true, \"version\": \"9.5.0\", \"compound\": true, \"attributes\": {\"Lucene90StoredFieldsFormat.mode\": \"BEST_SPEED\"}}, \"_2\": {\"generation\": 2, \"num_docs\": 1000, \"deleted_docs\": 0, \"size_in_bytes\": 1557526, \"memory_in_bytes\": 0, \"committed\": true, \"search\": true, \"version\": \"9.5.0\", \"compound\": true, \"attributes\": {\"Lucene90StoredFieldsFormat.mode\": \"BEST_SPEED\"}}, \"_3\": {\"generation\": 3, \"num_docs\": 1000, \"deleted_docs\": 0, \"size_in_bytes\": 1558735, \"memory_in_bytes\": 0, \"committed\": true, \"search\": true, \"version\": \"9.5.0\", \"compound\": true, \"attributes\": {\"Lucene90StoredFieldsFormat.mode\": \"BEST_SPEED\"}}, \"_4\": {\"generation\": 4, \"num_docs\": 1000, \"deleted_docs\": 0, \"size_in_bytes\": 1536948, \"memory_in_bytes\": 0, \"committed\": true, \"search\": true, \"version\": \"9.5.0\", \"compound\": true, \"attributes\": {\"Lucene90StoredFieldsFormat.mode\": \"BEST_SPEED\"}}, \"_5\": {\"generation\": 5, \"num_docs\": 1500, \"deleted_docs\": 0, \"size_in_bytes\": 2280023, \"memory_in_bytes\": 0, \"committed\": true, \"search\": true, \"version\": \"9.5.0\", \"compound\": true, \"attributes\": {\"Lucene90StoredFieldsFormat.mode\": \"BEST_SPEED\"}}, \"_6\": {\"generation\": 6, \"num_docs\": 1000, \"deleted_docs\": 0, \"size_in_bytes\": 1520872, \"memory_in_bytes\": 0, \"committed\": true, \"search\": true, \"version\": \"9.5.0\", \"compound\": true, \"attributes\": {\"Lucene90StoredFieldsFormat.mode\": \"BEST_SPEED\"}}, \"_7\": {\"generation\": 7, \"num_docs\": 1000, \"deleted_docs\": 0, \"size_in_bytes\": 1523816, \"memory_in_bytes\": 0, \"committed\": true, \"search\": true, \"version\": \"9.5.0\", \"compound\": true, \"attributes\": {\"Lucene90StoredFieldsFormat.mode\": \"BEST_SPEED\"}}, \"_8\": {\"generation\": 8, \"num_docs\": 820500, \"deleted_docs\": 0, \"size_in_bytes\": 1261063956, \"memory_in_bytes\": 0, \"committed\": true, \"search\": true, \"version\": \"9.5.0\", \"compound\": true, \"attributes\": {\"Lucene90StoredFieldsFormat.mode\": \"BEST_SPEED\"}}, \"_9\": {\"generation\": 9, \"num_docs\": 171000, \"deleted_docs\": 0, \"size_in_bytes\": 262982049, \"memory_in_bytes\": 0, \"committed\": true, \"search\": true, \"version\": \"9.5.0\", \"compound\": true, \"attributes\": {\"Lucene90StoredFieldsFormat.mode\": \"BEST_SPEED\"}}}}]}}}}\n"
     ]
    }
   ],
   "source": [
    "import json\n",
    "# Check index details, you should see 1M documents in the index.\n",
    "print(client.cat.indices(index=vector_index_name))\n",
    "\n",
    "print(\"Segments Info After refresh and force merge...\")\n",
    "print(json.dumps(client.indices.segments(index=vector_index_name)))"
   ]
  },
  {
   "cell_type": "code",
   "execution_count": 129,
   "metadata": {},
   "outputs": [],
   "source": [
    "# Setup for Search\n",
    "import numpy as np\n",
    "from tqdm.notebook import tqdm\n",
    "# search in the index\n",
    "def searchQueryGen(input_array=X_TEST):\n",
    "    for i, vec in enumerate(input_array):\n",
    "        yield {\n",
    "            \"_source\": False, # Don't get the source as this impacts latency\n",
    "            \"size\": 100,\n",
    "            \"query\": {\n",
    "                \"knn\": {\n",
    "                    \"vec\": {\n",
    "                        \"vector\": vec.tolist(),\n",
    "                        \"k\": 100\n",
    "                    }\n",
    "                }\n",
    "            }\n",
    "        }"
   ]
  },
  {
   "cell_type": "code",
   "execution_count": 82,
   "metadata": {},
   "outputs": [
    {
     "data": {
      "application/vnd.jupyter.widget-view+json": {
       "model_id": "06a34cdbdae3493fb7abbe42ab23a3a1",
       "version_major": 2,
       "version_minor": 0
      },
      "text/plain": [
       "  0%|          | 0/10 [00:00<?, ?it/s]"
      ]
     },
     "metadata": {},
     "output_type": "display_data"
    },
    {
     "name": "stdout",
     "output_type": "stream",
     "text": [
      "--- Warmup up the Cluster----\n"
     ]
    }
   ],
   "source": [
    "# Uncomment the below code to optimize the search latency\n",
    "# Run few queries to load the data in cache. We are running 10 queries here to warmup the cluster\n",
    "\n",
    "# X_WARMUP = X_TEST[0:10]\n",
    "# for query in tqdm(searchQueryGen(X_WARMUP), total=len(X_WARMUP)):\n",
    "#     search_response = client.search(body=query, index=vector_index_name, _source=False, docvalue_fields=[\"_id\"], stored_fields=\"_none_\")\n",
    "\n",
    "# print(\"--- Warmuped up the Cluster----\")\n",
    "\n"
   ]
  },
  {
   "cell_type": "code",
   "execution_count": 135,
   "metadata": {},
   "outputs": [
    {
     "data": {
      "application/vnd.jupyter.widget-view+json": {
       "model_id": "008a4c7a7fc34db7b33ed20d8fb09c27",
       "version_major": 2,
       "version_minor": 0
      },
      "text/plain": [
       "  0%|          | 0/10000 [00:00<?, ?it/s]"
      ]
     },
     "metadata": {},
     "output_type": "display_data"
    },
    {
     "ename": "KeyboardInterrupt",
     "evalue": "",
     "output_type": "error",
     "traceback": [
      "\u001b[0;31m---------------------------------------------------------------------------\u001b[0m",
      "\u001b[0;31mKeyboardInterrupt\u001b[0m                         Traceback (most recent call last)",
      "\u001b[1;32m/Users/navneev/workplace/OpenSearchVectorDBExamples/benchmarking/sift-128/sift-128-benchmarking.ipynb Cell 14\u001b[0m line \u001b[0;36m7\n\u001b[1;32m      <a href='vscode-notebook-cell:/Users/navneev/workplace/OpenSearchVectorDBExamples/benchmarking/sift-128/sift-128-benchmarking.ipynb#X11sZmlsZQ%3D%3D?line=4'>5</a>\u001b[0m \u001b[39mfor\u001b[39;00m query \u001b[39min\u001b[39;00m tqdm(searchQueryGen(), total\u001b[39m=\u001b[39m\u001b[39mlen\u001b[39m(X_TEST)):\n\u001b[1;32m      <a href='vscode-notebook-cell:/Users/navneev/workplace/OpenSearchVectorDBExamples/benchmarking/sift-128/sift-128-benchmarking.ipynb#X11sZmlsZQ%3D%3D?line=5'>6</a>\u001b[0m     start \u001b[39m=\u001b[39m time\u001b[39m.\u001b[39mtime()\n\u001b[0;32m----> <a href='vscode-notebook-cell:/Users/navneev/workplace/OpenSearchVectorDBExamples/benchmarking/sift-128/sift-128-benchmarking.ipynb#X11sZmlsZQ%3D%3D?line=6'>7</a>\u001b[0m     search_response \u001b[39m=\u001b[39m client\u001b[39m.\u001b[39;49msearch(body\u001b[39m=\u001b[39;49mquery, index\u001b[39m=\u001b[39;49mvector_index_name, _source\u001b[39m=\u001b[39;49m\u001b[39mFalse\u001b[39;49;00m, docvalue_fields\u001b[39m=\u001b[39;49m[\u001b[39m\"\u001b[39;49m\u001b[39m_id\u001b[39;49m\u001b[39m\"\u001b[39;49m], stored_fields\u001b[39m=\u001b[39;49m\u001b[39m\"\u001b[39;49m\u001b[39m_none_\u001b[39;49m\u001b[39m\"\u001b[39;49m)\n\u001b[1;32m      <a href='vscode-notebook-cell:/Users/navneev/workplace/OpenSearchVectorDBExamples/benchmarking/sift-128/sift-128-benchmarking.ipynb#X11sZmlsZQ%3D%3D?line=7'>8</a>\u001b[0m     end \u001b[39m=\u001b[39m time\u001b[39m.\u001b[39mtime()\n\u001b[1;32m      <a href='vscode-notebook-cell:/Users/navneev/workplace/OpenSearchVectorDBExamples/benchmarking/sift-128/sift-128-benchmarking.ipynb#X11sZmlsZQ%3D%3D?line=8'>9</a>\u001b[0m     search_latency\u001b[39m.\u001b[39mappend(end \u001b[39m-\u001b[39m start)\n",
      "File \u001b[0;32m~/miniforge3/envs/opensearch-examples/lib/python3.10/site-packages/opensearchpy/client/utils.py:179\u001b[0m, in \u001b[0;36mquery_params.<locals>._wrapper.<locals>._wrapped\u001b[0;34m(*args, **kwargs)\u001b[0m\n\u001b[1;32m    176\u001b[0m         \u001b[39mif\u001b[39;00m v \u001b[39mis\u001b[39;00m \u001b[39mnot\u001b[39;00m \u001b[39mNone\u001b[39;00m:\n\u001b[1;32m    177\u001b[0m             params[p] \u001b[39m=\u001b[39m _escape(v)\n\u001b[0;32m--> 179\u001b[0m \u001b[39mreturn\u001b[39;00m func(\u001b[39m*\u001b[39;49margs, params\u001b[39m=\u001b[39;49mparams, headers\u001b[39m=\u001b[39;49mheaders, \u001b[39m*\u001b[39;49m\u001b[39m*\u001b[39;49mkwargs)\n",
      "File \u001b[0;32m~/miniforge3/envs/opensearch-examples/lib/python3.10/site-packages/opensearchpy/client/__init__.py:1553\u001b[0m, in \u001b[0;36mOpenSearch.search\u001b[0;34m(self, body, index, params, headers)\u001b[0m\n\u001b[1;32m   1550\u001b[0m \u001b[39mif\u001b[39;00m \u001b[39m\"\u001b[39m\u001b[39mfrom_\u001b[39m\u001b[39m\"\u001b[39m \u001b[39min\u001b[39;00m params:\n\u001b[1;32m   1551\u001b[0m     params[\u001b[39m\"\u001b[39m\u001b[39mfrom\u001b[39m\u001b[39m\"\u001b[39m] \u001b[39m=\u001b[39m params\u001b[39m.\u001b[39mpop(\u001b[39m\"\u001b[39m\u001b[39mfrom_\u001b[39m\u001b[39m\"\u001b[39m)\n\u001b[0;32m-> 1553\u001b[0m \u001b[39mreturn\u001b[39;00m \u001b[39mself\u001b[39;49m\u001b[39m.\u001b[39;49mtransport\u001b[39m.\u001b[39;49mperform_request(\n\u001b[1;32m   1554\u001b[0m     \u001b[39m\"\u001b[39;49m\u001b[39mPOST\u001b[39;49m\u001b[39m\"\u001b[39;49m,\n\u001b[1;32m   1555\u001b[0m     _make_path(index, \u001b[39m\"\u001b[39;49m\u001b[39m_search\u001b[39;49m\u001b[39m\"\u001b[39;49m),\n\u001b[1;32m   1556\u001b[0m     params\u001b[39m=\u001b[39;49mparams,\n\u001b[1;32m   1557\u001b[0m     headers\u001b[39m=\u001b[39;49mheaders,\n\u001b[1;32m   1558\u001b[0m     body\u001b[39m=\u001b[39;49mbody,\n\u001b[1;32m   1559\u001b[0m )\n",
      "File \u001b[0;32m~/miniforge3/envs/opensearch-examples/lib/python3.10/site-packages/opensearchpy/transport.py:370\u001b[0m, in \u001b[0;36mTransport.perform_request\u001b[0;34m(self, method, url, headers, params, body)\u001b[0m\n\u001b[1;32m    367\u001b[0m connection \u001b[39m=\u001b[39m \u001b[39mself\u001b[39m\u001b[39m.\u001b[39mget_connection()\n\u001b[1;32m    369\u001b[0m \u001b[39mtry\u001b[39;00m:\n\u001b[0;32m--> 370\u001b[0m     status, headers_response, data \u001b[39m=\u001b[39m connection\u001b[39m.\u001b[39;49mperform_request(\n\u001b[1;32m    371\u001b[0m         method,\n\u001b[1;32m    372\u001b[0m         url,\n\u001b[1;32m    373\u001b[0m         params,\n\u001b[1;32m    374\u001b[0m         body,\n\u001b[1;32m    375\u001b[0m         headers\u001b[39m=\u001b[39;49mheaders,\n\u001b[1;32m    376\u001b[0m         ignore\u001b[39m=\u001b[39;49mignore,\n\u001b[1;32m    377\u001b[0m         timeout\u001b[39m=\u001b[39;49mtimeout,\n\u001b[1;32m    378\u001b[0m     )\n\u001b[1;32m    380\u001b[0m     \u001b[39m# Lowercase all the header names for consistency in accessing them.\u001b[39;00m\n\u001b[1;32m    381\u001b[0m     headers_response \u001b[39m=\u001b[39m {\n\u001b[1;32m    382\u001b[0m         header\u001b[39m.\u001b[39mlower(): value \u001b[39mfor\u001b[39;00m header, value \u001b[39min\u001b[39;00m headers_response\u001b[39m.\u001b[39mitems()\n\u001b[1;32m    383\u001b[0m     }\n",
      "File \u001b[0;32m~/miniforge3/envs/opensearch-examples/lib/python3.10/site-packages/opensearchpy/connection/http_requests.py:190\u001b[0m, in \u001b[0;36mRequestsHttpConnection.perform_request\u001b[0;34m(self, method, url, params, body, timeout, allow_redirects, ignore, headers)\u001b[0m\n\u001b[1;32m    188\u001b[0m send_kwargs\u001b[39m.\u001b[39mupdate(settings)\n\u001b[1;32m    189\u001b[0m \u001b[39mtry\u001b[39;00m:\n\u001b[0;32m--> 190\u001b[0m     response \u001b[39m=\u001b[39m \u001b[39mself\u001b[39;49m\u001b[39m.\u001b[39;49msession\u001b[39m.\u001b[39;49msend(prepared_request, \u001b[39m*\u001b[39;49m\u001b[39m*\u001b[39;49msend_kwargs)\n\u001b[1;32m    191\u001b[0m     duration \u001b[39m=\u001b[39m time\u001b[39m.\u001b[39mtime() \u001b[39m-\u001b[39m start\n\u001b[1;32m    192\u001b[0m     raw_data \u001b[39m=\u001b[39m response\u001b[39m.\u001b[39mcontent\u001b[39m.\u001b[39mdecode(\u001b[39m\"\u001b[39m\u001b[39mutf-8\u001b[39m\u001b[39m\"\u001b[39m, \u001b[39m\"\u001b[39m\u001b[39msurrogatepass\u001b[39m\u001b[39m\"\u001b[39m)\n",
      "File \u001b[0;32m~/miniforge3/envs/opensearch-examples/lib/python3.10/site-packages/requests/sessions.py:703\u001b[0m, in \u001b[0;36mSession.send\u001b[0;34m(self, request, **kwargs)\u001b[0m\n\u001b[1;32m    700\u001b[0m start \u001b[39m=\u001b[39m preferred_clock()\n\u001b[1;32m    702\u001b[0m \u001b[39m# Send the request\u001b[39;00m\n\u001b[0;32m--> 703\u001b[0m r \u001b[39m=\u001b[39m adapter\u001b[39m.\u001b[39;49msend(request, \u001b[39m*\u001b[39;49m\u001b[39m*\u001b[39;49mkwargs)\n\u001b[1;32m    705\u001b[0m \u001b[39m# Total elapsed time of the request (approximately)\u001b[39;00m\n\u001b[1;32m    706\u001b[0m elapsed \u001b[39m=\u001b[39m preferred_clock() \u001b[39m-\u001b[39m start\n",
      "File \u001b[0;32m~/miniforge3/envs/opensearch-examples/lib/python3.10/site-packages/requests/adapters.py:486\u001b[0m, in \u001b[0;36mHTTPAdapter.send\u001b[0;34m(self, request, stream, timeout, verify, cert, proxies)\u001b[0m\n\u001b[1;32m    483\u001b[0m     timeout \u001b[39m=\u001b[39m TimeoutSauce(connect\u001b[39m=\u001b[39mtimeout, read\u001b[39m=\u001b[39mtimeout)\n\u001b[1;32m    485\u001b[0m \u001b[39mtry\u001b[39;00m:\n\u001b[0;32m--> 486\u001b[0m     resp \u001b[39m=\u001b[39m conn\u001b[39m.\u001b[39;49murlopen(\n\u001b[1;32m    487\u001b[0m         method\u001b[39m=\u001b[39;49mrequest\u001b[39m.\u001b[39;49mmethod,\n\u001b[1;32m    488\u001b[0m         url\u001b[39m=\u001b[39;49murl,\n\u001b[1;32m    489\u001b[0m         body\u001b[39m=\u001b[39;49mrequest\u001b[39m.\u001b[39;49mbody,\n\u001b[1;32m    490\u001b[0m         headers\u001b[39m=\u001b[39;49mrequest\u001b[39m.\u001b[39;49mheaders,\n\u001b[1;32m    491\u001b[0m         redirect\u001b[39m=\u001b[39;49m\u001b[39mFalse\u001b[39;49;00m,\n\u001b[1;32m    492\u001b[0m         assert_same_host\u001b[39m=\u001b[39;49m\u001b[39mFalse\u001b[39;49;00m,\n\u001b[1;32m    493\u001b[0m         preload_content\u001b[39m=\u001b[39;49m\u001b[39mFalse\u001b[39;49;00m,\n\u001b[1;32m    494\u001b[0m         decode_content\u001b[39m=\u001b[39;49m\u001b[39mFalse\u001b[39;49;00m,\n\u001b[1;32m    495\u001b[0m         retries\u001b[39m=\u001b[39;49m\u001b[39mself\u001b[39;49m\u001b[39m.\u001b[39;49mmax_retries,\n\u001b[1;32m    496\u001b[0m         timeout\u001b[39m=\u001b[39;49mtimeout,\n\u001b[1;32m    497\u001b[0m         chunked\u001b[39m=\u001b[39;49mchunked,\n\u001b[1;32m    498\u001b[0m     )\n\u001b[1;32m    500\u001b[0m \u001b[39mexcept\u001b[39;00m (ProtocolError, \u001b[39mOSError\u001b[39;00m) \u001b[39mas\u001b[39;00m err:\n\u001b[1;32m    501\u001b[0m     \u001b[39mraise\u001b[39;00m \u001b[39mConnectionError\u001b[39;00m(err, request\u001b[39m=\u001b[39mrequest)\n",
      "File \u001b[0;32m~/miniforge3/envs/opensearch-examples/lib/python3.10/site-packages/urllib3/connectionpool.py:790\u001b[0m, in \u001b[0;36mHTTPConnectionPool.urlopen\u001b[0;34m(self, method, url, body, headers, retries, redirect, assert_same_host, timeout, pool_timeout, release_conn, chunked, body_pos, preload_content, decode_content, **response_kw)\u001b[0m\n\u001b[1;32m    787\u001b[0m response_conn \u001b[39m=\u001b[39m conn \u001b[39mif\u001b[39;00m \u001b[39mnot\u001b[39;00m release_conn \u001b[39melse\u001b[39;00m \u001b[39mNone\u001b[39;00m\n\u001b[1;32m    789\u001b[0m \u001b[39m# Make the request on the HTTPConnection object\u001b[39;00m\n\u001b[0;32m--> 790\u001b[0m response \u001b[39m=\u001b[39m \u001b[39mself\u001b[39;49m\u001b[39m.\u001b[39;49m_make_request(\n\u001b[1;32m    791\u001b[0m     conn,\n\u001b[1;32m    792\u001b[0m     method,\n\u001b[1;32m    793\u001b[0m     url,\n\u001b[1;32m    794\u001b[0m     timeout\u001b[39m=\u001b[39;49mtimeout_obj,\n\u001b[1;32m    795\u001b[0m     body\u001b[39m=\u001b[39;49mbody,\n\u001b[1;32m    796\u001b[0m     headers\u001b[39m=\u001b[39;49mheaders,\n\u001b[1;32m    797\u001b[0m     chunked\u001b[39m=\u001b[39;49mchunked,\n\u001b[1;32m    798\u001b[0m     retries\u001b[39m=\u001b[39;49mretries,\n\u001b[1;32m    799\u001b[0m     response_conn\u001b[39m=\u001b[39;49mresponse_conn,\n\u001b[1;32m    800\u001b[0m     preload_content\u001b[39m=\u001b[39;49mpreload_content,\n\u001b[1;32m    801\u001b[0m     decode_content\u001b[39m=\u001b[39;49mdecode_content,\n\u001b[1;32m    802\u001b[0m     \u001b[39m*\u001b[39;49m\u001b[39m*\u001b[39;49mresponse_kw,\n\u001b[1;32m    803\u001b[0m )\n\u001b[1;32m    805\u001b[0m \u001b[39m# Everything went great!\u001b[39;00m\n\u001b[1;32m    806\u001b[0m clean_exit \u001b[39m=\u001b[39m \u001b[39mTrue\u001b[39;00m\n",
      "File \u001b[0;32m~/miniforge3/envs/opensearch-examples/lib/python3.10/site-packages/urllib3/connectionpool.py:536\u001b[0m, in \u001b[0;36mHTTPConnectionPool._make_request\u001b[0;34m(self, conn, method, url, body, headers, retries, timeout, chunked, response_conn, preload_content, decode_content, enforce_content_length)\u001b[0m\n\u001b[1;32m    534\u001b[0m \u001b[39m# Receive the response from the server\u001b[39;00m\n\u001b[1;32m    535\u001b[0m \u001b[39mtry\u001b[39;00m:\n\u001b[0;32m--> 536\u001b[0m     response \u001b[39m=\u001b[39m conn\u001b[39m.\u001b[39;49mgetresponse()\n\u001b[1;32m    537\u001b[0m \u001b[39mexcept\u001b[39;00m (BaseSSLError, \u001b[39mOSError\u001b[39;00m) \u001b[39mas\u001b[39;00m e:\n\u001b[1;32m    538\u001b[0m     \u001b[39mself\u001b[39m\u001b[39m.\u001b[39m_raise_timeout(err\u001b[39m=\u001b[39me, url\u001b[39m=\u001b[39murl, timeout_value\u001b[39m=\u001b[39mread_timeout)\n",
      "File \u001b[0;32m~/miniforge3/envs/opensearch-examples/lib/python3.10/site-packages/urllib3/connection.py:461\u001b[0m, in \u001b[0;36mHTTPConnection.getresponse\u001b[0;34m(self)\u001b[0m\n\u001b[1;32m    458\u001b[0m \u001b[39mfrom\u001b[39;00m \u001b[39m.\u001b[39;00m\u001b[39mresponse\u001b[39;00m \u001b[39mimport\u001b[39;00m HTTPResponse\n\u001b[1;32m    460\u001b[0m \u001b[39m# Get the response from http.client.HTTPConnection\u001b[39;00m\n\u001b[0;32m--> 461\u001b[0m httplib_response \u001b[39m=\u001b[39m \u001b[39msuper\u001b[39;49m()\u001b[39m.\u001b[39;49mgetresponse()\n\u001b[1;32m    463\u001b[0m \u001b[39mtry\u001b[39;00m:\n\u001b[1;32m    464\u001b[0m     assert_header_parsing(httplib_response\u001b[39m.\u001b[39mmsg)\n",
      "File \u001b[0;32m~/miniforge3/envs/opensearch-examples/lib/python3.10/http/client.py:1375\u001b[0m, in \u001b[0;36mHTTPConnection.getresponse\u001b[0;34m(self)\u001b[0m\n\u001b[1;32m   1373\u001b[0m \u001b[39mtry\u001b[39;00m:\n\u001b[1;32m   1374\u001b[0m     \u001b[39mtry\u001b[39;00m:\n\u001b[0;32m-> 1375\u001b[0m         response\u001b[39m.\u001b[39;49mbegin()\n\u001b[1;32m   1376\u001b[0m     \u001b[39mexcept\u001b[39;00m \u001b[39mConnectionError\u001b[39;00m:\n\u001b[1;32m   1377\u001b[0m         \u001b[39mself\u001b[39m\u001b[39m.\u001b[39mclose()\n",
      "File \u001b[0;32m~/miniforge3/envs/opensearch-examples/lib/python3.10/http/client.py:318\u001b[0m, in \u001b[0;36mHTTPResponse.begin\u001b[0;34m(self)\u001b[0m\n\u001b[1;32m    316\u001b[0m \u001b[39m# read until we get a non-100 response\u001b[39;00m\n\u001b[1;32m    317\u001b[0m \u001b[39mwhile\u001b[39;00m \u001b[39mTrue\u001b[39;00m:\n\u001b[0;32m--> 318\u001b[0m     version, status, reason \u001b[39m=\u001b[39m \u001b[39mself\u001b[39;49m\u001b[39m.\u001b[39;49m_read_status()\n\u001b[1;32m    319\u001b[0m     \u001b[39mif\u001b[39;00m status \u001b[39m!=\u001b[39m CONTINUE:\n\u001b[1;32m    320\u001b[0m         \u001b[39mbreak\u001b[39;00m\n",
      "File \u001b[0;32m~/miniforge3/envs/opensearch-examples/lib/python3.10/http/client.py:279\u001b[0m, in \u001b[0;36mHTTPResponse._read_status\u001b[0;34m(self)\u001b[0m\n\u001b[1;32m    278\u001b[0m \u001b[39mdef\u001b[39;00m \u001b[39m_read_status\u001b[39m(\u001b[39mself\u001b[39m):\n\u001b[0;32m--> 279\u001b[0m     line \u001b[39m=\u001b[39m \u001b[39mstr\u001b[39m(\u001b[39mself\u001b[39;49m\u001b[39m.\u001b[39;49mfp\u001b[39m.\u001b[39;49mreadline(_MAXLINE \u001b[39m+\u001b[39;49m \u001b[39m1\u001b[39;49m), \u001b[39m\"\u001b[39m\u001b[39miso-8859-1\u001b[39m\u001b[39m\"\u001b[39m)\n\u001b[1;32m    280\u001b[0m     \u001b[39mif\u001b[39;00m \u001b[39mlen\u001b[39m(line) \u001b[39m>\u001b[39m _MAXLINE:\n\u001b[1;32m    281\u001b[0m         \u001b[39mraise\u001b[39;00m LineTooLong(\u001b[39m\"\u001b[39m\u001b[39mstatus line\u001b[39m\u001b[39m\"\u001b[39m)\n",
      "File \u001b[0;32m~/miniforge3/envs/opensearch-examples/lib/python3.10/socket.py:705\u001b[0m, in \u001b[0;36mSocketIO.readinto\u001b[0;34m(self, b)\u001b[0m\n\u001b[1;32m    703\u001b[0m \u001b[39mwhile\u001b[39;00m \u001b[39mTrue\u001b[39;00m:\n\u001b[1;32m    704\u001b[0m     \u001b[39mtry\u001b[39;00m:\n\u001b[0;32m--> 705\u001b[0m         \u001b[39mreturn\u001b[39;00m \u001b[39mself\u001b[39;49m\u001b[39m.\u001b[39;49m_sock\u001b[39m.\u001b[39;49mrecv_into(b)\n\u001b[1;32m    706\u001b[0m     \u001b[39mexcept\u001b[39;00m timeout:\n\u001b[1;32m    707\u001b[0m         \u001b[39mself\u001b[39m\u001b[39m.\u001b[39m_timeout_occurred \u001b[39m=\u001b[39m \u001b[39mTrue\u001b[39;00m\n",
      "File \u001b[0;32m~/miniforge3/envs/opensearch-examples/lib/python3.10/ssl.py:1274\u001b[0m, in \u001b[0;36mSSLSocket.recv_into\u001b[0;34m(self, buffer, nbytes, flags)\u001b[0m\n\u001b[1;32m   1270\u001b[0m     \u001b[39mif\u001b[39;00m flags \u001b[39m!=\u001b[39m \u001b[39m0\u001b[39m:\n\u001b[1;32m   1271\u001b[0m         \u001b[39mraise\u001b[39;00m \u001b[39mValueError\u001b[39;00m(\n\u001b[1;32m   1272\u001b[0m           \u001b[39m\"\u001b[39m\u001b[39mnon-zero flags not allowed in calls to recv_into() on \u001b[39m\u001b[39m%s\u001b[39;00m\u001b[39m\"\u001b[39m \u001b[39m%\u001b[39m\n\u001b[1;32m   1273\u001b[0m           \u001b[39mself\u001b[39m\u001b[39m.\u001b[39m\u001b[39m__class__\u001b[39m)\n\u001b[0;32m-> 1274\u001b[0m     \u001b[39mreturn\u001b[39;00m \u001b[39mself\u001b[39;49m\u001b[39m.\u001b[39;49mread(nbytes, buffer)\n\u001b[1;32m   1275\u001b[0m \u001b[39melse\u001b[39;00m:\n\u001b[1;32m   1276\u001b[0m     \u001b[39mreturn\u001b[39;00m \u001b[39msuper\u001b[39m()\u001b[39m.\u001b[39mrecv_into(buffer, nbytes, flags)\n",
      "File \u001b[0;32m~/miniforge3/envs/opensearch-examples/lib/python3.10/ssl.py:1130\u001b[0m, in \u001b[0;36mSSLSocket.read\u001b[0;34m(self, len, buffer)\u001b[0m\n\u001b[1;32m   1128\u001b[0m \u001b[39mtry\u001b[39;00m:\n\u001b[1;32m   1129\u001b[0m     \u001b[39mif\u001b[39;00m buffer \u001b[39mis\u001b[39;00m \u001b[39mnot\u001b[39;00m \u001b[39mNone\u001b[39;00m:\n\u001b[0;32m-> 1130\u001b[0m         \u001b[39mreturn\u001b[39;00m \u001b[39mself\u001b[39;49m\u001b[39m.\u001b[39;49m_sslobj\u001b[39m.\u001b[39;49mread(\u001b[39mlen\u001b[39;49m, buffer)\n\u001b[1;32m   1131\u001b[0m     \u001b[39melse\u001b[39;00m:\n\u001b[1;32m   1132\u001b[0m         \u001b[39mreturn\u001b[39;00m \u001b[39mself\u001b[39m\u001b[39m.\u001b[39m_sslobj\u001b[39m.\u001b[39mread(\u001b[39mlen\u001b[39m)\n",
      "\u001b[0;31mKeyboardInterrupt\u001b[0m: "
     ]
    }
   ],
   "source": [
    "#\n",
    "neighbors_lists = []\n",
    "search_latency = []\n",
    "took_time = []\n",
    "for query in tqdm(searchQueryGen(), total=len(X_TEST)):\n",
    "    start = time.time()\n",
    "    search_response = client.search(body=query, index=vector_index_name, _source=False, docvalue_fields=[\"_id\"], stored_fields=\"_none_\")\n",
    "    end = time.time()\n",
    "    search_latency.append(end - start)\n",
    "    took_time.append(search_response[\"took\"])\n",
    "    search_hits = search_response['hits']['hits']\n",
    "    search_neighbors = [int(hit[\"fields\"][\"_id\"][0]) for hit in search_hits]\n",
    "    neighbors_lists.append(search_neighbors)\n",
    "\n",
    "print(f\"\\n\\naverage Latency(ms): {np.average(search_latency) *1000}\") \n",
    "print(f\"p50 Latency(ms): {np.percentile(search_latency, 50) *1000}\") \n",
    "print(f\"p90 Latency(ms): {np.percentile(search_latency, 90) *1000}\")\n",
    "print(f\"p99 Latency(ms): {np.percentile(search_latency, 99) *1000}\")\n",
    "\n",
    "print(f\"average took_time(ms): {np.average(took_time)}\") \n",
    "print(f\"p50 took_time(ms): {np.percentile(took_time, 50)}\") \n",
    "print(f\"p90 took_time(ms): {np.percentile(took_time, 90)}\")\n",
    "print(f\"p90 took_time(ms): {np.percentile(took_time, 99)}\")\n",
    "\n"
   ]
  },
  {
   "cell_type": "code",
   "execution_count": 71,
   "metadata": {},
   "outputs": [
    {
     "name": "stdout",
     "output_type": "stream",
     "text": [
      "========================== Search Metrics ===================================\n",
      "\n",
      "\n",
      "average Latency(ms): 114.25395605564118\n",
      "p50 Latency(ms): 109.2754602432251\n",
      "p90 Latency(ms): 125.4896640777588\n",
      "p99 Latency(ms): 179.84636783599856\n",
      "average took_time(ms): 3.3558\n",
      "p50 took_time(ms): 3.0\n",
      "p90 took_time(ms): 4.0\n",
      "p90 took_time(ms): 4.0\n"
     ]
    }
   ],
   "source": [
    "# Useful Metrics\n",
    "print(\"========================== Search Metrics ===================================\")\n",
    "print(\"========================== Server Side Latency ===================================\")\n",
    "print(f\"average took_time(ms): {np.average(took_time)}\") \n",
    "print(f\"p50 took_time(ms): {np.percentile(took_time, 50)}\") \n",
    "print(f\"p90 took_time(ms): {np.percentile(took_time, 90)}\")\n",
    "print(f\"p90 took_time(ms): {np.percentile(took_time, 99)}\")\n",
    "\n",
    "\n",
    "print(\"========================== Client side latency ===================================\")\n",
    "print(f\"\\n\\naverage Latency(ms): {np.average(search_latency) *1000}\") \n",
    "print(f\"p50 Latency(ms): {np.percentile(search_latency, 50) *1000}\") \n",
    "print(f\"p90 Latency(ms): {np.percentile(search_latency, 90) *1000}\")\n",
    "print(f\"p99 Latency(ms): {np.percentile(search_latency, 99) *1000}\")\n",
    "\n",
    "\n"
   ]
  },
  {
   "cell_type": "code",
   "execution_count": null,
   "metadata": {},
   "outputs": [],
   "source": [
    "# Parallelization for Ingest\n"
   ]
  },
  {
   "cell_type": "code",
   "execution_count": 142,
   "metadata": {},
   "outputs": [
    {
     "name": "stdout",
     "output_type": "stream",
     "text": [
      "10000\n",
      "10000\n",
      "client_number : 1, query: 10000\n"
     ]
    },
    {
     "ename": "KeyboardInterrupt",
     "evalue": "",
     "output_type": "error",
     "traceback": [
      "\u001b[0;31m---------------------------------------------------------------------------\u001b[0m",
      "\u001b[0;31mKeyboardInterrupt\u001b[0m                         Traceback (most recent call last)",
      "\u001b[1;32m/Users/navneev/workplace/OpenSearchVectorDBExamples/benchmarking/sift-128/sift-128-benchmarking.ipynb Cell 17\u001b[0m line \u001b[0;36m7\n\u001b[1;32m     <a href='vscode-notebook-cell:/Users/navneev/workplace/OpenSearchVectorDBExamples/benchmarking/sift-128/sift-128-benchmarking.ipynb#X30sZmlsZQ%3D%3D?line=71'>72</a>\u001b[0m \u001b[39mwith\u001b[39;00m ctx\u001b[39m.\u001b[39mPool(clients) \u001b[39mas\u001b[39;00m pool:\n\u001b[1;32m     <a href='vscode-notebook-cell:/Users/navneev/workplace/OpenSearchVectorDBExamples/benchmarking/sift-128/sift-128-benchmarking.ipynb#X30sZmlsZQ%3D%3D?line=72'>73</a>\u001b[0m     query_arg_tuple \u001b[39m=\u001b[39m [(idx \u001b[39m+\u001b[39m \u001b[39m1\u001b[39m, queries[idx]) \u001b[39mfor\u001b[39;00m idx \u001b[39min\u001b[39;00m \u001b[39mrange\u001b[39m(clients)]\n\u001b[0;32m---> <a href='vscode-notebook-cell:/Users/navneev/workplace/OpenSearchVectorDBExamples/benchmarking/sift-128/sift-128-benchmarking.ipynb#X30sZmlsZQ%3D%3D?line=73'>74</a>\u001b[0m     queries_response \u001b[39m=\u001b[39m \u001b[39mlist\u001b[39m(pool\u001b[39m.\u001b[39;49mstarmap(run_search, query_arg_tuple))\n\u001b[1;32m     <a href='vscode-notebook-cell:/Users/navneev/workplace/OpenSearchVectorDBExamples/benchmarking/sift-128/sift-128-benchmarking.ipynb#X30sZmlsZQ%3D%3D?line=74'>75</a>\u001b[0m \u001b[39mfor\u001b[39;00m future \u001b[39min\u001b[39;00m queries_response:\n\u001b[1;32m     <a href='vscode-notebook-cell:/Users/navneev/workplace/OpenSearchVectorDBExamples/benchmarking/sift-128/sift-128-benchmarking.ipynb#X30sZmlsZQ%3D%3D?line=75'>76</a>\u001b[0m     search_latency \u001b[39m=\u001b[39m future\n",
      "File \u001b[0;32m~/miniforge3/envs/opensearch-examples/lib/python3.10/multiprocessing/pool.py:375\u001b[0m, in \u001b[0;36mPool.starmap\u001b[0;34m(self, func, iterable, chunksize)\u001b[0m\n\u001b[1;32m    369\u001b[0m \u001b[39mdef\u001b[39;00m \u001b[39mstarmap\u001b[39m(\u001b[39mself\u001b[39m, func, iterable, chunksize\u001b[39m=\u001b[39m\u001b[39mNone\u001b[39;00m):\n\u001b[1;32m    370\u001b[0m \u001b[39m    \u001b[39m\u001b[39m'''\u001b[39;00m\n\u001b[1;32m    371\u001b[0m \u001b[39m    Like `map()` method but the elements of the `iterable` are expected to\u001b[39;00m\n\u001b[1;32m    372\u001b[0m \u001b[39m    be iterables as well and will be unpacked as arguments. Hence\u001b[39;00m\n\u001b[1;32m    373\u001b[0m \u001b[39m    `func` and (a, b) becomes func(a, b).\u001b[39;00m\n\u001b[1;32m    374\u001b[0m \u001b[39m    '''\u001b[39;00m\n\u001b[0;32m--> 375\u001b[0m     \u001b[39mreturn\u001b[39;00m \u001b[39mself\u001b[39;49m\u001b[39m.\u001b[39;49m_map_async(func, iterable, starmapstar, chunksize)\u001b[39m.\u001b[39;49mget()\n",
      "File \u001b[0;32m~/miniforge3/envs/opensearch-examples/lib/python3.10/multiprocessing/pool.py:768\u001b[0m, in \u001b[0;36mApplyResult.get\u001b[0;34m(self, timeout)\u001b[0m\n\u001b[1;32m    767\u001b[0m \u001b[39mdef\u001b[39;00m \u001b[39mget\u001b[39m(\u001b[39mself\u001b[39m, timeout\u001b[39m=\u001b[39m\u001b[39mNone\u001b[39;00m):\n\u001b[0;32m--> 768\u001b[0m     \u001b[39mself\u001b[39;49m\u001b[39m.\u001b[39;49mwait(timeout)\n\u001b[1;32m    769\u001b[0m     \u001b[39mif\u001b[39;00m \u001b[39mnot\u001b[39;00m \u001b[39mself\u001b[39m\u001b[39m.\u001b[39mready():\n\u001b[1;32m    770\u001b[0m         \u001b[39mraise\u001b[39;00m \u001b[39mTimeoutError\u001b[39;00m\n",
      "File \u001b[0;32m~/miniforge3/envs/opensearch-examples/lib/python3.10/multiprocessing/pool.py:765\u001b[0m, in \u001b[0;36mApplyResult.wait\u001b[0;34m(self, timeout)\u001b[0m\n\u001b[1;32m    764\u001b[0m \u001b[39mdef\u001b[39;00m \u001b[39mwait\u001b[39m(\u001b[39mself\u001b[39m, timeout\u001b[39m=\u001b[39m\u001b[39mNone\u001b[39;00m):\n\u001b[0;32m--> 765\u001b[0m     \u001b[39mself\u001b[39;49m\u001b[39m.\u001b[39;49m_event\u001b[39m.\u001b[39;49mwait(timeout)\n",
      "File \u001b[0;32m~/miniforge3/envs/opensearch-examples/lib/python3.10/threading.py:607\u001b[0m, in \u001b[0;36mEvent.wait\u001b[0;34m(self, timeout)\u001b[0m\n\u001b[1;32m    605\u001b[0m signaled \u001b[39m=\u001b[39m \u001b[39mself\u001b[39m\u001b[39m.\u001b[39m_flag\n\u001b[1;32m    606\u001b[0m \u001b[39mif\u001b[39;00m \u001b[39mnot\u001b[39;00m signaled:\n\u001b[0;32m--> 607\u001b[0m     signaled \u001b[39m=\u001b[39m \u001b[39mself\u001b[39;49m\u001b[39m.\u001b[39;49m_cond\u001b[39m.\u001b[39;49mwait(timeout)\n\u001b[1;32m    608\u001b[0m \u001b[39mreturn\u001b[39;00m signaled\n",
      "File \u001b[0;32m~/miniforge3/envs/opensearch-examples/lib/python3.10/threading.py:320\u001b[0m, in \u001b[0;36mCondition.wait\u001b[0;34m(self, timeout)\u001b[0m\n\u001b[1;32m    318\u001b[0m \u001b[39mtry\u001b[39;00m:    \u001b[39m# restore state no matter what (e.g., KeyboardInterrupt)\u001b[39;00m\n\u001b[1;32m    319\u001b[0m     \u001b[39mif\u001b[39;00m timeout \u001b[39mis\u001b[39;00m \u001b[39mNone\u001b[39;00m:\n\u001b[0;32m--> 320\u001b[0m         waiter\u001b[39m.\u001b[39;49macquire()\n\u001b[1;32m    321\u001b[0m         gotit \u001b[39m=\u001b[39m \u001b[39mTrue\u001b[39;00m\n\u001b[1;32m    322\u001b[0m     \u001b[39melse\u001b[39;00m:\n",
      "\u001b[0;31mKeyboardInterrupt\u001b[0m: "
     ]
    }
   ],
   "source": [
    "# Parallelization for Search\n",
    "import multiprocessing.pool\n",
    "\n",
    "\n",
    "def run_search(client_number, query_list):\n",
    "    neighbors_lists = []\n",
    "    search_latency = []\n",
    "    took_time = []\n",
    "    print(f\"client_number : {client_number}, query: {len(query_list)}\")\n",
    "    c = OpenSearch(\n",
    "        hosts = [{'host': OS_HOST, 'port': OS_PORT}],\n",
    "        http_compress = True, # enables gzip compression for request bodies\n",
    "        http_auth = (OS_USER, OS_PASSWORD),\n",
    "        use_ssl = True,\n",
    "        verify_certs = True,\n",
    "        connection_class = RequestsHttpConnection,\n",
    "        #timeout=6000,\n",
    "        pool_maxsize = 20\n",
    "    )\n",
    "\n",
    "    c.info()\n",
    "\n",
    "    \n",
    "    for query in tqdm(query_list):\n",
    "        query_body = {\n",
    "            \"size\": 100,\n",
    "            \"query\": {\n",
    "                \"knn\": {\n",
    "                    \"vec\": {\n",
    "                        \"vector\": query.tolist(),\n",
    "                        \"k\": 100\n",
    "                    }\n",
    "                }\n",
    "            }\n",
    "        }\n",
    "        #print(query_body)\n",
    "        start = time.time()\n",
    "        #print(query_body)\n",
    "        search_response = c.search(body=query_body, index=vector_index_name, _source=False, docvalue_fields=[\"_id\"], stored_fields=\"_none_\")\n",
    "        #print(query_body)\n",
    "        end = time.time()\n",
    "        # search_latency.append(end - start)\n",
    "        # took_time.append(search_response[\"took\"])\n",
    "        # search_hits = search_response['hits']['hits']\n",
    "        # search_neighbors = [int(hit[\"fields\"][\"_id\"][0]) for hit in search_hits]\n",
    "        # neighbors_lists.append(search_neighbors)\n",
    "    return true\n",
    "        \n",
    "\n",
    "clients = 1\n",
    "\n",
    "queries_per_client = len(X_TEST)//clients\n",
    "\n",
    "print(len(X_TEST))\n",
    "print(queries_per_client)\n",
    "\n",
    "\n",
    "queries = []\n",
    "batch = []\n",
    "i = 0\n",
    "for query in X_TEST:\n",
    "    i = i + 1\n",
    "    if len(batch) == queries_per_client:\n",
    "        queries.append(batch)\n",
    "        batch = []\n",
    "    batch.append(query)\n",
    "# Put the last batch of queries\n",
    "queries.append(batch)\n",
    "\n",
    "\n",
    "ctx = multiprocessing.get_context(\"fork\")\n",
    "with ctx.Pool(clients) as pool:\n",
    "    query_arg_tuple = [(idx + 1, queries[idx]) for idx in range(clients)]\n",
    "    queries_response = list(pool.starmap(run_search, query_arg_tuple))\n",
    "for future in queries_response:\n",
    "    search_latency = future\n",
    "\n"
   ]
  }
 ],
 "metadata": {
  "kernelspec": {
   "display_name": "Python 3 (ipykernel)",
   "language": "python",
   "name": "python3"
  },
  "language_info": {
   "codemirror_mode": {
    "name": "ipython",
    "version": 3
   },
   "file_extension": ".py",
   "mimetype": "text/x-python",
   "name": "python",
   "nbconvert_exporter": "python",
   "pygments_lexer": "ipython3",
   "version": "3.10.12"
  }
 },
 "nbformat": 4,
 "nbformat_minor": 4
}
